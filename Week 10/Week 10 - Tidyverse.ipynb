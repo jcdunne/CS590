{
 "cells": [
  {
   "cell_type": "markdown",
   "metadata": {},
   "source": [
    "![](logo.png)"
   ]
  },
  {
   "cell_type": "markdown",
   "metadata": {},
   "source": [
    "# <font color='red'>Introduction to Tidyverse</font>\n",
    "\n",
    "This is a brief introduction to Tidyverse. Mainly, an introduction to the following packages:\n",
    "\n",
    "> ### dplyr\n",
    "> ### tidyr\n",
    "\n",
    "Other packages within the Tidyverse world to explore include:\n",
    "\n",
    "> ### ggplot2 (Covered in data visualizations)\n",
    "> ### readr\n",
    "> ### purrr\n",
    "> ### tibble\n",
    "> ### stringr\n",
    "> ### forcats\n",
    "\n",
    "To learn more about these packages, please visit the [Tidyverse](https://www.tidyverse.org/packages/) packages page."
   ]
  },
  {
   "cell_type": "markdown",
   "metadata": {},
   "source": [
    "# <font color='red'>dplyr() package</font>\n",
    "\n",
    "We'll be covering the following functions:\n",
    "\n",
    "filter() (and slice())\n",
    "<br>arrange()\n",
    "<br>select() (and rename())\n",
    "<br>distinct()\n",
    "<br>mutate() (and transmute())\n",
    "<br>summarise()\n",
    "<br>sample_n() and sample_frac()"
   ]
  },
  {
   "cell_type": "markdown",
   "metadata": {},
   "source": [
    "## Installing\n",
    "You can install dplyr using"
   ]
  },
  {
   "cell_type": "code",
   "execution_count": null,
   "metadata": {},
   "outputs": [],
   "source": [
    "install.packages('dplyr')"
   ]
  },
  {
   "cell_type": "code",
   "execution_count": null,
   "metadata": {},
   "outputs": [],
   "source": [
    "# Run it using\n",
    "library(dplyr)"
   ]
  },
  {
   "cell_type": "markdown",
   "metadata": {},
   "source": [
    "## Example Data\n",
    "Let's use some flight data for our examples. We'll download the nycflights13 data package:"
   ]
  },
  {
   "cell_type": "code",
   "execution_count": null,
   "metadata": {},
   "outputs": [],
   "source": [
    "install.packages('nycflights13',repos = 'http://cran.us.r-project.org')"
   ]
  },
  {
   "cell_type": "code",
   "execution_count": null,
   "metadata": {},
   "outputs": [],
   "source": [
    "library(nycflights13)\n",
    "summary(flights)"
   ]
  },
  {
   "cell_type": "code",
   "execution_count": null,
   "metadata": {},
   "outputs": [],
   "source": [
    "# Notice how large the data frame is:\n",
    "dim(flights)"
   ]
  },
  {
   "cell_type": "markdown",
   "metadata": {},
   "source": [
    "## filter()\n",
    "filter() allows you to select a subset of rows in a data frame. The first argument is the name of the data frame. The second and subsequent arguments are the expressions that filter the data frame:\n",
    "\n",
    "For example, we can select all flights on November 3rd that were from American Airlines (AA) with:"
   ]
  },
  {
   "cell_type": "code",
   "execution_count": null,
   "metadata": {},
   "outputs": [],
   "source": [
    "head(filter(flights,month==11,day==3,carrier=='AA'))"
   ]
  },
  {
   "cell_type": "markdown",
   "metadata": {},
   "source": [
    "This is a lot simpler than the normal way to do this with a dataframe:"
   ]
  },
  {
   "cell_type": "code",
   "execution_count": null,
   "metadata": {},
   "outputs": [],
   "source": [
    "head(flights[flights$month == 11 & flights$day == 3 & flights$carrier == 'AA', ])"
   ]
  },
  {
   "cell_type": "markdown",
   "metadata": {},
   "source": [
    "## slice()\n",
    "We can select rows by position using slice()"
   ]
  },
  {
   "cell_type": "code",
   "execution_count": null,
   "metadata": {},
   "outputs": [],
   "source": [
    "slice(flights, 1:10)"
   ]
  },
  {
   "cell_type": "markdown",
   "metadata": {},
   "source": [
    "## arrange()\n",
    "arrange() works similarly to filter() except that instead of filtering or selecting rows, it reorders them. It takes a data frame, and a set of column names (or more complicated expressions) to order by. If you provide more than one column name, each additional column will be used to break ties in the values of preceding columns:"
   ]
  },
  {
   "cell_type": "code",
   "execution_count": null,
   "metadata": {},
   "outputs": [],
   "source": [
    "head(arrange(flights,year,month,day,air_time))"
   ]
  },
  {
   "cell_type": "markdown",
   "metadata": {},
   "source": [
    "You can add desc() to arrange in descending order:"
   ]
  },
  {
   "cell_type": "code",
   "execution_count": null,
   "metadata": {},
   "outputs": [],
   "source": [
    "head(arrange(flights,desc(dep_delay)))"
   ]
  },
  {
   "cell_type": "markdown",
   "metadata": {},
   "source": [
    "## select()\n",
    "Often you work with large datasets with many columns but only a few are actually of interest to you. select() allows you to rapidly zoom in on a useful subset using operations that usually only work on numeric variable positions:"
   ]
  },
  {
   "cell_type": "code",
   "execution_count": null,
   "metadata": {},
   "outputs": [],
   "source": [
    "head(select(flights,carrier))"
   ]
  },
  {
   "cell_type": "markdown",
   "metadata": {},
   "source": [
    "## rename()\n",
    "You can use rename() to rename columns, note this is not \"in-place\" you'll need to reassign the renamed data structures."
   ]
  },
  {
   "cell_type": "code",
   "execution_count": null,
   "metadata": {},
   "outputs": [],
   "source": [
    "head(rename(flights,airline_car = carrier))"
   ]
  },
  {
   "cell_type": "markdown",
   "metadata": {},
   "source": [
    "## distinct()\n",
    "A common use of select() is to find the values of a set of variables. This is particularly useful in conjunction with the distinct() verb which only returns the unique values in a table."
   ]
  },
  {
   "cell_type": "code",
   "execution_count": null,
   "metadata": {},
   "outputs": [],
   "source": [
    "distinct(select(flights,carrier))"
   ]
  },
  {
   "cell_type": "markdown",
   "metadata": {},
   "source": [
    "## mutate()\n",
    "Besides selecting sets of existing columns, it’s often useful to add new columns that are functions of existing columns. This is the job of mutate():"
   ]
  },
  {
   "cell_type": "code",
   "execution_count": null,
   "metadata": {},
   "outputs": [],
   "source": [
    "head(mutate(flights, new_col = arr_delay-dep_delay))"
   ]
  },
  {
   "cell_type": "markdown",
   "metadata": {},
   "source": [
    "## transmute()\n",
    "Use transmute if you only want the new columns:"
   ]
  },
  {
   "cell_type": "code",
   "execution_count": null,
   "metadata": {},
   "outputs": [],
   "source": [
    "head(transmute(flights, new_col = arr_delay-dep_delay))"
   ]
  },
  {
   "cell_type": "markdown",
   "metadata": {},
   "source": [
    "## summarise()\n",
    "You can use summarise() to quickly collapse data frames into single rows using functions that aggregate results. Remember to use na.rm=TRUE to remove NA values."
   ]
  },
  {
   "cell_type": "code",
   "execution_count": null,
   "metadata": {},
   "outputs": [],
   "source": [
    "summarise(flights,avg_air_time=mean(air_time,na.rm=TRUE))"
   ]
  },
  {
   "cell_type": "markdown",
   "metadata": {},
   "source": [
    "## sample_n() and sample_frac()\n",
    "You can use sample_n() and sample_frac() to take a random sample of rows: use sample_n() for a fixed number and sample_frac() for a fixed fraction."
   ]
  },
  {
   "cell_type": "code",
   "execution_count": null,
   "metadata": {},
   "outputs": [],
   "source": [
    "sample_n(flights,10)"
   ]
  },
  {
   "cell_type": "code",
   "execution_count": null,
   "metadata": {},
   "outputs": [],
   "source": [
    "# .005% of the data\n",
    "sample_frac(flights,0.00005) # USE replace=TRUE for bootstrap sampling"
   ]
  },
  {
   "cell_type": "markdown",
   "metadata": {},
   "source": [
    "# <font color='red'>tidyr() package</font>\n",
    "\n",
    "Now that we've learned about dplyr we can begin to learn about tidyr which is a complementary package that will help us create tidy data sets. So what do we mean when we say \"tidy data\"?\n",
    "\n",
    "Tidy data is when we have a data set where every row is an observation and every column is a variable, this way the data is organized in such a way where every cell is a value for a specific variable of a specific observation. Having your data in this format will help build an understanding of your data and allow you to analyze or visualize it quickly and efficiently.\n",
    "\n",
    "After viewing this lecture, you can reference this handy cheatsheet on [data wrangling](https://rstudio.com/wp-content/uploads/2015/02/data-wrangling-cheatsheet.pdf)"
   ]
  },
  {
   "cell_type": "markdown",
   "metadata": {},
   "source": [
    "## Installing tidyr"
   ]
  },
  {
   "cell_type": "code",
   "execution_count": null,
   "metadata": {},
   "outputs": [],
   "source": [
    "install.packages('tidyr',repos = 'http://cran.us.r-project.org')"
   ]
  },
  {
   "cell_type": "code",
   "execution_count": null,
   "metadata": {},
   "outputs": [],
   "source": [
    "library(tidyr)\n",
    "library(data.table)"
   ]
  },
  {
   "cell_type": "markdown",
   "metadata": {},
   "source": [
    "## Data.frames versus data.tables\n",
    "All data.tables are also data.frames. Loosely speaking, you can think of data.tables as data.frames with extra features.\n",
    "\n",
    "data.frame is part of base R.\n",
    "\n",
    "data.table is a package that extends data.frames. Two of its most notable features are speed and cleaner syntax.\n",
    "\n",
    "However, that syntax for a data.table is different from the standard R syntax for data.frame while being hard for the untrained eye to distinguish at a glance. Therefore, if you read a code snippet and there is no other context to indicate you are working with data.tables and try to apply the code to a data.frame it may fail or produce unexpected results.\n",
    "\n",
    "So what are some of the practical differences? Here are a few:\n",
    "\n",
    "* Much faster and very intuitive by operations\n",
    "* You won't accidentally print out a huge data.frame with the need to press Ctrl-C, data.table prevents this sort of accident\n",
    "* Faster and better file reading with fread\n",
    "* The package also provides a number of other utility functions, like %between% or rbindlist that make life better\n",
    "* Pretty much faster for a lot of basic operations, since a lot of data.frame operations copy the entire thing needlessly\n",
    "\n",
    "## Using tidyr\n",
    "\n",
    "We'll cover some of the most useful functions in tidyr. Including the following:\n",
    "\n",
    "gather()\n",
    "<br>spread()\n",
    "<br>separate()\n",
    "<br>unite()\n",
    "\n",
    "Which basically perform the following actions:"
   ]
  },
  {
   "cell_type": "markdown",
   "metadata": {},
   "source": [
    "![](tidyr)"
   ]
  },
  {
   "cell_type": "markdown",
   "metadata": {},
   "source": [
    "![](tidyr.png)"
   ]
  },
  {
   "cell_type": "markdown",
   "metadata": {},
   "source": [
    "## Example Data Set\n",
    "Let's create some fake data that needs to be cleaned using tidyr"
   ]
  },
  {
   "cell_type": "code",
   "execution_count": null,
   "metadata": {},
   "outputs": [],
   "source": [
    "comp <- c(1,1,1,2,2,2,3,3,3)\n",
    "yr <- c(1998,1999,2000,1998,1999,2000,1998,1999,2000)\n",
    "q1 <- runif(9, min=0, max=100)\n",
    "q2 <- runif(9, min=0, max=100)\n",
    "q3 <- runif(9, min=0, max=100)\n",
    "q4 <- runif(9, min=0, max=100)\n",
    "\n",
    "df <- data.frame(comp=comp,year=yr,Qtr1 = q1,Qtr2 = q2,Qtr3 = q3,Qtr4 = q4)"
   ]
  },
  {
   "cell_type": "code",
   "execution_count": null,
   "metadata": {},
   "outputs": [],
   "source": [
    "df"
   ]
  },
  {
   "cell_type": "markdown",
   "metadata": {},
   "source": [
    "## Gather() and Spread()\n",
    "Sometimes people like to think of these operations as analogous to pivot tables in excel, let's see some examples of how to use them:\n",
    "\n",
    "## gather()\n",
    "The gather() function will collapse multiple columns into key-pair values. The data frame above is considered wide since the time variable (represented as quarters) is structured such that each quarter represents a variable. To re-structure the time component as an individual variable, we can gather each quarter within one column variable and also gather the values associated with each quarter in a second column variable."
   ]
  },
  {
   "cell_type": "code",
   "execution_count": null,
   "metadata": {},
   "outputs": [],
   "source": [
    "# Using Pipe Operator\n",
    "head(df %>% gather(Quarter,Revenue,Qtr1:Qtr4))"
   ]
  },
  {
   "cell_type": "code",
   "execution_count": null,
   "metadata": {},
   "outputs": [],
   "source": [
    "# With just the function\n",
    "head(gather(df,Quarter,Revenue,Qtr1:Qtr4))"
   ]
  },
  {
   "cell_type": "markdown",
   "metadata": {},
   "source": [
    "## spread()\n",
    "This is the complement of gather(), which is why its called spread():"
   ]
  },
  {
   "cell_type": "code",
   "execution_count": null,
   "metadata": {},
   "outputs": [],
   "source": [
    "stocks <- data.frame(\n",
    "  time = as.Date('2009-01-01') + 0:9,\n",
    "  X = rnorm(10, 0, 1),\n",
    "  Y = rnorm(10, 0, 2),\n",
    "  Z = rnorm(10, 0, 4)\n",
    ")\n",
    "stocks"
   ]
  },
  {
   "cell_type": "code",
   "execution_count": null,
   "metadata": {},
   "outputs": [],
   "source": [
    "stocksm <- stocks %>% gather(stock, price, -time)"
   ]
  },
  {
   "cell_type": "code",
   "execution_count": null,
   "metadata": {},
   "outputs": [],
   "source": [
    "stocksm %>% spread(stock, price)"
   ]
  },
  {
   "cell_type": "code",
   "execution_count": null,
   "metadata": {},
   "outputs": [],
   "source": [
    "stocksm %>% spread(time, price)"
   ]
  },
  {
   "cell_type": "markdown",
   "metadata": {},
   "source": [
    "## Separate and Unite\n",
    "## separate()\n",
    "Given either regular expression or a vector of character positions, separate() turns a single character column into multiple columns."
   ]
  },
  {
   "cell_type": "code",
   "execution_count": null,
   "metadata": {},
   "outputs": [],
   "source": [
    "df <- data.frame(x = c(NA, \"a.x\", \"b.y\", \"c.z\"))\n",
    "df"
   ]
  },
  {
   "cell_type": "code",
   "execution_count": null,
   "metadata": {},
   "outputs": [],
   "source": [
    "df %>% separate(x, c(\"ABC\", \"XYZ\"))"
   ]
  },
  {
   "cell_type": "markdown",
   "metadata": {},
   "source": [
    "## unite()\n",
    "Unite is a convenience function to paste together multiple columns into one."
   ]
  },
  {
   "cell_type": "code",
   "execution_count": null,
   "metadata": {},
   "outputs": [],
   "source": [
    "head(mtcars)"
   ]
  },
  {
   "cell_type": "code",
   "execution_count": null,
   "metadata": {},
   "outputs": [],
   "source": [
    "unite_(mtcars, \"vs.am\", c(\"vs\",\"am\"),sep = '.')"
   ]
  },
  {
   "cell_type": "code",
   "execution_count": null,
   "metadata": {},
   "outputs": [],
   "source": [
    "# Separate is the complement of unite\n",
    "mtcars %>%\n",
    "  unite(vs_am, vs, am) %>%\n",
    "  separate(vs_am, c(\"vs\", \"am\"))"
   ]
  }
 ],
 "metadata": {
  "kernelspec": {
   "display_name": "R",
   "language": "R",
   "name": "ir"
  },
  "language_info": {
   "codemirror_mode": "r",
   "file_extension": ".r",
   "mimetype": "text/x-r-source",
   "name": "R",
   "pygments_lexer": "r",
   "version": "3.6.1"
  }
 },
 "nbformat": 4,
 "nbformat_minor": 2
}
