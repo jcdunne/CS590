{
 "cells": [
  {
   "cell_type": "markdown",
   "metadata": {},
   "source": [
    "![](Logo.png)"
   ]
  },
  {
   "cell_type": "markdown",
   "metadata": {},
   "source": [
    "# <font color='red'>Week 11 - Machine Learning Algorithms</font>\n",
    "\n",
    "> ## Linear Regression\n",
    "> ## Logistic Regression\n",
    "> ## Principal Components\n",
    "> ## K Means Clustering\n",
    "> ## K Nearest Neighbor\n",
    "> ## Support Vector Machines\n",
    "> ## Decision Trees and Random Forests\n",
    "> ## Neural Networks"
   ]
  },
  {
   "cell_type": "markdown",
   "metadata": {},
   "source": [
    "# <font color='red'>Machine Learning</font>\n",
    "\n",
    "Machine learning is a method of data analysis that automates analytical model building\n",
    "\n",
    "Using algorithms that iteratively learn from data, machine learning allows computers to find hidden insights without being explicitly programmed where to look\n",
    "\n",
    "## Machine Learning Process:"
   ]
  },
  {
   "cell_type": "markdown",
   "metadata": {},
   "source": [
    "![](process.png)"
   ]
  },
  {
   "cell_type": "markdown",
   "metadata": {},
   "source": [
    "## Machine Learning Algorithms:"
   ]
  },
  {
   "cell_type": "markdown",
   "metadata": {},
   "source": [
    "![](mla.png)"
   ]
  },
  {
   "cell_type": "markdown",
   "metadata": {},
   "source": [
    "### Supervised Learning\n",
    "\n",
    "Supervised learning algorithms are trained using labeled examples, such as an input where the desired output is known\n",
    "\n",
    "Examples:\n",
    "\n",
    "    Peanut breeding lines could have data points labeled either 'Selected' or 'Not Selected' (Nominal, Categorical)\n",
    "\n",
    "    Peanut breeding lines have values for yield on a pounds per acre (lbs./acre) basis (Continuous)\n",
    "    \n",
    "    Peanut breeding lines could have data points labeled either '0', '1', or '2' for a group (Ordinal, Categorical)"
   ]
  },
  {
   "cell_type": "markdown",
   "metadata": {},
   "source": [
    "The learning algorithm receives a set of inputs along with the corresponding correct outputs, and the algorithm learns by comparing the actual output with correct outputs to find errors.\n",
    "\n",
    "It then modifies the model accordingly\n",
    "\n",
    "Through methods like classification, regression, prediction and gradient boosting, supervised learning uses patterns to predict the values of the label on additional \"unlabeled\" data - predictions\n",
    "\n",
    "Supervised learning is commonly used in applications where historical data predicts likely future events."
   ]
  },
  {
   "cell_type": "markdown",
   "metadata": {},
   "source": [
    "### Unsupervised Learning\n",
    "\n",
    "Unsupervised learning is used for data that has no historical labels or target variable to predict\n",
    "\n",
    "The system is not told the 'right answer' so the algorithm must figure out what is being shown\n",
    "\n",
    "The goal of unsupervised learning is to explore the data and find hidden structures or patterns\n",
    "\n",
    "It can find the main attributes that separate groups or segments from each other\n",
    "\n",
    "Popular techniques include: \n",
    "    \n",
    "  * Self-organizing maps\n",
    "  * Nearest-neighbor mapping \n",
    "  * K-means clustering\n",
    "  * Singular value decomposition\n",
    "  \n",
    "Additional uses for unsupervised learning algorithms are text topics (text analysis), recommendations, and identify outliers"
   ]
  },
  {
   "cell_type": "markdown",
   "metadata": {},
   "source": [
    "### Reinforcement Learning\n",
    "\n",
    "Reinforcement learning has three primary components:\n",
    "\n",
    "    1. The agent (the learner or decision maker)\n",
    "    2. The environment (everything with which the agent interacts)\n",
    "    3. The action (what the agent can do)\n",
    "    \n",
    "The objective of the agent is to chose actions that maximize the expected reward over a given amount of time\n",
    "\n",
    "The agent will reach the goal much faster by following 'good policy'\n",
    "\n",
    "** **We won't be covering reinforcement learning**"
   ]
  },
  {
   "cell_type": "markdown",
   "metadata": {},
   "source": [
    "# <font color='red'>Linear Regression Lecture</font>\n",
    "\n",
    "Linear Regression is a supervised learning algorithm, meaning we'll have labeled data and try to predict new labels on unlabeled data. We'll explore some of the following concepts:\n",
    "\n",
    "* Get our Data\n",
    "* Exploratory Data Analysis (EDA)\n",
    "* Clean our Data\n",
    "* Review of Model Form\n",
    "* Train and Test Groups\n",
    "* Linear Regression Model"
   ]
  },
  {
   "cell_type": "markdown",
   "metadata": {},
   "source": [
    "## Get our Data\n",
    "\n",
    "We will use the Student Performance Data Set from UC Irvine's Machine Learning Repository. Download this data our just use the supplied csv files in the notebook repository. We'll specifically look at the math class (student-mat.csv). Make sure to take note that the delimiter is a semi-colon."
   ]
  },
  {
   "cell_type": "code",
   "execution_count": 1,
   "metadata": {},
   "outputs": [],
   "source": [
    "# Read CSV, note the delimiter (sep)\n",
    "df <- read.csv('student-mat.csv',sep=';')"
   ]
  },
  {
   "cell_type": "code",
   "execution_count": 2,
   "metadata": {},
   "outputs": [
    {
     "data": {
      "text/html": [
       "<table>\n",
       "<caption>A data.frame: 6 × 33</caption>\n",
       "<thead>\n",
       "\t<tr><th scope=col>school</th><th scope=col>sex</th><th scope=col>age</th><th scope=col>address</th><th scope=col>famsize</th><th scope=col>Pstatus</th><th scope=col>Medu</th><th scope=col>Fedu</th><th scope=col>Mjob</th><th scope=col>Fjob</th><th scope=col>⋯</th><th scope=col>famrel</th><th scope=col>freetime</th><th scope=col>goout</th><th scope=col>Dalc</th><th scope=col>Walc</th><th scope=col>health</th><th scope=col>absences</th><th scope=col>G1</th><th scope=col>G2</th><th scope=col>G3</th></tr>\n",
       "\t<tr><th scope=col>&lt;fct&gt;</th><th scope=col>&lt;fct&gt;</th><th scope=col>&lt;int&gt;</th><th scope=col>&lt;fct&gt;</th><th scope=col>&lt;fct&gt;</th><th scope=col>&lt;fct&gt;</th><th scope=col>&lt;int&gt;</th><th scope=col>&lt;int&gt;</th><th scope=col>&lt;fct&gt;</th><th scope=col>&lt;fct&gt;</th><th scope=col>⋯</th><th scope=col>&lt;int&gt;</th><th scope=col>&lt;int&gt;</th><th scope=col>&lt;int&gt;</th><th scope=col>&lt;int&gt;</th><th scope=col>&lt;int&gt;</th><th scope=col>&lt;int&gt;</th><th scope=col>&lt;int&gt;</th><th scope=col>&lt;int&gt;</th><th scope=col>&lt;int&gt;</th><th scope=col>&lt;int&gt;</th></tr>\n",
       "</thead>\n",
       "<tbody>\n",
       "\t<tr><td>GP</td><td>F</td><td>18</td><td>U</td><td>GT3</td><td>A</td><td>4</td><td>4</td><td>at_home </td><td>teacher </td><td>⋯</td><td>4</td><td>3</td><td>4</td><td>1</td><td>1</td><td>3</td><td> 6</td><td> 5</td><td> 6</td><td> 6</td></tr>\n",
       "\t<tr><td>GP</td><td>F</td><td>17</td><td>U</td><td>GT3</td><td>T</td><td>1</td><td>1</td><td>at_home </td><td>other   </td><td>⋯</td><td>5</td><td>3</td><td>3</td><td>1</td><td>1</td><td>3</td><td> 4</td><td> 5</td><td> 5</td><td> 6</td></tr>\n",
       "\t<tr><td>GP</td><td>F</td><td>15</td><td>U</td><td>LE3</td><td>T</td><td>1</td><td>1</td><td>at_home </td><td>other   </td><td>⋯</td><td>4</td><td>3</td><td>2</td><td>2</td><td>3</td><td>3</td><td>10</td><td> 7</td><td> 8</td><td>10</td></tr>\n",
       "\t<tr><td>GP</td><td>F</td><td>15</td><td>U</td><td>GT3</td><td>T</td><td>4</td><td>2</td><td>health  </td><td>services</td><td>⋯</td><td>3</td><td>2</td><td>2</td><td>1</td><td>1</td><td>5</td><td> 2</td><td>15</td><td>14</td><td>15</td></tr>\n",
       "\t<tr><td>GP</td><td>F</td><td>16</td><td>U</td><td>GT3</td><td>T</td><td>3</td><td>3</td><td>other   </td><td>other   </td><td>⋯</td><td>4</td><td>3</td><td>2</td><td>1</td><td>2</td><td>5</td><td> 4</td><td> 6</td><td>10</td><td>10</td></tr>\n",
       "\t<tr><td>GP</td><td>M</td><td>16</td><td>U</td><td>LE3</td><td>T</td><td>4</td><td>3</td><td>services</td><td>other   </td><td>⋯</td><td>5</td><td>4</td><td>2</td><td>1</td><td>2</td><td>5</td><td>10</td><td>15</td><td>15</td><td>15</td></tr>\n",
       "</tbody>\n",
       "</table>\n"
      ],
      "text/latex": [
       "A data.frame: 6 × 33\n",
       "\\begin{tabular}{r|lllllllllllllllllllllllllllllllll}\n",
       " school & sex & age & address & famsize & Pstatus & Medu & Fedu & Mjob & Fjob & reason & guardian & traveltime & studytime & failures & schoolsup & famsup & paid & activities & nursery & higher & internet & romantic & famrel & freetime & goout & Dalc & Walc & health & absences & G1 & G2 & G3\\\\\n",
       " <fct> & <fct> & <int> & <fct> & <fct> & <fct> & <int> & <int> & <fct> & <fct> & <fct> & <fct> & <int> & <int> & <int> & <fct> & <fct> & <fct> & <fct> & <fct> & <fct> & <fct> & <fct> & <int> & <int> & <int> & <int> & <int> & <int> & <int> & <int> & <int> & <int>\\\\\n",
       "\\hline\n",
       "\t GP & F & 18 & U & GT3 & A & 4 & 4 & at\\_home  & teacher  & course     & mother & 2 & 2 & 0 & yes & no  & no  & no  & yes & yes & no  & no  & 4 & 3 & 4 & 1 & 1 & 3 &  6 &  5 &  6 &  6\\\\\n",
       "\t GP & F & 17 & U & GT3 & T & 1 & 1 & at\\_home  & other    & course     & father & 1 & 2 & 0 & no  & yes & no  & no  & no  & yes & yes & no  & 5 & 3 & 3 & 1 & 1 & 3 &  4 &  5 &  5 &  6\\\\\n",
       "\t GP & F & 15 & U & LE3 & T & 1 & 1 & at\\_home  & other    & other      & mother & 1 & 2 & 3 & yes & no  & yes & no  & yes & yes & yes & no  & 4 & 3 & 2 & 2 & 3 & 3 & 10 &  7 &  8 & 10\\\\\n",
       "\t GP & F & 15 & U & GT3 & T & 4 & 2 & health   & services & home       & mother & 1 & 3 & 0 & no  & yes & yes & yes & yes & yes & yes & yes & 3 & 2 & 2 & 1 & 1 & 5 &  2 & 15 & 14 & 15\\\\\n",
       "\t GP & F & 16 & U & GT3 & T & 3 & 3 & other    & other    & home       & father & 1 & 2 & 0 & no  & yes & yes & no  & yes & yes & no  & no  & 4 & 3 & 2 & 1 & 2 & 5 &  4 &  6 & 10 & 10\\\\\n",
       "\t GP & M & 16 & U & LE3 & T & 4 & 3 & services & other    & reputation & mother & 1 & 2 & 0 & no  & yes & yes & yes & yes & yes & yes & no  & 5 & 4 & 2 & 1 & 2 & 5 & 10 & 15 & 15 & 15\\\\\n",
       "\\end{tabular}\n"
      ],
      "text/markdown": [
       "\n",
       "A data.frame: 6 × 33\n",
       "\n",
       "| school &lt;fct&gt; | sex &lt;fct&gt; | age &lt;int&gt; | address &lt;fct&gt; | famsize &lt;fct&gt; | Pstatus &lt;fct&gt; | Medu &lt;int&gt; | Fedu &lt;int&gt; | Mjob &lt;fct&gt; | Fjob &lt;fct&gt; | ⋯ ⋯ | famrel &lt;int&gt; | freetime &lt;int&gt; | goout &lt;int&gt; | Dalc &lt;int&gt; | Walc &lt;int&gt; | health &lt;int&gt; | absences &lt;int&gt; | G1 &lt;int&gt; | G2 &lt;int&gt; | G3 &lt;int&gt; |\n",
       "|---|---|---|---|---|---|---|---|---|---|---|---|---|---|---|---|---|---|---|---|---|\n",
       "| GP | F | 18 | U | GT3 | A | 4 | 4 | at_home  | teacher  | ⋯ | 4 | 3 | 4 | 1 | 1 | 3 |  6 |  5 |  6 |  6 |\n",
       "| GP | F | 17 | U | GT3 | T | 1 | 1 | at_home  | other    | ⋯ | 5 | 3 | 3 | 1 | 1 | 3 |  4 |  5 |  5 |  6 |\n",
       "| GP | F | 15 | U | LE3 | T | 1 | 1 | at_home  | other    | ⋯ | 4 | 3 | 2 | 2 | 3 | 3 | 10 |  7 |  8 | 10 |\n",
       "| GP | F | 15 | U | GT3 | T | 4 | 2 | health   | services | ⋯ | 3 | 2 | 2 | 1 | 1 | 5 |  2 | 15 | 14 | 15 |\n",
       "| GP | F | 16 | U | GT3 | T | 3 | 3 | other    | other    | ⋯ | 4 | 3 | 2 | 1 | 2 | 5 |  4 |  6 | 10 | 10 |\n",
       "| GP | M | 16 | U | LE3 | T | 4 | 3 | services | other    | ⋯ | 5 | 4 | 2 | 1 | 2 | 5 | 10 | 15 | 15 | 15 |\n",
       "\n"
      ],
      "text/plain": [
       "  school sex age address famsize Pstatus Medu Fedu Mjob     Fjob     <U+22EF>       \n",
       "1 GP     F   18  U       GT3     A       4    4    at_home  teacher  <U+22EF>\n",
       "2 GP     F   17  U       GT3     T       1    1    at_home  other    <U+22EF>\n",
       "3 GP     F   15  U       LE3     T       1    1    at_home  other    <U+22EF>\n",
       "4 GP     F   15  U       GT3     T       4    2    health   services <U+22EF>\n",
       "5 GP     F   16  U       GT3     T       3    3    other    other    <U+22EF>\n",
       "6 GP     M   16  U       LE3     T       4    3    services other    <U+22EF>\n",
       "  famrel freetime goout Dalc Walc health absences G1 G2 G3\n",
       "1 4      3        4     1    1    3       6        5  6  6\n",
       "2 5      3        3     1    1    3       4        5  5  6\n",
       "3 4      3        2     2    3    3      10        7  8 10\n",
       "4 3      2        2     1    1    5       2       15 14 15\n",
       "5 4      3        2     1    2    5       4        6 10 10\n",
       "6 5      4        2     1    2    5      10       15 15 15"
      ]
     },
     "metadata": {},
     "output_type": "display_data"
    }
   ],
   "source": [
    "head(df)"
   ]
  },
  {
   "cell_type": "code",
   "execution_count": 3,
   "metadata": {},
   "outputs": [
    {
     "data": {
      "text/plain": [
       " school   sex          age       address famsize   Pstatus      Medu      \n",
       " GP:349   F:208   Min.   :15.0   R: 88   GT3:281   A: 41   Min.   :0.000  \n",
       " MS: 46   M:187   1st Qu.:16.0   U:307   LE3:114   T:354   1st Qu.:2.000  \n",
       "                  Median :17.0                             Median :3.000  \n",
       "                  Mean   :16.7                             Mean   :2.749  \n",
       "                  3rd Qu.:18.0                             3rd Qu.:4.000  \n",
       "                  Max.   :22.0                             Max.   :4.000  \n",
       "      Fedu             Mjob           Fjob            reason      guardian  \n",
       " Min.   :0.000   at_home : 59   at_home : 20   course    :145   father: 90  \n",
       " 1st Qu.:2.000   health  : 34   health  : 18   home      :109   mother:273  \n",
       " Median :2.000   other   :141   other   :217   other     : 36   other : 32  \n",
       " Mean   :2.522   services:103   services:111   reputation:105               \n",
       " 3rd Qu.:3.000   teacher : 58   teacher : 29                                \n",
       " Max.   :4.000                                                              \n",
       "   traveltime      studytime        failures      schoolsup famsup     paid    \n",
       " Min.   :1.000   Min.   :1.000   Min.   :0.0000   no :344   no :153   no :214  \n",
       " 1st Qu.:1.000   1st Qu.:1.000   1st Qu.:0.0000   yes: 51   yes:242   yes:181  \n",
       " Median :1.000   Median :2.000   Median :0.0000                                \n",
       " Mean   :1.448   Mean   :2.035   Mean   :0.3342                                \n",
       " 3rd Qu.:2.000   3rd Qu.:2.000   3rd Qu.:0.0000                                \n",
       " Max.   :4.000   Max.   :4.000   Max.   :3.0000                                \n",
       " activities nursery   higher    internet  romantic      famrel     \n",
       " no :194    no : 81   no : 20   no : 66   no :263   Min.   :1.000  \n",
       " yes:201    yes:314   yes:375   yes:329   yes:132   1st Qu.:4.000  \n",
       "                                                    Median :4.000  \n",
       "                                                    Mean   :3.944  \n",
       "                                                    3rd Qu.:5.000  \n",
       "                                                    Max.   :5.000  \n",
       "    freetime         goout            Dalc            Walc      \n",
       " Min.   :1.000   Min.   :1.000   Min.   :1.000   Min.   :1.000  \n",
       " 1st Qu.:3.000   1st Qu.:2.000   1st Qu.:1.000   1st Qu.:1.000  \n",
       " Median :3.000   Median :3.000   Median :1.000   Median :2.000  \n",
       " Mean   :3.235   Mean   :3.109   Mean   :1.481   Mean   :2.291  \n",
       " 3rd Qu.:4.000   3rd Qu.:4.000   3rd Qu.:2.000   3rd Qu.:3.000  \n",
       " Max.   :5.000   Max.   :5.000   Max.   :5.000   Max.   :5.000  \n",
       "     health         absences            G1              G2       \n",
       " Min.   :1.000   Min.   : 0.000   Min.   : 3.00   Min.   : 0.00  \n",
       " 1st Qu.:3.000   1st Qu.: 0.000   1st Qu.: 8.00   1st Qu.: 9.00  \n",
       " Median :4.000   Median : 4.000   Median :11.00   Median :11.00  \n",
       " Mean   :3.554   Mean   : 5.709   Mean   :10.91   Mean   :10.71  \n",
       " 3rd Qu.:5.000   3rd Qu.: 8.000   3rd Qu.:13.00   3rd Qu.:13.00  \n",
       " Max.   :5.000   Max.   :75.000   Max.   :19.00   Max.   :19.00  \n",
       "       G3       \n",
       " Min.   : 0.00  \n",
       " 1st Qu.: 8.00  \n",
       " Median :11.00  \n",
       " Mean   :10.42  \n",
       " 3rd Qu.:14.00  \n",
       " Max.   :20.00  "
      ]
     },
     "metadata": {},
     "output_type": "display_data"
    }
   ],
   "source": [
    "summary(df)"
   ]
  },
  {
   "cell_type": "markdown",
   "metadata": {},
   "source": [
    "### Attribute Information\n",
    "Here is the attribute information for our data set: Attribute Information:\n",
    "\n",
    "Attributes for both student-mat.csv (Math course) and student-por.csv (Portuguese language course) datasets:\n",
    "\n",
    "* 1 school - student's school (binary: 'GP' - Gabriel Pereira or 'MS' - Mousinho da Silveira)\n",
    "* 2 sex - student's sex (binary: 'F' - female or 'M' - male)\n",
    "* 3 age - student's age (numeric: from 15 to 22)\n",
    "* 4 address - student's home address type (binary: 'U' - urban or 'R' - rural)\n",
    "* 5 famsize - family size (binary: 'LE3' - less or equal to 3 or 'GT3' - greater than 3)\n",
    "* 6 Pstatus - parent's cohabitation status (binary: 'T' - living together or 'A' - apart)\n",
    "* 7 Medu - mother's education (numeric: 0 - none, 1 - primary education (4th grade), 2 â€“ 5th to 9th grade, 3 â€“ secondary education or 4 â€“ higher education)\n",
    "* 8 Fedu - father's education (numeric: 0 - none, 1 - primary education (4th grade), 2 â€“ 5th to 9th grade, 3 â€“ secondary education or 4 â€“ higher education)\n",
    "* 9 Mjob - mother's job (nominal: 'teacher', 'health' care related, civil 'services' (e.g. administrative or police), 'at_home' or 'other')\n",
    "* 10 Fjob - father's job (nominal: 'teacher', 'health' care related, civil 'services' (e.g. administrative or police), 'at_home' or 'other')\n",
    "* 11 reason - reason to choose this school (nominal: close to 'home', school 'reputation', 'course' preference or 'other')\n",
    "* 12 guardian - student's guardian (nominal: 'mother', 'father' or 'other')\n",
    "* 13 traveltime - home to school travel time (numeric: 1 - less than 15 min., 2 - 15 to 30 min., 3 - 30 min. to 1 hour, or 4 - more than 1 hour)\n",
    "* 14 studytime - weekly study time (numeric: 1 - less than 2 hours, 2 - 2 to 5 hours, 3 - 5 to 10 hours, or 4 - more than 10 hours)\n",
    "* 15 failures - number of past class failures (numeric: n if between 1 and 3 , else 4)\n",
    "* 16 schoolsup - extra educational support (binary: yes or no)\n",
    "* 17 famsup - family educational support (binary: yes or no)\n",
    "* 18 paid - extra paid classes within the course subject (Math or Portuguese) (binary: yes or no)\n",
    "* 19 activities - extra-curricular activities (binary: yes or no)\n",
    "* 20 nursery - attended nursery school (binary: yes or no)\n",
    "* 21 higher - wants to take higher education (binary: yes or no)\n",
    "* 22 internet - Internet access at home (binary: yes or no)\n",
    "* 23 romantic - with a romantic relationship (binary: yes or no)\n",
    "* 24 famrel - quality of family relationships (numeric: from 1 - very bad to 5 - excellent)\n",
    "* 25 freetime - free time after school (numeric: from 1 - very low to 5 - very high)\n",
    "* 26 goout - going out with friends (numeric: from 1 - very low to 5 - very high)\n",
    "* 27 Dalc - workday alcohol consumption (numeric: from 1 - very low to 5 - very high)\n",
    "* 28 Walc - weekend alcohol consumption (numeric: from 1 - very low to 5 - very high)\n",
    "* 29 health - current health status (numeric: from 1 - very bad to 5 - very good)\n",
    "* 30 absences - number of school absences (numeric: from 0 to 93)\n",
    "these grades are related with the course subject, Math or Portuguese:\n",
    "* 31 G1 - first period grade (numeric: from 0 to 20)\n",
    "* 31 G2 - second period grade (numeric: from 0 to 20)\n",
    "* 32 G3 - final grade (numeric: from 0 to 20, output target)\n",
    "\n",
    "## Clean the Data\n",
    "\n",
    "Next we have to clean this data. This data is actually already cleaned for you, but here are some things you may want to consider doing for other data sets:\n",
    "\n",
    "Check for NA values\n",
    "Let's see if we have any NA values:"
   ]
  },
  {
   "cell_type": "code",
   "execution_count": 4,
   "metadata": {},
   "outputs": [
    {
     "data": {
      "text/html": [
       "FALSE"
      ],
      "text/latex": [
       "FALSE"
      ],
      "text/markdown": [
       "FALSE"
      ],
      "text/plain": [
       "[1] FALSE"
      ]
     },
     "metadata": {},
     "output_type": "display_data"
    }
   ],
   "source": [
    "any(is.na(df))"
   ]
  },
  {
   "cell_type": "markdown",
   "metadata": {},
   "source": [
    "Most real data sets will probably have NA or Null values, so its always good to check. Its up to you how to deal with them, either dropping them if they aren't too many, or imputing other values, like the mean value.\n",
    "\n",
    "## Categorical Features\n",
    "\n",
    "Moving on, let's make sure that categorical variables have a factor set to them. For example, the MJob column refers to categories of Job Types, not some numeric value from 1 to 5. R is actually really good at detecting these sort of values and will take care of this work for you and save a lot of the time, but always keep in mind the use of factor() as a possibility. Luckily this is basically already done. We can check this using the str() function:"
   ]
  },
  {
   "cell_type": "code",
   "execution_count": 5,
   "metadata": {},
   "outputs": [
    {
     "name": "stdout",
     "output_type": "stream",
     "text": [
      "'data.frame':\t395 obs. of  33 variables:\n",
      " $ school    : Factor w/ 2 levels \"GP\",\"MS\": 1 1 1 1 1 1 1 1 1 1 ...\n",
      " $ sex       : Factor w/ 2 levels \"F\",\"M\": 1 1 1 1 1 2 2 1 2 2 ...\n",
      " $ age       : int  18 17 15 15 16 16 16 17 15 15 ...\n",
      " $ address   : Factor w/ 2 levels \"R\",\"U\": 2 2 2 2 2 2 2 2 2 2 ...\n",
      " $ famsize   : Factor w/ 2 levels \"GT3\",\"LE3\": 1 1 2 1 1 2 2 1 2 1 ...\n",
      " $ Pstatus   : Factor w/ 2 levels \"A\",\"T\": 1 2 2 2 2 2 2 1 1 2 ...\n",
      " $ Medu      : int  4 1 1 4 3 4 2 4 3 3 ...\n",
      " $ Fedu      : int  4 1 1 2 3 3 2 4 2 4 ...\n",
      " $ Mjob      : Factor w/ 5 levels \"at_home\",\"health\",..: 1 1 1 2 3 4 3 3 4 3 ...\n",
      " $ Fjob      : Factor w/ 5 levels \"at_home\",\"health\",..: 5 3 3 4 3 3 3 5 3 3 ...\n",
      " $ reason    : Factor w/ 4 levels \"course\",\"home\",..: 1 1 3 2 2 4 2 2 2 2 ...\n",
      " $ guardian  : Factor w/ 3 levels \"father\",\"mother\",..: 2 1 2 2 1 2 2 2 2 2 ...\n",
      " $ traveltime: int  2 1 1 1 1 1 1 2 1 1 ...\n",
      " $ studytime : int  2 2 2 3 2 2 2 2 2 2 ...\n",
      " $ failures  : int  0 0 3 0 0 0 0 0 0 0 ...\n",
      " $ schoolsup : Factor w/ 2 levels \"no\",\"yes\": 2 1 2 1 1 1 1 2 1 1 ...\n",
      " $ famsup    : Factor w/ 2 levels \"no\",\"yes\": 1 2 1 2 2 2 1 2 2 2 ...\n",
      " $ paid      : Factor w/ 2 levels \"no\",\"yes\": 1 1 2 2 2 2 1 1 2 2 ...\n",
      " $ activities: Factor w/ 2 levels \"no\",\"yes\": 1 1 1 2 1 2 1 1 1 2 ...\n",
      " $ nursery   : Factor w/ 2 levels \"no\",\"yes\": 2 1 2 2 2 2 2 2 2 2 ...\n",
      " $ higher    : Factor w/ 2 levels \"no\",\"yes\": 2 2 2 2 2 2 2 2 2 2 ...\n",
      " $ internet  : Factor w/ 2 levels \"no\",\"yes\": 1 2 2 2 1 2 2 1 2 2 ...\n",
      " $ romantic  : Factor w/ 2 levels \"no\",\"yes\": 1 1 1 2 1 1 1 1 1 1 ...\n",
      " $ famrel    : int  4 5 4 3 4 5 4 4 4 5 ...\n",
      " $ freetime  : int  3 3 3 2 3 4 4 1 2 5 ...\n",
      " $ goout     : int  4 3 2 2 2 2 4 4 2 1 ...\n",
      " $ Dalc      : int  1 1 2 1 1 1 1 1 1 1 ...\n",
      " $ Walc      : int  1 1 3 1 2 2 1 1 1 1 ...\n",
      " $ health    : int  3 3 3 5 5 5 3 1 1 5 ...\n",
      " $ absences  : int  6 4 10 2 4 10 0 6 0 0 ...\n",
      " $ G1        : int  5 5 7 15 6 15 12 6 16 14 ...\n",
      " $ G2        : int  6 5 8 14 10 15 12 5 18 15 ...\n",
      " $ G3        : int  6 6 10 15 10 15 11 6 19 15 ...\n"
     ]
    }
   ],
   "source": [
    "str(df)"
   ]
  },
  {
   "cell_type": "markdown",
   "metadata": {},
   "source": [
    "## Exploratory Data Analysis\n",
    "Let's use ggplot2 to explore the data. Feel free to expand on this section:"
   ]
  },
  {
   "cell_type": "code",
   "execution_count": 6,
   "metadata": {},
   "outputs": [
    {
     "name": "stderr",
     "output_type": "stream",
     "text": [
      "\n",
      "Attaching package: 'dplyr'\n",
      "\n",
      "The following objects are masked from 'package:stats':\n",
      "\n",
      "    filter, lag\n",
      "\n",
      "The following objects are masked from 'package:base':\n",
      "\n",
      "    intersect, setdiff, setequal, union\n",
      "\n"
     ]
    }
   ],
   "source": [
    "library(ggplot2)\n",
    "library(ggthemes)\n",
    "library(dplyr)"
   ]
  },
  {
   "cell_type": "markdown",
   "metadata": {},
   "source": [
    "## Correlation and CorrPlots\n",
    "Correlation is defined as:\n",
    "\n",
    "In statistics, dependence or association is any statistical relationship, whether causal or not, between two random variables or two sets of data. Correlation is any of a broad class of statistical relationships involving dependence, though in common usage it most often refers to the extent to which two variables have a linear relationship with each other. Familiar examples of dependent phenomena include the correlation between the physical statures of parents and their offspring, and the correlation between the demand for a product and its price.\n",
    "\n",
    "Correlation plots are a great way of exploring data and seeing if there are any interaction terms. Let's start off by just grabbing the numeric data (we can't see correlation for categorical data):"
   ]
  },
  {
   "cell_type": "code",
   "execution_count": 7,
   "metadata": {},
   "outputs": [
    {
     "data": {
      "text/html": [
       "<table>\n",
       "<caption>A matrix: 16 × 16 of type dbl</caption>\n",
       "<thead>\n",
       "\t<tr><th></th><th scope=col>age</th><th scope=col>Medu</th><th scope=col>Fedu</th><th scope=col>traveltime</th><th scope=col>studytime</th><th scope=col>failures</th><th scope=col>famrel</th><th scope=col>freetime</th><th scope=col>goout</th><th scope=col>Dalc</th><th scope=col>Walc</th><th scope=col>health</th><th scope=col>absences</th><th scope=col>G1</th><th scope=col>G2</th><th scope=col>G3</th></tr>\n",
       "</thead>\n",
       "<tbody>\n",
       "\t<tr><th scope=row>age</th><td> 1.000000000</td><td>-0.163658419</td><td>-0.163438069</td><td> 0.070640721</td><td>-0.004140037</td><td> 0.24366538</td><td> 0.053940096</td><td> 0.01643439</td><td> 0.126963880</td><td> 0.131124605</td><td> 0.11727605</td><td>-0.062187369</td><td> 0.17523008</td><td>-0.06408150</td><td>-0.14347405</td><td>-0.16157944</td></tr>\n",
       "\t<tr><th scope=row>Medu</th><td>-0.163658419</td><td> 1.000000000</td><td> 0.623455112</td><td>-0.171639305</td><td> 0.064944137</td><td>-0.23667996</td><td>-0.003914458</td><td> 0.03089087</td><td> 0.064094438</td><td> 0.019834099</td><td>-0.04712346</td><td>-0.046877829</td><td> 0.10028482</td><td> 0.20534100</td><td> 0.21552717</td><td> 0.21714750</td></tr>\n",
       "\t<tr><th scope=row>Fedu</th><td>-0.163438069</td><td> 0.623455112</td><td> 1.000000000</td><td>-0.158194054</td><td>-0.009174639</td><td>-0.25040844</td><td>-0.001369727</td><td>-0.01284553</td><td> 0.043104668</td><td> 0.002386429</td><td>-0.01263102</td><td> 0.014741537</td><td> 0.02447289</td><td> 0.19026994</td><td> 0.16489339</td><td> 0.15245694</td></tr>\n",
       "\t<tr><th scope=row>traveltime</th><td> 0.070640721</td><td>-0.171639305</td><td>-0.158194054</td><td> 1.000000000</td><td>-0.100909119</td><td> 0.09223875</td><td>-0.016807986</td><td>-0.01702494</td><td> 0.028539674</td><td> 0.138325309</td><td> 0.13411575</td><td> 0.007500606</td><td>-0.01294378</td><td>-0.09303999</td><td>-0.15319796</td><td>-0.11714205</td></tr>\n",
       "\t<tr><th scope=row>studytime</th><td>-0.004140037</td><td> 0.064944137</td><td>-0.009174639</td><td>-0.100909119</td><td> 1.000000000</td><td>-0.17356303</td><td> 0.039730704</td><td>-0.14319841</td><td>-0.063903675</td><td>-0.196019263</td><td>-0.25378473</td><td>-0.075615863</td><td>-0.06270018</td><td> 0.16061192</td><td> 0.13588000</td><td> 0.09781969</td></tr>\n",
       "\t<tr><th scope=row>failures</th><td> 0.243665377</td><td>-0.236679963</td><td>-0.250408444</td><td> 0.092238746</td><td>-0.173563031</td><td> 1.00000000</td><td>-0.044336626</td><td> 0.09198747</td><td> 0.124560922</td><td> 0.136046931</td><td> 0.14196203</td><td> 0.065827282</td><td> 0.06372583</td><td>-0.35471761</td><td>-0.35589563</td><td>-0.36041494</td></tr>\n",
       "\t<tr><th scope=row>famrel</th><td> 0.053940096</td><td>-0.003914458</td><td>-0.001369727</td><td>-0.016807986</td><td> 0.039730704</td><td>-0.04433663</td><td> 1.000000000</td><td> 0.15070144</td><td> 0.064568411</td><td>-0.077594357</td><td>-0.11339731</td><td> 0.094055728</td><td>-0.04435409</td><td> 0.02216832</td><td>-0.01828135</td><td> 0.05136343</td></tr>\n",
       "\t<tr><th scope=row>freetime</th><td> 0.016434389</td><td> 0.030890867</td><td>-0.012845528</td><td>-0.017024944</td><td>-0.143198407</td><td> 0.09198747</td><td> 0.150701444</td><td> 1.00000000</td><td> 0.285018715</td><td> 0.209000848</td><td> 0.14782181</td><td> 0.075733357</td><td>-0.05807792</td><td> 0.01261293</td><td>-0.01377714</td><td> 0.01130724</td></tr>\n",
       "\t<tr><th scope=row>goout</th><td> 0.126963880</td><td> 0.064094438</td><td> 0.043104668</td><td> 0.028539674</td><td>-0.063903675</td><td> 0.12456092</td><td> 0.064568411</td><td> 0.28501871</td><td> 1.000000000</td><td> 0.266993848</td><td> 0.42038575</td><td>-0.009577254</td><td> 0.04430222</td><td>-0.14910397</td><td>-0.16225003</td><td>-0.13279147</td></tr>\n",
       "\t<tr><th scope=row>Dalc</th><td> 0.131124605</td><td> 0.019834099</td><td> 0.002386429</td><td> 0.138325309</td><td>-0.196019263</td><td> 0.13604693</td><td>-0.077594357</td><td> 0.20900085</td><td> 0.266993848</td><td> 1.000000000</td><td> 0.64754423</td><td> 0.077179582</td><td> 0.11190803</td><td>-0.09415879</td><td>-0.06412018</td><td>-0.05466004</td></tr>\n",
       "\t<tr><th scope=row>Walc</th><td> 0.117276052</td><td>-0.047123460</td><td>-0.012631018</td><td> 0.134115752</td><td>-0.253784731</td><td> 0.14196203</td><td>-0.113397308</td><td> 0.14782181</td><td> 0.420385745</td><td> 0.647544230</td><td> 1.00000000</td><td> 0.092476317</td><td> 0.13629110</td><td>-0.12617921</td><td>-0.08492735</td><td>-0.05193932</td></tr>\n",
       "\t<tr><th scope=row>health</th><td>-0.062187369</td><td>-0.046877829</td><td> 0.014741537</td><td> 0.007500606</td><td>-0.075615863</td><td> 0.06582728</td><td> 0.094055728</td><td> 0.07573336</td><td>-0.009577254</td><td> 0.077179582</td><td> 0.09247632</td><td> 1.000000000</td><td>-0.02993671</td><td>-0.07317207</td><td>-0.09771987</td><td>-0.06133460</td></tr>\n",
       "\t<tr><th scope=row>absences</th><td> 0.175230079</td><td> 0.100284818</td><td> 0.024472887</td><td>-0.012943775</td><td>-0.062700175</td><td> 0.06372583</td><td>-0.044354095</td><td>-0.05807792</td><td> 0.044302220</td><td> 0.111908026</td><td> 0.13629110</td><td>-0.029936711</td><td> 1.00000000</td><td>-0.03100290</td><td>-0.03177670</td><td> 0.03424732</td></tr>\n",
       "\t<tr><th scope=row>G1</th><td>-0.064081497</td><td> 0.205340997</td><td> 0.190269936</td><td>-0.093039992</td><td> 0.160611915</td><td>-0.35471761</td><td> 0.022168316</td><td> 0.01261293</td><td>-0.149103967</td><td>-0.094158792</td><td>-0.12617921</td><td>-0.073172073</td><td>-0.03100290</td><td> 1.00000000</td><td> 0.85211807</td><td> 0.80146793</td></tr>\n",
       "\t<tr><th scope=row>G2</th><td>-0.143474049</td><td> 0.215527168</td><td> 0.164893393</td><td>-0.153197963</td><td> 0.135879999</td><td>-0.35589563</td><td>-0.018281347</td><td>-0.01377714</td><td>-0.162250034</td><td>-0.064120183</td><td>-0.08492735</td><td>-0.097719866</td><td>-0.03177670</td><td> 0.85211807</td><td> 1.00000000</td><td> 0.90486799</td></tr>\n",
       "\t<tr><th scope=row>G3</th><td>-0.161579438</td><td> 0.217147496</td><td> 0.152456939</td><td>-0.117142053</td><td> 0.097819690</td><td>-0.36041494</td><td> 0.051363429</td><td> 0.01130724</td><td>-0.132791474</td><td>-0.054660041</td><td>-0.05193932</td><td>-0.061334605</td><td> 0.03424732</td><td> 0.80146793</td><td> 0.90486799</td><td> 1.00000000</td></tr>\n",
       "</tbody>\n",
       "</table>\n"
      ],
      "text/latex": [
       "A matrix: 16 × 16 of type dbl\n",
       "\\begin{tabular}{r|llllllllllllllll}\n",
       "  & age & Medu & Fedu & traveltime & studytime & failures & famrel & freetime & goout & Dalc & Walc & health & absences & G1 & G2 & G3\\\\\n",
       "\\hline\n",
       "\tage &  1.000000000 & -0.163658419 & -0.163438069 &  0.070640721 & -0.004140037 &  0.24366538 &  0.053940096 &  0.01643439 &  0.126963880 &  0.131124605 &  0.11727605 & -0.062187369 &  0.17523008 & -0.06408150 & -0.14347405 & -0.16157944\\\\\n",
       "\tMedu & -0.163658419 &  1.000000000 &  0.623455112 & -0.171639305 &  0.064944137 & -0.23667996 & -0.003914458 &  0.03089087 &  0.064094438 &  0.019834099 & -0.04712346 & -0.046877829 &  0.10028482 &  0.20534100 &  0.21552717 &  0.21714750\\\\\n",
       "\tFedu & -0.163438069 &  0.623455112 &  1.000000000 & -0.158194054 & -0.009174639 & -0.25040844 & -0.001369727 & -0.01284553 &  0.043104668 &  0.002386429 & -0.01263102 &  0.014741537 &  0.02447289 &  0.19026994 &  0.16489339 &  0.15245694\\\\\n",
       "\ttraveltime &  0.070640721 & -0.171639305 & -0.158194054 &  1.000000000 & -0.100909119 &  0.09223875 & -0.016807986 & -0.01702494 &  0.028539674 &  0.138325309 &  0.13411575 &  0.007500606 & -0.01294378 & -0.09303999 & -0.15319796 & -0.11714205\\\\\n",
       "\tstudytime & -0.004140037 &  0.064944137 & -0.009174639 & -0.100909119 &  1.000000000 & -0.17356303 &  0.039730704 & -0.14319841 & -0.063903675 & -0.196019263 & -0.25378473 & -0.075615863 & -0.06270018 &  0.16061192 &  0.13588000 &  0.09781969\\\\\n",
       "\tfailures &  0.243665377 & -0.236679963 & -0.250408444 &  0.092238746 & -0.173563031 &  1.00000000 & -0.044336626 &  0.09198747 &  0.124560922 &  0.136046931 &  0.14196203 &  0.065827282 &  0.06372583 & -0.35471761 & -0.35589563 & -0.36041494\\\\\n",
       "\tfamrel &  0.053940096 & -0.003914458 & -0.001369727 & -0.016807986 &  0.039730704 & -0.04433663 &  1.000000000 &  0.15070144 &  0.064568411 & -0.077594357 & -0.11339731 &  0.094055728 & -0.04435409 &  0.02216832 & -0.01828135 &  0.05136343\\\\\n",
       "\tfreetime &  0.016434389 &  0.030890867 & -0.012845528 & -0.017024944 & -0.143198407 &  0.09198747 &  0.150701444 &  1.00000000 &  0.285018715 &  0.209000848 &  0.14782181 &  0.075733357 & -0.05807792 &  0.01261293 & -0.01377714 &  0.01130724\\\\\n",
       "\tgoout &  0.126963880 &  0.064094438 &  0.043104668 &  0.028539674 & -0.063903675 &  0.12456092 &  0.064568411 &  0.28501871 &  1.000000000 &  0.266993848 &  0.42038575 & -0.009577254 &  0.04430222 & -0.14910397 & -0.16225003 & -0.13279147\\\\\n",
       "\tDalc &  0.131124605 &  0.019834099 &  0.002386429 &  0.138325309 & -0.196019263 &  0.13604693 & -0.077594357 &  0.20900085 &  0.266993848 &  1.000000000 &  0.64754423 &  0.077179582 &  0.11190803 & -0.09415879 & -0.06412018 & -0.05466004\\\\\n",
       "\tWalc &  0.117276052 & -0.047123460 & -0.012631018 &  0.134115752 & -0.253784731 &  0.14196203 & -0.113397308 &  0.14782181 &  0.420385745 &  0.647544230 &  1.00000000 &  0.092476317 &  0.13629110 & -0.12617921 & -0.08492735 & -0.05193932\\\\\n",
       "\thealth & -0.062187369 & -0.046877829 &  0.014741537 &  0.007500606 & -0.075615863 &  0.06582728 &  0.094055728 &  0.07573336 & -0.009577254 &  0.077179582 &  0.09247632 &  1.000000000 & -0.02993671 & -0.07317207 & -0.09771987 & -0.06133460\\\\\n",
       "\tabsences &  0.175230079 &  0.100284818 &  0.024472887 & -0.012943775 & -0.062700175 &  0.06372583 & -0.044354095 & -0.05807792 &  0.044302220 &  0.111908026 &  0.13629110 & -0.029936711 &  1.00000000 & -0.03100290 & -0.03177670 &  0.03424732\\\\\n",
       "\tG1 & -0.064081497 &  0.205340997 &  0.190269936 & -0.093039992 &  0.160611915 & -0.35471761 &  0.022168316 &  0.01261293 & -0.149103967 & -0.094158792 & -0.12617921 & -0.073172073 & -0.03100290 &  1.00000000 &  0.85211807 &  0.80146793\\\\\n",
       "\tG2 & -0.143474049 &  0.215527168 &  0.164893393 & -0.153197963 &  0.135879999 & -0.35589563 & -0.018281347 & -0.01377714 & -0.162250034 & -0.064120183 & -0.08492735 & -0.097719866 & -0.03177670 &  0.85211807 &  1.00000000 &  0.90486799\\\\\n",
       "\tG3 & -0.161579438 &  0.217147496 &  0.152456939 & -0.117142053 &  0.097819690 & -0.36041494 &  0.051363429 &  0.01130724 & -0.132791474 & -0.054660041 & -0.05193932 & -0.061334605 &  0.03424732 &  0.80146793 &  0.90486799 &  1.00000000\\\\\n",
       "\\end{tabular}\n"
      ],
      "text/markdown": [
       "\n",
       "A matrix: 16 × 16 of type dbl\n",
       "\n",
       "| <!--/--> | age | Medu | Fedu | traveltime | studytime | failures | famrel | freetime | goout | Dalc | Walc | health | absences | G1 | G2 | G3 |\n",
       "|---|---|---|---|---|---|---|---|---|---|---|---|---|---|---|---|---|\n",
       "| age |  1.000000000 | -0.163658419 | -0.163438069 |  0.070640721 | -0.004140037 |  0.24366538 |  0.053940096 |  0.01643439 |  0.126963880 |  0.131124605 |  0.11727605 | -0.062187369 |  0.17523008 | -0.06408150 | -0.14347405 | -0.16157944 |\n",
       "| Medu | -0.163658419 |  1.000000000 |  0.623455112 | -0.171639305 |  0.064944137 | -0.23667996 | -0.003914458 |  0.03089087 |  0.064094438 |  0.019834099 | -0.04712346 | -0.046877829 |  0.10028482 |  0.20534100 |  0.21552717 |  0.21714750 |\n",
       "| Fedu | -0.163438069 |  0.623455112 |  1.000000000 | -0.158194054 | -0.009174639 | -0.25040844 | -0.001369727 | -0.01284553 |  0.043104668 |  0.002386429 | -0.01263102 |  0.014741537 |  0.02447289 |  0.19026994 |  0.16489339 |  0.15245694 |\n",
       "| traveltime |  0.070640721 | -0.171639305 | -0.158194054 |  1.000000000 | -0.100909119 |  0.09223875 | -0.016807986 | -0.01702494 |  0.028539674 |  0.138325309 |  0.13411575 |  0.007500606 | -0.01294378 | -0.09303999 | -0.15319796 | -0.11714205 |\n",
       "| studytime | -0.004140037 |  0.064944137 | -0.009174639 | -0.100909119 |  1.000000000 | -0.17356303 |  0.039730704 | -0.14319841 | -0.063903675 | -0.196019263 | -0.25378473 | -0.075615863 | -0.06270018 |  0.16061192 |  0.13588000 |  0.09781969 |\n",
       "| failures |  0.243665377 | -0.236679963 | -0.250408444 |  0.092238746 | -0.173563031 |  1.00000000 | -0.044336626 |  0.09198747 |  0.124560922 |  0.136046931 |  0.14196203 |  0.065827282 |  0.06372583 | -0.35471761 | -0.35589563 | -0.36041494 |\n",
       "| famrel |  0.053940096 | -0.003914458 | -0.001369727 | -0.016807986 |  0.039730704 | -0.04433663 |  1.000000000 |  0.15070144 |  0.064568411 | -0.077594357 | -0.11339731 |  0.094055728 | -0.04435409 |  0.02216832 | -0.01828135 |  0.05136343 |\n",
       "| freetime |  0.016434389 |  0.030890867 | -0.012845528 | -0.017024944 | -0.143198407 |  0.09198747 |  0.150701444 |  1.00000000 |  0.285018715 |  0.209000848 |  0.14782181 |  0.075733357 | -0.05807792 |  0.01261293 | -0.01377714 |  0.01130724 |\n",
       "| goout |  0.126963880 |  0.064094438 |  0.043104668 |  0.028539674 | -0.063903675 |  0.12456092 |  0.064568411 |  0.28501871 |  1.000000000 |  0.266993848 |  0.42038575 | -0.009577254 |  0.04430222 | -0.14910397 | -0.16225003 | -0.13279147 |\n",
       "| Dalc |  0.131124605 |  0.019834099 |  0.002386429 |  0.138325309 | -0.196019263 |  0.13604693 | -0.077594357 |  0.20900085 |  0.266993848 |  1.000000000 |  0.64754423 |  0.077179582 |  0.11190803 | -0.09415879 | -0.06412018 | -0.05466004 |\n",
       "| Walc |  0.117276052 | -0.047123460 | -0.012631018 |  0.134115752 | -0.253784731 |  0.14196203 | -0.113397308 |  0.14782181 |  0.420385745 |  0.647544230 |  1.00000000 |  0.092476317 |  0.13629110 | -0.12617921 | -0.08492735 | -0.05193932 |\n",
       "| health | -0.062187369 | -0.046877829 |  0.014741537 |  0.007500606 | -0.075615863 |  0.06582728 |  0.094055728 |  0.07573336 | -0.009577254 |  0.077179582 |  0.09247632 |  1.000000000 | -0.02993671 | -0.07317207 | -0.09771987 | -0.06133460 |\n",
       "| absences |  0.175230079 |  0.100284818 |  0.024472887 | -0.012943775 | -0.062700175 |  0.06372583 | -0.044354095 | -0.05807792 |  0.044302220 |  0.111908026 |  0.13629110 | -0.029936711 |  1.00000000 | -0.03100290 | -0.03177670 |  0.03424732 |\n",
       "| G1 | -0.064081497 |  0.205340997 |  0.190269936 | -0.093039992 |  0.160611915 | -0.35471761 |  0.022168316 |  0.01261293 | -0.149103967 | -0.094158792 | -0.12617921 | -0.073172073 | -0.03100290 |  1.00000000 |  0.85211807 |  0.80146793 |\n",
       "| G2 | -0.143474049 |  0.215527168 |  0.164893393 | -0.153197963 |  0.135879999 | -0.35589563 | -0.018281347 | -0.01377714 | -0.162250034 | -0.064120183 | -0.08492735 | -0.097719866 | -0.03177670 |  0.85211807 |  1.00000000 |  0.90486799 |\n",
       "| G3 | -0.161579438 |  0.217147496 |  0.152456939 | -0.117142053 |  0.097819690 | -0.36041494 |  0.051363429 |  0.01130724 | -0.132791474 | -0.054660041 | -0.05193932 | -0.061334605 |  0.03424732 |  0.80146793 |  0.90486799 |  1.00000000 |\n",
       "\n"
      ],
      "text/plain": [
       "           age          Medu         Fedu         traveltime   studytime   \n",
       "age         1.000000000 -0.163658419 -0.163438069  0.070640721 -0.004140037\n",
       "Medu       -0.163658419  1.000000000  0.623455112 -0.171639305  0.064944137\n",
       "Fedu       -0.163438069  0.623455112  1.000000000 -0.158194054 -0.009174639\n",
       "traveltime  0.070640721 -0.171639305 -0.158194054  1.000000000 -0.100909119\n",
       "studytime  -0.004140037  0.064944137 -0.009174639 -0.100909119  1.000000000\n",
       "failures    0.243665377 -0.236679963 -0.250408444  0.092238746 -0.173563031\n",
       "famrel      0.053940096 -0.003914458 -0.001369727 -0.016807986  0.039730704\n",
       "freetime    0.016434389  0.030890867 -0.012845528 -0.017024944 -0.143198407\n",
       "goout       0.126963880  0.064094438  0.043104668  0.028539674 -0.063903675\n",
       "Dalc        0.131124605  0.019834099  0.002386429  0.138325309 -0.196019263\n",
       "Walc        0.117276052 -0.047123460 -0.012631018  0.134115752 -0.253784731\n",
       "health     -0.062187369 -0.046877829  0.014741537  0.007500606 -0.075615863\n",
       "absences    0.175230079  0.100284818  0.024472887 -0.012943775 -0.062700175\n",
       "G1         -0.064081497  0.205340997  0.190269936 -0.093039992  0.160611915\n",
       "G2         -0.143474049  0.215527168  0.164893393 -0.153197963  0.135879999\n",
       "G3         -0.161579438  0.217147496  0.152456939 -0.117142053  0.097819690\n",
       "           failures    famrel       freetime    goout        Dalc        \n",
       "age         0.24366538  0.053940096  0.01643439  0.126963880  0.131124605\n",
       "Medu       -0.23667996 -0.003914458  0.03089087  0.064094438  0.019834099\n",
       "Fedu       -0.25040844 -0.001369727 -0.01284553  0.043104668  0.002386429\n",
       "traveltime  0.09223875 -0.016807986 -0.01702494  0.028539674  0.138325309\n",
       "studytime  -0.17356303  0.039730704 -0.14319841 -0.063903675 -0.196019263\n",
       "failures    1.00000000 -0.044336626  0.09198747  0.124560922  0.136046931\n",
       "famrel     -0.04433663  1.000000000  0.15070144  0.064568411 -0.077594357\n",
       "freetime    0.09198747  0.150701444  1.00000000  0.285018715  0.209000848\n",
       "goout       0.12456092  0.064568411  0.28501871  1.000000000  0.266993848\n",
       "Dalc        0.13604693 -0.077594357  0.20900085  0.266993848  1.000000000\n",
       "Walc        0.14196203 -0.113397308  0.14782181  0.420385745  0.647544230\n",
       "health      0.06582728  0.094055728  0.07573336 -0.009577254  0.077179582\n",
       "absences    0.06372583 -0.044354095 -0.05807792  0.044302220  0.111908026\n",
       "G1         -0.35471761  0.022168316  0.01261293 -0.149103967 -0.094158792\n",
       "G2         -0.35589563 -0.018281347 -0.01377714 -0.162250034 -0.064120183\n",
       "G3         -0.36041494  0.051363429  0.01130724 -0.132791474 -0.054660041\n",
       "           Walc        health       absences    G1          G2         \n",
       "age         0.11727605 -0.062187369  0.17523008 -0.06408150 -0.14347405\n",
       "Medu       -0.04712346 -0.046877829  0.10028482  0.20534100  0.21552717\n",
       "Fedu       -0.01263102  0.014741537  0.02447289  0.19026994  0.16489339\n",
       "traveltime  0.13411575  0.007500606 -0.01294378 -0.09303999 -0.15319796\n",
       "studytime  -0.25378473 -0.075615863 -0.06270018  0.16061192  0.13588000\n",
       "failures    0.14196203  0.065827282  0.06372583 -0.35471761 -0.35589563\n",
       "famrel     -0.11339731  0.094055728 -0.04435409  0.02216832 -0.01828135\n",
       "freetime    0.14782181  0.075733357 -0.05807792  0.01261293 -0.01377714\n",
       "goout       0.42038575 -0.009577254  0.04430222 -0.14910397 -0.16225003\n",
       "Dalc        0.64754423  0.077179582  0.11190803 -0.09415879 -0.06412018\n",
       "Walc        1.00000000  0.092476317  0.13629110 -0.12617921 -0.08492735\n",
       "health      0.09247632  1.000000000 -0.02993671 -0.07317207 -0.09771987\n",
       "absences    0.13629110 -0.029936711  1.00000000 -0.03100290 -0.03177670\n",
       "G1         -0.12617921 -0.073172073 -0.03100290  1.00000000  0.85211807\n",
       "G2         -0.08492735 -0.097719866 -0.03177670  0.85211807  1.00000000\n",
       "G3         -0.05193932 -0.061334605  0.03424732  0.80146793  0.90486799\n",
       "           G3         \n",
       "age        -0.16157944\n",
       "Medu        0.21714750\n",
       "Fedu        0.15245694\n",
       "traveltime -0.11714205\n",
       "studytime   0.09781969\n",
       "failures   -0.36041494\n",
       "famrel      0.05136343\n",
       "freetime    0.01130724\n",
       "goout      -0.13279147\n",
       "Dalc       -0.05466004\n",
       "Walc       -0.05193932\n",
       "health     -0.06133460\n",
       "absences    0.03424732\n",
       "G1          0.80146793\n",
       "G2          0.90486799\n",
       "G3          1.00000000"
      ]
     },
     "metadata": {},
     "output_type": "display_data"
    }
   ],
   "source": [
    "# Grab only numeric columns\n",
    "num.cols <- sapply(df, is.numeric)\n",
    "\n",
    "# Filter to numeric columns for correlation\n",
    "cor.data <- cor(df[,num.cols])\n",
    "\n",
    "cor.data"
   ]
  },
  {
   "cell_type": "markdown",
   "metadata": {},
   "source": [
    "While this is fantastic information, it's hard to take it all in. Let's visualize all this data. There are lots of amazing 3rd party packages to do this, let's use and install the 'corrgram' package and the corrplot package. This will also install a bunch of dependencies for the package."
   ]
  },
  {
   "cell_type": "code",
   "execution_count": 8,
   "metadata": {},
   "outputs": [
    {
     "name": "stdout",
     "output_type": "stream",
     "text": [
      "package 'corrplot' successfully unpacked and MD5 sums checked\n",
      "package 'corrgram' successfully unpacked and MD5 sums checked\n",
      "\n",
      "The downloaded binary packages are in\n",
      "\tC:\\Users\\jcdunne\\AppData\\Local\\Temp\\RtmpeMrhpS\\downloaded_packages\n"
     ]
    },
    {
     "name": "stderr",
     "output_type": "stream",
     "text": [
      "corrplot 0.84 loaded\n",
      "Registered S3 method overwritten by 'seriation':\n",
      "  method         from \n",
      "  reorder.hclust gclus\n"
     ]
    }
   ],
   "source": [
    "install.packages(c('corrplot','corrgram'))\n",
    "library(corrplot)\n",
    "library(corrgram)"
   ]
  },
  {
   "cell_type": "markdown",
   "metadata": {},
   "source": [
    "Let's start by using corrplot, the most common one. Here's a really nice [documentation page](https://cran.r-project.org/web/packages/corrplot/vignettes/corrplot-intro.html) on the package. I encourage you to play around with it."
   ]
  },
  {
   "cell_type": "markdown",
   "metadata": {},
   "source": [
    "Cleary we have very high correlation between G1, G2, and G3 which makes sense since those are grades:\n",
    "\n",
    "* 31 G1 - first period grade (numeric: from 0 to 20)\n",
    "* 32 G2 - second period grade (numeric: from 0 to 20)\n",
    "* 33 G3 - final grade (numeric: from 0 to 20, output target)\n",
    "\n",
    "Meaning good students do well each period, and poor students do poorly each period, etc. Also a high G1,G2, or G3 value has a negative correlation with failure (number of past class failures).\n",
    "\n",
    "Also Mother and Father education levels are correlated, which also makes sense.\n",
    "\n",
    "We can also use the corrgram which allows to just automatically do these type of figures by just passing in the dataframe directly. There's a lot going on here, so reference the documentation of corrgram for more info."
   ]
  },
  {
   "cell_type": "code",
   "execution_count": 9,
   "metadata": {},
   "outputs": [
    {
     "data": {
      "image/png": "[encoded data removed]",
      "text/plain": [
       "plot without title"
      ]
     },
     "metadata": {},
     "output_type": "display_data"
    }
   ],
   "source": [
    "corrgram(df,order=TRUE, lower.panel=panel.shade,\n",
    "  upper.panel=panel.pie, text.panel=panel.txt)"
   ]
  },
  {
   "cell_type": "markdown",
   "metadata": {},
   "source": [
    "Since we're going to eventually try to predict the G3 score let's see a histogram of these scores:"
   ]
  },
  {
   "cell_type": "code",
   "execution_count": 10,
   "metadata": {},
   "outputs": [
    {
     "data": {
      "image/png": "[encoded data removed]",
      "text/plain": [
       "plot without title"
      ]
     },
     "metadata": {},
     "output_type": "display_data"
    }
   ],
   "source": [
    "ggplot(df,aes(x=G3)) + geom_histogram(bins=20,alpha=0.5,fill='blue') + theme_minimal()"
   ]
  },
  {
   "cell_type": "markdown",
   "metadata": {},
   "source": [
    "Looks like quite a few students get a zero. This is a good place to ask questions, like are students missing the test? Also why is the mean occurence so high? Is this test curved?\n",
    "\n",
    "Let's continue by building a model\n",
    "\n",
    "## Building a Model\n",
    "\n",
    "#### General Form:\n",
    "The general model of building a linear regression model in R looks like this:\n",
    "\n",
    "model <- lm(y ~ x1 + x2,data)\n",
    "\n",
    "or to use all the features in your data\n",
    "\n",
    "model <- lm(y ~. , data) # Uses all features\n",
    "\n",
    "## Train and Test Data\n",
    "We'll need to split our data into a training set and a testing set in order to test our accuracy. We can do this easily using the caTools library:"
   ]
  },
  {
   "cell_type": "code",
   "execution_count": 11,
   "metadata": {},
   "outputs": [
    {
     "name": "stdout",
     "output_type": "stream",
     "text": [
      "package 'caTools' successfully unpacked and MD5 sums checked\n"
     ]
    },
    {
     "name": "stderr",
     "output_type": "stream",
     "text": [
      "Warning message:\n",
      "\"cannot remove prior installation of package 'caTools'\"Warning message in file.copy(savedcopy, lib, recursive = TRUE):\n",
      "\"problem copying C:\\Users\\jcdunne\\AppData\\Local\\Continuum\\anaconda3\\Lib\\R\\library\\00LOCK\\caTools\\libs\\x64\\caTools.dll to C:\\Users\\jcdunne\\AppData\\Local\\Continuum\\anaconda3\\Lib\\R\\library\\caTools\\libs\\x64\\caTools.dll: Permission denied\"Warning message:\n",
      "\"restored 'caTools'\""
     ]
    },
    {
     "name": "stdout",
     "output_type": "stream",
     "text": [
      "\n",
      "The downloaded binary packages are in\n",
      "\tC:\\Users\\jcdunne\\AppData\\Local\\Temp\\RtmpeMrhpS\\downloaded_packages\n"
     ]
    }
   ],
   "source": [
    "install.packages('caTools')\n",
    "# Import Library\n",
    "library(caTools)\n",
    "# Set a random see so your \"random\" results are the same as this notebook\n",
    "set.seed(101) \n",
    "\n",
    "# Split up the sample, basically randomly assigns a booleans to a new column \"sample\"\n",
    "sample <- sample.split(df$age, SplitRatio = 0.70) # SplitRatio = percent of sample==TRUE\n",
    "\n",
    "# Training Data\n",
    "train = subset(df, sample == TRUE)\n",
    "\n",
    "# Testing Data\n",
    "test = subset(df, sample == FALSE)"
   ]
  },
  {
   "cell_type": "markdown",
   "metadata": {},
   "source": [
    "## Training our Model\n",
    "Let's train our model on our training data, then ask for a summary of that model:"
   ]
  },
  {
   "cell_type": "code",
   "execution_count": 13,
   "metadata": {},
   "outputs": [],
   "source": [
    "model <- lm(G3 ~ .,train)"
   ]
  },
  {
   "cell_type": "code",
   "execution_count": 16,
   "metadata": {},
   "outputs": [
    {
     "data": {
      "text/plain": [
       "\n",
       "Call:\n",
       "lm(formula = G3 ~ ., data = train)\n",
       "\n",
       "Residuals:\n",
       "    Min      1Q  Median      3Q     Max \n",
       "-7.7681 -0.6423  0.2294  1.0691  4.5942 \n",
       "\n",
       "Coefficients:\n",
       "                  Estimate Std. Error t value Pr(>|t|)    \n",
       "(Intercept)      -1.329568   2.474569  -0.537 0.591574    \n",
       "schoolMS          0.838581   0.470545   1.782 0.076016 .  \n",
       "sexM              0.034883   0.275586   0.127 0.899382    \n",
       "age              -0.214994   0.119579  -1.798 0.073472 .  \n",
       "addressU          0.067190   0.326035   0.206 0.836905    \n",
       "famsizeLE3       -0.111068   0.283228  -0.392 0.695302    \n",
       "PstatusT         -0.153653   0.401679  -0.383 0.702417    \n",
       "Medu              0.279949   0.171111   1.636 0.103164    \n",
       "Fedu             -0.221275   0.151103  -1.464 0.144422    \n",
       "Mjobhealth        0.002065   0.610532   0.003 0.997304    \n",
       "Mjobother         0.509947   0.403195   1.265 0.207209    \n",
       "Mjobservices      0.475476   0.435332   1.092 0.275857    \n",
       "Mjobteacher       0.285345   0.550640   0.518 0.604802    \n",
       "Fjobhealth        0.433172   0.774191   0.560 0.576343    \n",
       "Fjobother        -0.296792   0.577217  -0.514 0.607611    \n",
       "Fjobservices     -0.311595   0.593628  -0.525 0.600148    \n",
       "Fjobteacher      -0.321205   0.712695  -0.451 0.652628    \n",
       "reasonhome       -0.431435   0.319907  -1.349 0.178755    \n",
       "reasonother       0.159612   0.454480   0.351 0.725755    \n",
       "reasonreputation -0.051845   0.317894  -0.163 0.870589    \n",
       "guardianmother    0.267462   0.311371   0.859 0.391226    \n",
       "guardianother    -0.157335   0.554872  -0.284 0.777003    \n",
       "traveltime        0.274301   0.197865   1.386 0.166968    \n",
       "studytime        -0.140650   0.155149  -0.907 0.365577    \n",
       "failures         -0.185333   0.211040  -0.878 0.380739    \n",
       "schoolsupyes      0.562716   0.379303   1.484 0.139268    \n",
       "famsupyes         0.369402   0.268848   1.374 0.170745    \n",
       "paidyes           0.060643   0.270971   0.224 0.823107    \n",
       "activitiesyes    -0.286006   0.247519  -1.155 0.249063    \n",
       "nurseryyes       -0.426858   0.315064  -1.355 0.176774    \n",
       "higheryes         0.503353   0.677346   0.743 0.458148    \n",
       "internetyes      -0.097405   0.331040  -0.294 0.768834    \n",
       "romanticyes      -0.243837   0.268414  -0.908 0.364577    \n",
       "famrel            0.494479   0.136663   3.618 0.000363 ***\n",
       "freetime         -0.139869   0.138297  -1.011 0.312879    \n",
       "goout             0.078871   0.128794   0.612 0.540879    \n",
       "Dalc             -0.248633   0.178366  -1.394 0.164651    \n",
       "Walc              0.221434   0.139178   1.591 0.112950    \n",
       "health            0.027495   0.095100   0.289 0.772748    \n",
       "absences          0.060830   0.017915   3.396 0.000804 ***\n",
       "G1                0.162966   0.076956   2.118 0.035255 *  \n",
       "G2                0.994677   0.066450  14.969  < 2e-16 ***\n",
       "---\n",
       "Signif. codes:  0 '***' 0.001 '**' 0.01 '*' 0.05 '.' 0.1 ' ' 1\n",
       "\n",
       "Residual standard error: 1.868 on 235 degrees of freedom\n",
       "Multiple R-squared:  0.8616,\tAdjusted R-squared:  0.8374 \n",
       "F-statistic: 35.68 on 41 and 235 DF,  p-value: < 2.2e-16\n"
      ]
     },
     "metadata": {},
     "output_type": "display_data"
    }
   ],
   "source": [
    "summary(model)"
   ]
  },
  {
   "cell_type": "markdown",
   "metadata": {},
   "source": [
    "## Model Interpretation\n",
    "Looks like Absences, Famrel, G1, and G2 scores are good predictors. With Age and SchoolMS also possibly contributing to a good model."
   ]
  },
  {
   "cell_type": "markdown",
   "metadata": {},
   "source": [
    "## Visualize our Model\n",
    "We can visualize our linear regression model by plotting out the residuals, the residuals are basically a measure of how off we are for each point in the plot versus our model (the error)."
   ]
  },
  {
   "cell_type": "code",
   "execution_count": 17,
   "metadata": {},
   "outputs": [
    {
     "data": {
      "text/html": [
       "<table>\n",
       "<caption>A data.frame: 6 × 1</caption>\n",
       "<thead>\n",
       "\t<tr><th></th><th scope=col>res</th></tr>\n",
       "\t<tr><th></th><th scope=col>&lt;dbl&gt;</th></tr>\n",
       "</thead>\n",
       "<tbody>\n",
       "\t<tr><th scope=row>1</th><td> 0.9678451</td></tr>\n",
       "\t<tr><th scope=row>5</th><td> 1.1829980</td></tr>\n",
       "\t<tr><th scope=row>6</th><td>-1.4096050</td></tr>\n",
       "\t<tr><th scope=row>7</th><td> 0.1125706</td></tr>\n",
       "\t<tr><th scope=row>9</th><td> 0.3814670</td></tr>\n",
       "\t<tr><th scope=row>10</th><td> 0.3221204</td></tr>\n",
       "</tbody>\n",
       "</table>\n"
      ],
      "text/latex": [
       "A data.frame: 6 × 1\n",
       "\\begin{tabular}{r|l}\n",
       "  & res\\\\\n",
       "  & <dbl>\\\\\n",
       "\\hline\n",
       "\t1 &  0.9678451\\\\\n",
       "\t5 &  1.1829980\\\\\n",
       "\t6 & -1.4096050\\\\\n",
       "\t7 &  0.1125706\\\\\n",
       "\t9 &  0.3814670\\\\\n",
       "\t10 &  0.3221204\\\\\n",
       "\\end{tabular}\n"
      ],
      "text/markdown": [
       "\n",
       "A data.frame: 6 × 1\n",
       "\n",
       "| <!--/--> | res &lt;dbl&gt; |\n",
       "|---|---|\n",
       "| 1 |  0.9678451 |\n",
       "| 5 |  1.1829980 |\n",
       "| 6 | -1.4096050 |\n",
       "| 7 |  0.1125706 |\n",
       "| 9 |  0.3814670 |\n",
       "| 10 |  0.3221204 |\n",
       "\n"
      ],
      "text/plain": [
       "   res       \n",
       "1   0.9678451\n",
       "5   1.1829980\n",
       "6  -1.4096050\n",
       "7   0.1125706\n",
       "9   0.3814670\n",
       "10  0.3221204"
      ]
     },
     "metadata": {},
     "output_type": "display_data"
    }
   ],
   "source": [
    "# Grab residuals\n",
    "res <- residuals(model)\n",
    "\n",
    "# Convert to DataFrame for gglpot\n",
    "res <- as.data.frame(res)\n",
    "\n",
    "head(res)"
   ]
  },
  {
   "cell_type": "markdown",
   "metadata": {},
   "source": [
    "## Why Plot Residuals?\n",
    "We want a histogram of our residuals to be normally distributed, something with a strong bimodal distribution may be a warning that our data was not a good fit for lienar regression. However, this can also be hidden from our model. A famous example is Anscombe's Quartet"
   ]
  },
  {
   "cell_type": "markdown",
   "metadata": {},
   "source": [
    "![](anscombe.png)"
   ]
  },
  {
   "cell_type": "markdown",
   "metadata": {},
   "source": [
    "## Using ggplot to plot residuals"
   ]
  },
  {
   "cell_type": "code",
   "execution_count": 18,
   "metadata": {},
   "outputs": [
    {
     "name": "stderr",
     "output_type": "stream",
     "text": [
      "`stat_bin()` using `bins = 30`. Pick better value with `binwidth`.\n"
     ]
    },
    {
     "data": {
      "image/png": "[encoded data removed]",
      "text/plain": [
       "plot without title"
      ]
     },
     "metadata": {},
     "output_type": "display_data"
    }
   ],
   "source": [
    "# Histogram of residuals\n",
    "ggplot(res,aes(res)) +  geom_histogram(fill='blue',alpha=0.5)"
   ]
  },
  {
   "cell_type": "markdown",
   "metadata": {},
   "source": [
    "Looks like there are some suspicious residual values that have a value less than -5. We can further explore this by just calling plot on our model. What these plots represent is outside the course of this lecture."
   ]
  },
  {
   "cell_type": "code",
   "execution_count": 19,
   "metadata": {
    "scrolled": false
   },
   "outputs": [
    {
     "data": {
      "image/png": "[encoded data removed]",
      "text/plain": [
       "Plot with title \"\""
      ]
     },
     "metadata": {},
     "output_type": "display_data"
    },
    {
     "data": {
      "image/png": "[encoded data removed]",
      "text/plain": [
       "Plot with title \"\""
      ]
     },
     "metadata": {},
     "output_type": "display_data"
    },
    {
     "data": {
      "image/png": "[encoded data removed]",
      "text/plain": [
       "Plot with title \"\""
      ]
     },
     "metadata": {},
     "output_type": "display_data"
    },
    {
     "data": {
      "image/png": "[encoded data removed]",
      "text/plain": [
       "Plot with title \"\""
      ]
     },
     "metadata": {},
     "output_type": "display_data"
    }
   ],
   "source": [
    "plot(model)"
   ]
  },
  {
   "cell_type": "markdown",
   "metadata": {},
   "source": [
    "Basically, after looking at these plots what you will realize is that our model (behaving as a continuous line), predicted students would get negative scores on their test. Let's make these all zeros when running our results against our predictions."
   ]
  },
  {
   "cell_type": "markdown",
   "metadata": {},
   "source": [
    "## Predictions\n",
    "Let's test our model by predicting on our testing set:"
   ]
  },
  {
   "cell_type": "code",
   "execution_count": 14,
   "metadata": {},
   "outputs": [],
   "source": [
    "G3.predictions <- predict(model,test)"
   ]
  },
  {
   "cell_type": "markdown",
   "metadata": {},
   "source": [
    "Now we can get the root mean squared error, a standardized measure of how off we were with our predicted values:"
   ]
  },
  {
   "cell_type": "code",
   "execution_count": 16,
   "metadata": {},
   "outputs": [
    {
     "data": {
      "text/html": [
       "<table>\n",
       "<caption>A data.frame: 6 × 2</caption>\n",
       "<thead>\n",
       "\t<tr><th></th><th scope=col>pred</th><th scope=col>real</th></tr>\n",
       "\t<tr><th></th><th scope=col>&lt;dbl&gt;</th><th scope=col>&lt;dbl&gt;</th></tr>\n",
       "</thead>\n",
       "<tbody>\n",
       "\t<tr><th scope=row>2</th><td> 3.835533</td><td> 6</td></tr>\n",
       "\t<tr><th scope=row>3</th><td> 7.148456</td><td>10</td></tr>\n",
       "\t<tr><th scope=row>4</th><td>13.257794</td><td>15</td></tr>\n",
       "\t<tr><th scope=row>8</th><td> 5.088100</td><td> 6</td></tr>\n",
       "\t<tr><th scope=row>15</th><td>14.934291</td><td>16</td></tr>\n",
       "\t<tr><th scope=row>16</th><td>13.835679</td><td>14</td></tr>\n",
       "</tbody>\n",
       "</table>\n"
      ],
      "text/latex": [
       "A data.frame: 6 × 2\n",
       "\\begin{tabular}{r|ll}\n",
       "  & pred & real\\\\\n",
       "  & <dbl> & <dbl>\\\\\n",
       "\\hline\n",
       "\t2 &  3.835533 &  6\\\\\n",
       "\t3 &  7.148456 & 10\\\\\n",
       "\t4 & 13.257794 & 15\\\\\n",
       "\t8 &  5.088100 &  6\\\\\n",
       "\t15 & 14.934291 & 16\\\\\n",
       "\t16 & 13.835679 & 14\\\\\n",
       "\\end{tabular}\n"
      ],
      "text/markdown": [
       "\n",
       "A data.frame: 6 × 2\n",
       "\n",
       "| <!--/--> | pred &lt;dbl&gt; | real &lt;dbl&gt; |\n",
       "|---|---|---|\n",
       "| 2 |  3.835533 |  6 |\n",
       "| 3 |  7.148456 | 10 |\n",
       "| 4 | 13.257794 | 15 |\n",
       "| 8 |  5.088100 |  6 |\n",
       "| 15 | 14.934291 | 16 |\n",
       "| 16 | 13.835679 | 14 |\n",
       "\n"
      ],
      "text/plain": [
       "   pred      real\n",
       "2   3.835533  6  \n",
       "3   7.148456 10  \n",
       "4  13.257794 15  \n",
       "8   5.088100  6  \n",
       "15 14.934291 16  \n",
       "16 13.835679 14  "
      ]
     },
     "metadata": {},
     "output_type": "display_data"
    }
   ],
   "source": [
    "results <- cbind(G3.predictions,test$G3) \n",
    "colnames(results) <- c('pred','real')\n",
    "results <- as.data.frame(results)\n",
    "head(results)"
   ]
  },
  {
   "cell_type": "markdown",
   "metadata": {},
   "source": [
    "Now let's take care of negative predictions. Lot's of ways to this, here's a more complicated way, but its a good example of creating a custom function for a custom problem:"
   ]
  },
  {
   "cell_type": "code",
   "execution_count": 17,
   "metadata": {},
   "outputs": [],
   "source": [
    "to_zero <- function(x){\n",
    "    if  (x < 0){\n",
    "        return(0)\n",
    "    }else{\n",
    "        return(x)\n",
    "    }\n",
    "}"
   ]
  },
  {
   "cell_type": "code",
   "execution_count": 18,
   "metadata": {},
   "outputs": [],
   "source": [
    "results$pred <- sapply(results$pred,to_zero)"
   ]
  },
  {
   "cell_type": "markdown",
   "metadata": {},
   "source": [
    "## Evaluate Predictions\n",
    "\n",
    "Here are three common evaluation metrics for regression problems:\n",
    "\n",
    "**Mean Absolute Error** (MAE) is the mean of the absolute value of the errors:\n",
    "\n",
    "$$\\frac 1n\\sum_{i=1}^n|y_i-\\hat{y}_i|$$\n",
    "\n",
    "**Mean Squared Error** (MSE) is the mean of the squared errors:\n",
    "\n",
    "$$\\frac 1n\\sum_{i=1}^n(y_i-\\hat{y}_i)^2$$\n",
    "\n",
    "**Root Mean Squared Error** (RMSE) is the square root of the mean of the squared errors:\n",
    "\n",
    "$$\\sqrt{\\frac 1n\\sum_{i=1}^n(y_i-\\hat{y}_i)^2}$$\n",
    "\n",
    "Comparing these metrics:\n",
    "\n",
    "- **MAE** is the easiest to understand, because it's the average error.\n",
    "- **MSE** is more popular than MAE, because MSE \"punishes\" larger errors, which tends to be useful in the real world.\n",
    "- **RMSE** is even more popular than MSE, because RMSE is interpretable in the \"y\" units.\n",
    "\n",
    "All of these are **loss functions**, because we want to minimize them.\n",
    "\n",
    "There's lots of ways to evaluate the prediction values, for example the MSE (mean squared error):"
   ]
  },
  {
   "cell_type": "code",
   "execution_count": 19,
   "metadata": {},
   "outputs": [
    {
     "name": "stdout",
     "output_type": "stream",
     "text": [
      "[1] 4.411405\n"
     ]
    }
   ],
   "source": [
    "mse <- mean((results$real-results$pred)^2)\n",
    "print(mse)"
   ]
  },
  {
   "cell_type": "markdown",
   "metadata": {},
   "source": [
    "Or the root mean squared error:"
   ]
  },
  {
   "cell_type": "code",
   "execution_count": 20,
   "metadata": {},
   "outputs": [
    {
     "data": {
      "text/html": [
       "2.10033451255583"
      ],
      "text/latex": [
       "2.10033451255583"
      ],
      "text/markdown": [
       "2.10033451255583"
      ],
      "text/plain": [
       "[1] 2.100335"
      ]
     },
     "metadata": {},
     "output_type": "display_data"
    }
   ],
   "source": [
    "mse^0.5"
   ]
  },
  {
   "cell_type": "markdown",
   "metadata": {},
   "source": [
    "Or just the R-Squared Value for our model (just for the predictions)"
   ]
  },
  {
   "cell_type": "code",
   "execution_count": 21,
   "metadata": {},
   "outputs": [
    {
     "data": {
      "text/html": [
       "0.777902260014962"
      ],
      "text/latex": [
       "0.777902260014962"
      ],
      "text/markdown": [
       "0.777902260014962"
      ],
      "text/plain": [
       "[1] 0.7779023"
      ]
     },
     "metadata": {},
     "output_type": "display_data"
    }
   ],
   "source": [
    "SSE = sum((results$pred - results$real)^2)\n",
    "SST = sum( (mean(df$G3) - results$real)^2)\n",
    "\n",
    "R2 = 1 - SSE/SST\n",
    "R2"
   ]
  },
  {
   "cell_type": "markdown",
   "metadata": {},
   "source": [
    "# <font color='red'>Logistic Regression</font>\n",
    "For this lecture we will be working with the Titanic Data Set from Kaggle. This is a very famous data set and very often is a student's first step in machine learning. We'll be trying to predict a classification- survival or deceased.\n",
    "\n",
    "Let's begin our understanding of implementing Logistic Regression in R for classification.\n",
    "\n",
    "We'll use a \"semi-cleaned\" version of the titanic data set, if you use the data set hosted directly on Kaggle, you may need to do some additional cleaning not shown in this notebook."
   ]
  },
  {
   "cell_type": "markdown",
   "metadata": {},
   "source": [
    "## The Data\n",
    "We can begin by loading in our training data into data frames:"
   ]
  },
  {
   "cell_type": "code",
   "execution_count": 27,
   "metadata": {},
   "outputs": [],
   "source": [
    "df.train <- read.csv('titanic_train.csv')"
   ]
  },
  {
   "cell_type": "code",
   "execution_count": 28,
   "metadata": {},
   "outputs": [
    {
     "data": {
      "text/html": [
       "<table>\n",
       "<caption>A data.frame: 6 × 12</caption>\n",
       "<thead>\n",
       "\t<tr><th scope=col>PassengerId</th><th scope=col>Survived</th><th scope=col>Pclass</th><th scope=col>Name</th><th scope=col>Sex</th><th scope=col>Age</th><th scope=col>SibSp</th><th scope=col>Parch</th><th scope=col>Ticket</th><th scope=col>Fare</th><th scope=col>Cabin</th><th scope=col>Embarked</th></tr>\n",
       "\t<tr><th scope=col>&lt;int&gt;</th><th scope=col>&lt;int&gt;</th><th scope=col>&lt;int&gt;</th><th scope=col>&lt;fct&gt;</th><th scope=col>&lt;fct&gt;</th><th scope=col>&lt;dbl&gt;</th><th scope=col>&lt;int&gt;</th><th scope=col>&lt;int&gt;</th><th scope=col>&lt;fct&gt;</th><th scope=col>&lt;dbl&gt;</th><th scope=col>&lt;fct&gt;</th><th scope=col>&lt;fct&gt;</th></tr>\n",
       "</thead>\n",
       "<tbody>\n",
       "\t<tr><td>1</td><td>0</td><td>3</td><td>Braund, Mr. Owen Harris                            </td><td>male  </td><td>22</td><td>1</td><td>0</td><td>A/5 21171       </td><td> 7.2500</td><td>    </td><td>S</td></tr>\n",
       "\t<tr><td>2</td><td>1</td><td>1</td><td>Cumings, Mrs. John Bradley (Florence Briggs Thayer)</td><td>female</td><td>38</td><td>1</td><td>0</td><td>PC 17599        </td><td>71.2833</td><td>C85 </td><td>C</td></tr>\n",
       "\t<tr><td>3</td><td>1</td><td>3</td><td>Heikkinen, Miss. Laina                             </td><td>female</td><td>26</td><td>0</td><td>0</td><td>STON/O2. 3101282</td><td> 7.9250</td><td>    </td><td>S</td></tr>\n",
       "\t<tr><td>4</td><td>1</td><td>1</td><td>Futrelle, Mrs. Jacques Heath (Lily May Peel)       </td><td>female</td><td>35</td><td>1</td><td>0</td><td>113803          </td><td>53.1000</td><td>C123</td><td>S</td></tr>\n",
       "\t<tr><td>5</td><td>0</td><td>3</td><td>Allen, Mr. William Henry                           </td><td>male  </td><td>35</td><td>0</td><td>0</td><td>373450          </td><td> 8.0500</td><td>    </td><td>S</td></tr>\n",
       "\t<tr><td>6</td><td>0</td><td>3</td><td>Moran, Mr. James                                   </td><td>male  </td><td>NA</td><td>0</td><td>0</td><td>330877          </td><td> 8.4583</td><td>    </td><td>Q</td></tr>\n",
       "</tbody>\n",
       "</table>\n"
      ],
      "text/latex": [
       "A data.frame: 6 × 12\n",
       "\\begin{tabular}{r|llllllllllll}\n",
       " PassengerId & Survived & Pclass & Name & Sex & Age & SibSp & Parch & Ticket & Fare & Cabin & Embarked\\\\\n",
       " <int> & <int> & <int> & <fct> & <fct> & <dbl> & <int> & <int> & <fct> & <dbl> & <fct> & <fct>\\\\\n",
       "\\hline\n",
       "\t 1 & 0 & 3 & Braund, Mr. Owen Harris                             & male   & 22 & 1 & 0 & A/5 21171        &  7.2500 &      & S\\\\\n",
       "\t 2 & 1 & 1 & Cumings, Mrs. John Bradley (Florence Briggs Thayer) & female & 38 & 1 & 0 & PC 17599         & 71.2833 & C85  & C\\\\\n",
       "\t 3 & 1 & 3 & Heikkinen, Miss. Laina                              & female & 26 & 0 & 0 & STON/O2. 3101282 &  7.9250 &      & S\\\\\n",
       "\t 4 & 1 & 1 & Futrelle, Mrs. Jacques Heath (Lily May Peel)        & female & 35 & 1 & 0 & 113803           & 53.1000 & C123 & S\\\\\n",
       "\t 5 & 0 & 3 & Allen, Mr. William Henry                            & male   & 35 & 0 & 0 & 373450           &  8.0500 &      & S\\\\\n",
       "\t 6 & 0 & 3 & Moran, Mr. James                                    & male   & NA & 0 & 0 & 330877           &  8.4583 &      & Q\\\\\n",
       "\\end{tabular}\n"
      ],
      "text/markdown": [
       "\n",
       "A data.frame: 6 × 12\n",
       "\n",
       "| PassengerId &lt;int&gt; | Survived &lt;int&gt; | Pclass &lt;int&gt; | Name &lt;fct&gt; | Sex &lt;fct&gt; | Age &lt;dbl&gt; | SibSp &lt;int&gt; | Parch &lt;int&gt; | Ticket &lt;fct&gt; | Fare &lt;dbl&gt; | Cabin &lt;fct&gt; | Embarked &lt;fct&gt; |\n",
       "|---|---|---|---|---|---|---|---|---|---|---|---|\n",
       "| 1 | 0 | 3 | Braund, Mr. Owen Harris                             | male   | 22 | 1 | 0 | A/5 21171        |  7.2500 | <!----> | S |\n",
       "| 2 | 1 | 1 | Cumings, Mrs. John Bradley (Florence Briggs Thayer) | female | 38 | 1 | 0 | PC 17599         | 71.2833 | C85  | C |\n",
       "| 3 | 1 | 3 | Heikkinen, Miss. Laina                              | female | 26 | 0 | 0 | STON/O2. 3101282 |  7.9250 | <!----> | S |\n",
       "| 4 | 1 | 1 | Futrelle, Mrs. Jacques Heath (Lily May Peel)        | female | 35 | 1 | 0 | 113803           | 53.1000 | C123 | S |\n",
       "| 5 | 0 | 3 | Allen, Mr. William Henry                            | male   | 35 | 0 | 0 | 373450           |  8.0500 | <!----> | S |\n",
       "| 6 | 0 | 3 | Moran, Mr. James                                    | male   | NA | 0 | 0 | 330877           |  8.4583 | <!----> | Q |\n",
       "\n"
      ],
      "text/plain": [
       "  PassengerId Survived Pclass\n",
       "1 1           0        3     \n",
       "2 2           1        1     \n",
       "3 3           1        3     \n",
       "4 4           1        1     \n",
       "5 5           0        3     \n",
       "6 6           0        3     \n",
       "  Name                                                Sex    Age SibSp Parch\n",
       "1 Braund, Mr. Owen Harris                             male   22  1     0    \n",
       "2 Cumings, Mrs. John Bradley (Florence Briggs Thayer) female 38  1     0    \n",
       "3 Heikkinen, Miss. Laina                              female 26  0     0    \n",
       "4 Futrelle, Mrs. Jacques Heath (Lily May Peel)        female 35  1     0    \n",
       "5 Allen, Mr. William Henry                            male   35  0     0    \n",
       "6 Moran, Mr. James                                    male   NA  0     0    \n",
       "  Ticket           Fare    Cabin Embarked\n",
       "1 A/5 21171         7.2500       S       \n",
       "2 PC 17599         71.2833 C85   C       \n",
       "3 STON/O2. 3101282  7.9250       S       \n",
       "4 113803           53.1000 C123  S       \n",
       "5 373450            8.0500       S       \n",
       "6 330877            8.4583       Q       "
      ]
     },
     "metadata": {},
     "output_type": "display_data"
    }
   ],
   "source": [
    "head(df.train)"
   ]
  },
  {
   "cell_type": "markdown",
   "metadata": {},
   "source": [
    "## Exploratory Data Analysis (EDA)\n",
    "Let's explore how much missing data we have. We can use the Amelia pacakge for this."
   ]
  },
  {
   "cell_type": "code",
   "execution_count": 29,
   "metadata": {},
   "outputs": [
    {
     "name": "stdout",
     "output_type": "stream",
     "text": [
      "package 'Amelia' successfully unpacked and MD5 sums checked\n",
      "\n",
      "The downloaded binary packages are in\n",
      "\tC:\\Users\\jcdunne\\AppData\\Local\\Temp\\Rtmpe6sjY2\\downloaded_packages\n"
     ]
    },
    {
     "name": "stderr",
     "output_type": "stream",
     "text": [
      "Loading required package: Rcpp\n",
      "## \n",
      "## Amelia II: Multiple Imputation\n",
      "## (Version 1.7.5, built: 2018-05-07)\n",
      "## Copyright (C) 2005-2019 James Honaker, Gary King and Matthew Blackwell\n",
      "## Refer to http://gking.harvard.edu/amelia/ for more information\n",
      "## \n"
     ]
    },
    {
     "data": {
      "image/png": "[encoded data removed]",
      "text/plain": [
       "Plot with title \"Titanic Training Data - Missings Map\""
      ]
     },
     "metadata": {},
     "output_type": "display_data"
    }
   ],
   "source": [
    "install.packages('Amelia')\n",
    "library(Amelia)\n",
    "missmap(df.train, main=\"Titanic Training Data - Missings Map\", \n",
    "        col=c(\"yellow\", \"black\"), legend=FALSE)"
   ]
  },
  {
   "cell_type": "markdown",
   "metadata": {},
   "source": [
    "Roughly 20 percent of the Age data is missing. The proportion of Age \"missings\" is likely small enough for reasonable replacement with some form of imputation.\n",
    "\n",
    "Let's continue on by visualizing some of the data."
   ]
  },
  {
   "cell_type": "markdown",
   "metadata": {},
   "source": [
    "## Data Visualization with ggplot2"
   ]
  },
  {
   "cell_type": "code",
   "execution_count": 30,
   "metadata": {},
   "outputs": [],
   "source": [
    "library(ggplot2)"
   ]
  },
  {
   "cell_type": "code",
   "execution_count": 31,
   "metadata": {},
   "outputs": [
    {
     "data": {
      "image/png": "[encoded data removed]",
      "text/plain": [
       "plot without title"
      ]
     },
     "metadata": {},
     "output_type": "display_data"
    }
   ],
   "source": [
    "ggplot(df.train,aes(Survived)) + geom_bar()"
   ]
  },
  {
   "cell_type": "code",
   "execution_count": 32,
   "metadata": {},
   "outputs": [
    {
     "data": {
      "image/png": "[encoded data removed]",
      "text/plain": [
       "plot without title"
      ]
     },
     "metadata": {},
     "output_type": "display_data"
    }
   ],
   "source": [
    "ggplot(df.train,aes(Pclass)) + geom_bar(aes(fill=factor(Pclass)),alpha=0.5)"
   ]
  },
  {
   "cell_type": "code",
   "execution_count": 33,
   "metadata": {},
   "outputs": [
    {
     "data": {
      "image/png": "[encoded data removed]",
      "text/plain": [
       "plot without title"
      ]
     },
     "metadata": {},
     "output_type": "display_data"
    }
   ],
   "source": [
    "ggplot(df.train,aes(Sex)) + geom_bar(aes(fill=factor(Sex)),alpha=0.5)"
   ]
  },
  {
   "cell_type": "code",
   "execution_count": 34,
   "metadata": {},
   "outputs": [
    {
     "name": "stderr",
     "output_type": "stream",
     "text": [
      "Warning message:\n",
      "\"Removed 177 rows containing non-finite values (stat_bin).\""
     ]
    },
    {
     "data": {
      "image/png": "[encoded data removed]",
      "text/plain": [
       "plot without title"
      ]
     },
     "metadata": {},
     "output_type": "display_data"
    }
   ],
   "source": [
    "ggplot(df.train,aes(Age)) + geom_histogram(fill='blue',bins=20,alpha=0.5)"
   ]
  },
  {
   "cell_type": "code",
   "execution_count": 35,
   "metadata": {},
   "outputs": [
    {
     "data": {
      "image/png": "[encoded data removed]",
      "text/plain": [
       "plot without title"
      ]
     },
     "metadata": {},
     "output_type": "display_data"
    }
   ],
   "source": [
    "ggplot(df.train,aes(SibSp)) + geom_bar(fill='red',alpha=0.5)"
   ]
  },
  {
   "cell_type": "code",
   "execution_count": 36,
   "metadata": {},
   "outputs": [
    {
     "name": "stderr",
     "output_type": "stream",
     "text": [
      "`stat_bin()` using `bins = 30`. Pick better value with `binwidth`.\n"
     ]
    },
    {
     "data": {
      "image/png": "[encoded data removed]",
      "text/plain": [
       "plot without title"
      ]
     },
     "metadata": {},
     "output_type": "display_data"
    }
   ],
   "source": [
    "ggplot(df.train,aes(Fare)) + geom_histogram(fill='green',color='black',alpha=0.5)"
   ]
  },
  {
   "cell_type": "markdown",
   "metadata": {},
   "source": [
    "## Data Cleaning\n",
    "We want to fill in missing age data instead of just dropping the missing age data rows. One way to do this is by filling in the mean age of all the passengers (imputation).\n",
    "\n",
    "However we can be smarter about this and check the average age by passenger class. For example:"
   ]
  },
  {
   "cell_type": "code",
   "execution_count": 37,
   "metadata": {},
   "outputs": [
    {
     "name": "stderr",
     "output_type": "stream",
     "text": [
      "Warning message:\n",
      "\"Removed 177 rows containing non-finite values (stat_boxplot).\""
     ]
    },
    {
     "data": {
      "image/png": "[encoded data removed]",
      "text/plain": [
       "plot without title"
      ]
     },
     "metadata": {},
     "output_type": "display_data"
    }
   ],
   "source": [
    "pl <- ggplot(df.train,aes(Pclass,Age)) + geom_boxplot(aes(group=Pclass,fill=factor(Pclass),alpha=0.4)) \n",
    "pl + scale_y_continuous(breaks = seq(min(0), max(80), by = 2))"
   ]
  },
  {
   "cell_type": "markdown",
   "metadata": {},
   "source": [
    "We can see the wealthier passengers in the higher classes tend to be older, which makes sense. We'll use these average age values to impute based on Pclass for Age."
   ]
  },
  {
   "cell_type": "code",
   "execution_count": 38,
   "metadata": {},
   "outputs": [],
   "source": [
    "impute_age <- function(age,class){\n",
    "    out <- age\n",
    "    for (i in 1:length(age)){\n",
    "        \n",
    "        if (is.na(age[i])){\n",
    "\n",
    "            if (class[i] == 1){\n",
    "                out[i] <- 37\n",
    "\n",
    "            }else if (class[i] == 2){\n",
    "                out[i] <- 29\n",
    "\n",
    "            }else{\n",
    "                out[i] <- 24\n",
    "            }\n",
    "        }else{\n",
    "            out[i]<-age[i]\n",
    "        }\n",
    "    }\n",
    "    return(out)\n",
    "}"
   ]
  },
  {
   "cell_type": "code",
   "execution_count": 39,
   "metadata": {},
   "outputs": [],
   "source": [
    "fixed.ages <- impute_age(df.train$Age,df.train$Pclass)"
   ]
  },
  {
   "cell_type": "code",
   "execution_count": 40,
   "metadata": {},
   "outputs": [],
   "source": [
    "df.train$Age <- fixed.ages"
   ]
  },
  {
   "cell_type": "markdown",
   "metadata": {},
   "source": [
    "Now let's check to see if it worked:"
   ]
  },
  {
   "cell_type": "code",
   "execution_count": 41,
   "metadata": {},
   "outputs": [
    {
     "data": {
      "image/png": "[encoded data removed]",
      "text/plain": [
       "Plot with title \"Titanic Training Data - Missings Map\""
      ]
     },
     "metadata": {},
     "output_type": "display_data"
    }
   ],
   "source": [
    "missmap(df.train, main=\"Titanic Training Data - Missings Map\", \n",
    "        col=c(\"yellow\", \"black\"), legend=FALSE)"
   ]
  },
  {
   "cell_type": "markdown",
   "metadata": {},
   "source": [
    "Let's continue with building our model"
   ]
  },
  {
   "cell_type": "markdown",
   "metadata": {},
   "source": [
    "## Building a Logistic Regression Model\n",
    "Now it is time to build our model. Let's begin by doing a final \"clean-up\" of our data by removing the features we won't be using and making sure that the features are of the correct data type."
   ]
  },
  {
   "cell_type": "code",
   "execution_count": 42,
   "metadata": {},
   "outputs": [
    {
     "name": "stdout",
     "output_type": "stream",
     "text": [
      "'data.frame':\t891 obs. of  12 variables:\n",
      " $ PassengerId: int  1 2 3 4 5 6 7 8 9 10 ...\n",
      " $ Survived   : int  0 1 1 1 0 0 0 0 1 1 ...\n",
      " $ Pclass     : int  3 1 3 1 3 3 1 3 3 2 ...\n",
      " $ Name       : Factor w/ 891 levels \"Abbing, Mr. Anthony\",..: 109 191 358 277 16 559 520 629 417 581 ...\n",
      " $ Sex        : Factor w/ 2 levels \"female\",\"male\": 2 1 1 1 2 2 2 2 1 1 ...\n",
      " $ Age        : num  22 38 26 35 35 24 54 2 27 14 ...\n",
      " $ SibSp      : int  1 1 0 1 0 0 0 3 0 1 ...\n",
      " $ Parch      : int  0 0 0 0 0 0 0 1 2 0 ...\n",
      " $ Ticket     : Factor w/ 681 levels \"110152\",\"110413\",..: 524 597 670 50 473 276 86 396 345 133 ...\n",
      " $ Fare       : num  7.25 71.28 7.92 53.1 8.05 ...\n",
      " $ Cabin      : Factor w/ 148 levels \"\",\"A10\",\"A14\",..: 1 83 1 57 1 1 131 1 1 1 ...\n",
      " $ Embarked   : Factor w/ 4 levels \"\",\"C\",\"Q\",\"S\": 4 2 4 4 4 3 4 4 4 2 ...\n"
     ]
    }
   ],
   "source": [
    "str(df.train)"
   ]
  },
  {
   "cell_type": "markdown",
   "metadata": {},
   "source": [
    "Let's remove what we won't use:"
   ]
  },
  {
   "cell_type": "code",
   "execution_count": 43,
   "metadata": {},
   "outputs": [
    {
     "data": {
      "text/html": [
       "<table>\n",
       "<caption>A data.frame: 3 × 12</caption>\n",
       "<thead>\n",
       "\t<tr><th scope=col>PassengerId</th><th scope=col>Survived</th><th scope=col>Pclass</th><th scope=col>Name</th><th scope=col>Sex</th><th scope=col>Age</th><th scope=col>SibSp</th><th scope=col>Parch</th><th scope=col>Ticket</th><th scope=col>Fare</th><th scope=col>Cabin</th><th scope=col>Embarked</th></tr>\n",
       "\t<tr><th scope=col>&lt;int&gt;</th><th scope=col>&lt;int&gt;</th><th scope=col>&lt;int&gt;</th><th scope=col>&lt;fct&gt;</th><th scope=col>&lt;fct&gt;</th><th scope=col>&lt;dbl&gt;</th><th scope=col>&lt;int&gt;</th><th scope=col>&lt;int&gt;</th><th scope=col>&lt;fct&gt;</th><th scope=col>&lt;dbl&gt;</th><th scope=col>&lt;fct&gt;</th><th scope=col>&lt;fct&gt;</th></tr>\n",
       "</thead>\n",
       "<tbody>\n",
       "\t<tr><td>1</td><td>0</td><td>3</td><td>Braund, Mr. Owen Harris                            </td><td>male  </td><td>22</td><td>1</td><td>0</td><td>A/5 21171       </td><td> 7.2500</td><td>   </td><td>S</td></tr>\n",
       "\t<tr><td>2</td><td>1</td><td>1</td><td>Cumings, Mrs. John Bradley (Florence Briggs Thayer)</td><td>female</td><td>38</td><td>1</td><td>0</td><td>PC 17599        </td><td>71.2833</td><td>C85</td><td>C</td></tr>\n",
       "\t<tr><td>3</td><td>1</td><td>3</td><td>Heikkinen, Miss. Laina                             </td><td>female</td><td>26</td><td>0</td><td>0</td><td>STON/O2. 3101282</td><td> 7.9250</td><td>   </td><td>S</td></tr>\n",
       "</tbody>\n",
       "</table>\n"
      ],
      "text/latex": [
       "A data.frame: 3 × 12\n",
       "\\begin{tabular}{r|llllllllllll}\n",
       " PassengerId & Survived & Pclass & Name & Sex & Age & SibSp & Parch & Ticket & Fare & Cabin & Embarked\\\\\n",
       " <int> & <int> & <int> & <fct> & <fct> & <dbl> & <int> & <int> & <fct> & <dbl> & <fct> & <fct>\\\\\n",
       "\\hline\n",
       "\t 1 & 0 & 3 & Braund, Mr. Owen Harris                             & male   & 22 & 1 & 0 & A/5 21171        &  7.2500 &     & S\\\\\n",
       "\t 2 & 1 & 1 & Cumings, Mrs. John Bradley (Florence Briggs Thayer) & female & 38 & 1 & 0 & PC 17599         & 71.2833 & C85 & C\\\\\n",
       "\t 3 & 1 & 3 & Heikkinen, Miss. Laina                              & female & 26 & 0 & 0 & STON/O2. 3101282 &  7.9250 &     & S\\\\\n",
       "\\end{tabular}\n"
      ],
      "text/markdown": [
       "\n",
       "A data.frame: 3 × 12\n",
       "\n",
       "| PassengerId &lt;int&gt; | Survived &lt;int&gt; | Pclass &lt;int&gt; | Name &lt;fct&gt; | Sex &lt;fct&gt; | Age &lt;dbl&gt; | SibSp &lt;int&gt; | Parch &lt;int&gt; | Ticket &lt;fct&gt; | Fare &lt;dbl&gt; | Cabin &lt;fct&gt; | Embarked &lt;fct&gt; |\n",
       "|---|---|---|---|---|---|---|---|---|---|---|---|\n",
       "| 1 | 0 | 3 | Braund, Mr. Owen Harris                             | male   | 22 | 1 | 0 | A/5 21171        |  7.2500 | <!----> | S |\n",
       "| 2 | 1 | 1 | Cumings, Mrs. John Bradley (Florence Briggs Thayer) | female | 38 | 1 | 0 | PC 17599         | 71.2833 | C85 | C |\n",
       "| 3 | 1 | 3 | Heikkinen, Miss. Laina                              | female | 26 | 0 | 0 | STON/O2. 3101282 |  7.9250 | <!----> | S |\n",
       "\n"
      ],
      "text/plain": [
       "  PassengerId Survived Pclass\n",
       "1 1           0        3     \n",
       "2 2           1        1     \n",
       "3 3           1        3     \n",
       "  Name                                                Sex    Age SibSp Parch\n",
       "1 Braund, Mr. Owen Harris                             male   22  1     0    \n",
       "2 Cumings, Mrs. John Bradley (Florence Briggs Thayer) female 38  1     0    \n",
       "3 Heikkinen, Miss. Laina                              female 26  0     0    \n",
       "  Ticket           Fare    Cabin Embarked\n",
       "1 A/5 21171         7.2500       S       \n",
       "2 PC 17599         71.2833 C85   C       \n",
       "3 STON/O2. 3101282  7.9250       S       "
      ]
     },
     "metadata": {},
     "output_type": "display_data"
    }
   ],
   "source": [
    "head(df.train,3)"
   ]
  },
  {
   "cell_type": "markdown",
   "metadata": {},
   "source": [
    "Let's select the relevant columns for training:"
   ]
  },
  {
   "cell_type": "code",
   "execution_count": 44,
   "metadata": {},
   "outputs": [],
   "source": [
    "library(dplyr)"
   ]
  },
  {
   "cell_type": "code",
   "execution_count": 45,
   "metadata": {},
   "outputs": [],
   "source": [
    "df.train <- select(df.train,-PassengerId,-Name,-Ticket,-Cabin)"
   ]
  },
  {
   "cell_type": "code",
   "execution_count": 46,
   "metadata": {},
   "outputs": [
    {
     "data": {
      "text/html": [
       "<table>\n",
       "<caption>A data.frame: 3 × 8</caption>\n",
       "<thead>\n",
       "\t<tr><th scope=col>Survived</th><th scope=col>Pclass</th><th scope=col>Sex</th><th scope=col>Age</th><th scope=col>SibSp</th><th scope=col>Parch</th><th scope=col>Fare</th><th scope=col>Embarked</th></tr>\n",
       "\t<tr><th scope=col>&lt;int&gt;</th><th scope=col>&lt;int&gt;</th><th scope=col>&lt;fct&gt;</th><th scope=col>&lt;dbl&gt;</th><th scope=col>&lt;int&gt;</th><th scope=col>&lt;int&gt;</th><th scope=col>&lt;dbl&gt;</th><th scope=col>&lt;fct&gt;</th></tr>\n",
       "</thead>\n",
       "<tbody>\n",
       "\t<tr><td>0</td><td>3</td><td>male  </td><td>22</td><td>1</td><td>0</td><td> 7.2500</td><td>S</td></tr>\n",
       "\t<tr><td>1</td><td>1</td><td>female</td><td>38</td><td>1</td><td>0</td><td>71.2833</td><td>C</td></tr>\n",
       "\t<tr><td>1</td><td>3</td><td>female</td><td>26</td><td>0</td><td>0</td><td> 7.9250</td><td>S</td></tr>\n",
       "</tbody>\n",
       "</table>\n"
      ],
      "text/latex": [
       "A data.frame: 3 × 8\n",
       "\\begin{tabular}{r|llllllll}\n",
       " Survived & Pclass & Sex & Age & SibSp & Parch & Fare & Embarked\\\\\n",
       " <int> & <int> & <fct> & <dbl> & <int> & <int> & <dbl> & <fct>\\\\\n",
       "\\hline\n",
       "\t 0 & 3 & male   & 22 & 1 & 0 &  7.2500 & S\\\\\n",
       "\t 1 & 1 & female & 38 & 1 & 0 & 71.2833 & C\\\\\n",
       "\t 1 & 3 & female & 26 & 0 & 0 &  7.9250 & S\\\\\n",
       "\\end{tabular}\n"
      ],
      "text/markdown": [
       "\n",
       "A data.frame: 3 × 8\n",
       "\n",
       "| Survived &lt;int&gt; | Pclass &lt;int&gt; | Sex &lt;fct&gt; | Age &lt;dbl&gt; | SibSp &lt;int&gt; | Parch &lt;int&gt; | Fare &lt;dbl&gt; | Embarked &lt;fct&gt; |\n",
       "|---|---|---|---|---|---|---|---|\n",
       "| 0 | 3 | male   | 22 | 1 | 0 |  7.2500 | S |\n",
       "| 1 | 1 | female | 38 | 1 | 0 | 71.2833 | C |\n",
       "| 1 | 3 | female | 26 | 0 | 0 |  7.9250 | S |\n",
       "\n"
      ],
      "text/plain": [
       "  Survived Pclass Sex    Age SibSp Parch Fare    Embarked\n",
       "1 0        3      male   22  1     0      7.2500 S       \n",
       "2 1        1      female 38  1     0     71.2833 C       \n",
       "3 1        3      female 26  0     0      7.9250 S       "
      ]
     },
     "metadata": {},
     "output_type": "display_data"
    }
   ],
   "source": [
    "head(df.train,3)"
   ]
  },
  {
   "cell_type": "markdown",
   "metadata": {},
   "source": [
    "Now let's set factor columns."
   ]
  },
  {
   "cell_type": "code",
   "execution_count": 47,
   "metadata": {},
   "outputs": [
    {
     "name": "stdout",
     "output_type": "stream",
     "text": [
      "'data.frame':\t891 obs. of  8 variables:\n",
      " $ Survived: int  0 1 1 1 0 0 0 0 1 1 ...\n",
      " $ Pclass  : int  3 1 3 1 3 3 1 3 3 2 ...\n",
      " $ Sex     : Factor w/ 2 levels \"female\",\"male\": 2 1 1 1 2 2 2 2 1 1 ...\n",
      " $ Age     : num  22 38 26 35 35 24 54 2 27 14 ...\n",
      " $ SibSp   : int  1 1 0 1 0 0 0 3 0 1 ...\n",
      " $ Parch   : int  0 0 0 0 0 0 0 1 2 0 ...\n",
      " $ Fare    : num  7.25 71.28 7.92 53.1 8.05 ...\n",
      " $ Embarked: Factor w/ 4 levels \"\",\"C\",\"Q\",\"S\": 4 2 4 4 4 3 4 4 4 2 ...\n"
     ]
    }
   ],
   "source": [
    "str(df.train)"
   ]
  },
  {
   "cell_type": "code",
   "execution_count": 48,
   "metadata": {},
   "outputs": [],
   "source": [
    "# Convert int to factors\n",
    "df.train$Survived <- factor(df.train$Survived)\n",
    "df.train$Pclass <- factor(df.train$Pclass)\n",
    "df.train$Parch <- factor(df.train$Parch)\n",
    "df.train$SibSp <- factor(df.train$SibSp)"
   ]
  },
  {
   "cell_type": "markdown",
   "metadata": {},
   "source": [
    "## Train the Model\n",
    "Now let's train the model"
   ]
  },
  {
   "cell_type": "code",
   "execution_count": 49,
   "metadata": {},
   "outputs": [],
   "source": [
    "log.model <- glm(formula=Survived ~ . , family = binomial(link='logit'),data = df.train)"
   ]
  },
  {
   "cell_type": "code",
   "execution_count": 50,
   "metadata": {},
   "outputs": [
    {
     "data": {
      "text/plain": [
       "\n",
       "Call:\n",
       "glm(formula = Survived ~ ., family = binomial(link = \"logit\"), \n",
       "    data = df.train)\n",
       "\n",
       "Deviance Residuals: \n",
       "    Min       1Q   Median       3Q      Max  \n",
       "-2.8158  -0.6134  -0.4138   0.5808   2.4896  \n",
       "\n",
       "Coefficients:\n",
       "              Estimate Std. Error z value Pr(>|z|)    \n",
       "(Intercept)  1.845e+01  1.660e+03   0.011 0.991134    \n",
       "Pclass2     -1.079e+00  3.092e-01  -3.490 0.000484 ***\n",
       "Pclass3     -2.191e+00  3.161e-01  -6.930 4.20e-12 ***\n",
       "Sexmale     -2.677e+00  2.040e-01 -13.123  < 2e-16 ***\n",
       "Age         -3.971e-02  8.758e-03  -4.534 5.79e-06 ***\n",
       "SibSp1       8.135e-02  2.245e-01   0.362 0.717133    \n",
       "SibSp2      -2.897e-01  5.368e-01  -0.540 0.589361    \n",
       "SibSp3      -2.241e+00  7.202e-01  -3.111 0.001862 ** \n",
       "SibSp4      -1.675e+00  7.620e-01  -2.198 0.027954 *  \n",
       "SibSp5      -1.595e+01  9.588e+02  -0.017 0.986731    \n",
       "SibSp8      -1.607e+01  7.578e+02  -0.021 0.983077    \n",
       "Parch1       3.741e-01  2.895e-01   1.292 0.196213    \n",
       "Parch2       3.862e-02  3.824e-01   0.101 0.919560    \n",
       "Parch3       3.655e-01  1.056e+00   0.346 0.729318    \n",
       "Parch4      -1.586e+01  1.055e+03  -0.015 0.988007    \n",
       "Parch5      -1.152e+00  1.172e+00  -0.983 0.325771    \n",
       "Parch6      -1.643e+01  2.400e+03  -0.007 0.994536    \n",
       "Fare         2.109e-03  2.490e-03   0.847 0.397036    \n",
       "EmbarkedC   -1.458e+01  1.660e+03  -0.009 0.992995    \n",
       "EmbarkedQ   -1.456e+01  1.660e+03  -0.009 0.993001    \n",
       "EmbarkedS   -1.486e+01  1.660e+03  -0.009 0.992857    \n",
       "---\n",
       "Signif. codes:  0 '***' 0.001 '**' 0.01 '*' 0.05 '.' 0.1 ' ' 1\n",
       "\n",
       "(Dispersion parameter for binomial family taken to be 1)\n",
       "\n",
       "    Null deviance: 1186.66  on 890  degrees of freedom\n",
       "Residual deviance:  763.41  on 870  degrees of freedom\n",
       "AIC: 805.41\n",
       "\n",
       "Number of Fisher Scoring iterations: 15\n"
      ]
     },
     "metadata": {},
     "output_type": "display_data"
    }
   ],
   "source": [
    "summary(log.model)"
   ]
  },
  {
   "cell_type": "markdown",
   "metadata": {},
   "source": [
    "We can see clearly that Sex, Age, and Class are the most significant features. Which makes sense given the women and children first policy."
   ]
  },
  {
   "cell_type": "markdown",
   "metadata": {},
   "source": [
    "## Predicting using Test Cases\n",
    "Let's make a test set out of our training set, retrain on the smaller version of our training set and check it against the test subset."
   ]
  },
  {
   "cell_type": "code",
   "execution_count": 51,
   "metadata": {},
   "outputs": [],
   "source": [
    "library(caTools)\n",
    "set.seed(101)\n",
    "\n",
    "split = sample.split(df.train$Survived, SplitRatio = 0.70)\n",
    "\n",
    "final.train = subset(df.train, split == TRUE)\n",
    "final.test = subset(df.train, split == FALSE)"
   ]
  },
  {
   "cell_type": "markdown",
   "metadata": {},
   "source": [
    "Now let's rerun our model on only our final training set:"
   ]
  },
  {
   "cell_type": "code",
   "execution_count": 52,
   "metadata": {},
   "outputs": [],
   "source": [
    "final.log.model <- glm(formula=Survived ~ . , family = binomial(link='logit'),data = final.train)"
   ]
  },
  {
   "cell_type": "code",
   "execution_count": 53,
   "metadata": {},
   "outputs": [
    {
     "data": {
      "text/plain": [
       "\n",
       "Call:\n",
       "glm(formula = Survived ~ ., family = binomial(link = \"logit\"), \n",
       "    data = final.train)\n",
       "\n",
       "Deviance Residuals: \n",
       "    Min       1Q   Median       3Q      Max  \n",
       "-2.8288  -0.5607  -0.4096   0.6174   2.4898  \n",
       "\n",
       "Coefficients:\n",
       "              Estimate Std. Error z value Pr(>|z|)    \n",
       "(Intercept)  1.777e+01  2.400e+03   0.007 0.994091    \n",
       "Pclass2     -1.230e+00  3.814e-01  -3.225 0.001261 ** \n",
       "Pclass3     -2.160e+00  3.841e-01  -5.624 1.87e-08 ***\n",
       "Sexmale     -2.660e+00  2.467e-01 -10.782  < 2e-16 ***\n",
       "Age         -3.831e-02  1.034e-02  -3.705 0.000212 ***\n",
       "SibSp1      -2.114e-02  2.755e-01  -0.077 0.938836    \n",
       "SibSp2      -4.000e-01  6.463e-01  -0.619 0.536028    \n",
       "SibSp3      -2.324e+00  8.994e-01  -2.584 0.009765 ** \n",
       "SibSp4      -1.196e+00  8.302e-01  -1.440 0.149839    \n",
       "SibSp5      -1.603e+01  9.592e+02  -0.017 0.986666    \n",
       "SibSp8      -1.633e+01  1.004e+03  -0.016 0.987019    \n",
       "Parch1       7.290e-01  3.545e-01   2.056 0.039771 *  \n",
       "Parch2       1.406e-01  4.504e-01   0.312 0.754892    \n",
       "Parch3       7.919e-01  1.229e+00   0.645 0.519226    \n",
       "Parch4      -1.498e+01  1.552e+03  -0.010 0.992300    \n",
       "Parch5      -9.772e-03  1.378e+00  -0.007 0.994343    \n",
       "Parch6      -1.635e+01  2.400e+03  -0.007 0.994563    \n",
       "Fare         3.128e-03  3.091e-03   1.012 0.311605    \n",
       "EmbarkedC   -1.398e+01  2.400e+03  -0.006 0.995353    \n",
       "EmbarkedQ   -1.387e+01  2.400e+03  -0.006 0.995386    \n",
       "EmbarkedS   -1.431e+01  2.400e+03  -0.006 0.995243    \n",
       "---\n",
       "Signif. codes:  0 '***' 0.001 '**' 0.01 '*' 0.05 '.' 0.1 ' ' 1\n",
       "\n",
       "(Dispersion parameter for binomial family taken to be 1)\n",
       "\n",
       "    Null deviance: 829.60  on 622  degrees of freedom\n",
       "Residual deviance: 530.63  on 602  degrees of freedom\n",
       "AIC: 572.63\n",
       "\n",
       "Number of Fisher Scoring iterations: 15\n"
      ]
     },
     "metadata": {},
     "output_type": "display_data"
    }
   ],
   "source": [
    "summary(final.log.model)"
   ]
  },
  {
   "cell_type": "markdown",
   "metadata": {},
   "source": [
    "Now let's check our prediction accuracy"
   ]
  },
  {
   "cell_type": "code",
   "execution_count": 54,
   "metadata": {},
   "outputs": [],
   "source": [
    "fitted.probabilities <- predict(final.log.model,newdata=final.test,type='response')"
   ]
  },
  {
   "cell_type": "markdown",
   "metadata": {},
   "source": [
    "Now let's calculate from the predicted values:"
   ]
  },
  {
   "cell_type": "code",
   "execution_count": 55,
   "metadata": {},
   "outputs": [],
   "source": [
    "fitted.results <- ifelse(fitted.probabilities > 0.5,1,0)"
   ]
  },
  {
   "cell_type": "code",
   "execution_count": 56,
   "metadata": {},
   "outputs": [
    {
     "name": "stdout",
     "output_type": "stream",
     "text": [
      "[1] \"Accuracy 0.798507462686567\"\n"
     ]
    }
   ],
   "source": [
    "misClasificError <- mean(fitted.results != final.test$Survived)\n",
    "print(paste('Accuracy',1-misClasificError))"
   ]
  },
  {
   "cell_type": "markdown",
   "metadata": {},
   "source": [
    "Looks like we were able to achieve around 80% accuracy, where as random guessing would have just been 50% accuracy. Let's see the confusion matrix:"
   ]
  },
  {
   "cell_type": "code",
   "execution_count": 57,
   "metadata": {},
   "outputs": [
    {
     "data": {
      "text/plain": [
       "   \n",
       "    FALSE TRUE\n",
       "  0   140   25\n",
       "  1    29   74"
      ]
     },
     "metadata": {},
     "output_type": "display_data"
    }
   ],
   "source": [
    "table(final.test$Survived, fitted.probabilities > 0.5)"
   ]
  },
  {
   "cell_type": "markdown",
   "metadata": {},
   "source": [
    "# <font color='red'>Principal Components</font>\n",
    "\n",
    "## PCA Review\n",
    "\n",
    "PCA is just a transformation of your data and attempts to find out what features explain the most variance in your data. The use of PCA is for dimension reduction. In statistics and genetics, often there are more data columns than can be modeled (not enough degrees of freedom available). Therefore, some dimensions that are highly correlated can be compressed or reduced into fewer columns using PCAs. "
   ]
  },
  {
   "cell_type": "markdown",
   "metadata": {},
   "source": [
    "## The Data\n",
    "\n",
    "We're going to be using the Wisconsin Breast Cancer dataset hosted by [Kaggle](https://www.kaggle.com/uciml/breast-cancer-wisconsin-data#data.csv) for the introduction to principle component analysis."
   ]
  },
  {
   "cell_type": "code",
   "execution_count": 58,
   "metadata": {},
   "outputs": [],
   "source": [
    "# Read in the dataset\n",
    "cancer <- read.csv('breast_cancer.csv')"
   ]
  },
  {
   "cell_type": "code",
   "execution_count": 59,
   "metadata": {},
   "outputs": [
    {
     "data": {
      "text/html": [
       "<table>\n",
       "<caption>A data.frame: 10 × 32</caption>\n",
       "<thead>\n",
       "\t<tr><th scope=col>ID</th><th scope=col>Diagnosis</th><th scope=col>radius_mean</th><th scope=col>texture_mean</th><th scope=col>perimeter_mean</th><th scope=col>area_mean</th><th scope=col>smoothness_mean</th><th scope=col>compactness_mean</th><th scope=col>concavity_mean</th><th scope=col>concave.points_mean</th><th scope=col>⋯</th><th scope=col>radius_worst</th><th scope=col>texture_worst</th><th scope=col>perimeter_worst</th><th scope=col>area_worst</th><th scope=col>smoothness_worst</th><th scope=col>compactness_worst</th><th scope=col>concavity_worst</th><th scope=col>concave.points_worst</th><th scope=col>symmetry_worst</th><th scope=col>fractal_dimension_worst</th></tr>\n",
       "\t<tr><th scope=col>&lt;int&gt;</th><th scope=col>&lt;fct&gt;</th><th scope=col>&lt;dbl&gt;</th><th scope=col>&lt;dbl&gt;</th><th scope=col>&lt;dbl&gt;</th><th scope=col>&lt;dbl&gt;</th><th scope=col>&lt;dbl&gt;</th><th scope=col>&lt;dbl&gt;</th><th scope=col>&lt;dbl&gt;</th><th scope=col>&lt;dbl&gt;</th><th scope=col>⋯</th><th scope=col>&lt;dbl&gt;</th><th scope=col>&lt;dbl&gt;</th><th scope=col>&lt;dbl&gt;</th><th scope=col>&lt;dbl&gt;</th><th scope=col>&lt;dbl&gt;</th><th scope=col>&lt;dbl&gt;</th><th scope=col>&lt;dbl&gt;</th><th scope=col>&lt;dbl&gt;</th><th scope=col>&lt;dbl&gt;</th><th scope=col>&lt;dbl&gt;</th></tr>\n",
       "</thead>\n",
       "<tbody>\n",
       "\t<tr><td> 1</td><td>M</td><td>17.99</td><td>10.38</td><td>122.80</td><td>1001.0</td><td>0.11840</td><td>0.27760</td><td>0.30010</td><td>0.14710</td><td>⋯</td><td>25.38</td><td>17.33</td><td>184.60</td><td>2019.0</td><td>0.1622</td><td>0.6656</td><td>0.7119</td><td>0.2654</td><td>0.4601</td><td>0.11890</td></tr>\n",
       "\t<tr><td> 2</td><td>M</td><td>20.57</td><td>17.77</td><td>132.90</td><td>1326.0</td><td>0.08474</td><td>0.07864</td><td>0.08690</td><td>0.07017</td><td>⋯</td><td>24.99</td><td>23.41</td><td>158.80</td><td>1956.0</td><td>0.1238</td><td>0.1866</td><td>0.2416</td><td>0.1860</td><td>0.2750</td><td>0.08902</td></tr>\n",
       "\t<tr><td> 3</td><td>M</td><td>19.69</td><td>21.25</td><td>130.00</td><td>1203.0</td><td>0.10960</td><td>0.15990</td><td>0.19740</td><td>0.12790</td><td>⋯</td><td>23.57</td><td>25.53</td><td>152.50</td><td>1709.0</td><td>0.1444</td><td>0.4245</td><td>0.4504</td><td>0.2430</td><td>0.3613</td><td>0.08758</td></tr>\n",
       "\t<tr><td> 4</td><td>M</td><td>11.42</td><td>20.38</td><td> 77.58</td><td> 386.1</td><td>0.14250</td><td>0.28390</td><td>0.24140</td><td>0.10520</td><td>⋯</td><td>14.91</td><td>26.50</td><td> 98.87</td><td> 567.7</td><td>0.2098</td><td>0.8663</td><td>0.6869</td><td>0.2575</td><td>0.6638</td><td>0.17300</td></tr>\n",
       "\t<tr><td> 5</td><td>M</td><td>20.29</td><td>14.34</td><td>135.10</td><td>1297.0</td><td>0.10030</td><td>0.13280</td><td>0.19800</td><td>0.10430</td><td>⋯</td><td>22.54</td><td>16.67</td><td>152.20</td><td>1575.0</td><td>0.1374</td><td>0.2050</td><td>0.4000</td><td>0.1625</td><td>0.2364</td><td>0.07678</td></tr>\n",
       "\t<tr><td> 6</td><td>M</td><td>12.45</td><td>15.70</td><td> 82.57</td><td> 477.1</td><td>0.12780</td><td>0.17000</td><td>0.15780</td><td>0.08089</td><td>⋯</td><td>15.47</td><td>23.75</td><td>103.40</td><td> 741.6</td><td>0.1791</td><td>0.5249</td><td>0.5355</td><td>0.1741</td><td>0.3985</td><td>0.12440</td></tr>\n",
       "\t<tr><td> 7</td><td>M</td><td>18.25</td><td>19.98</td><td>119.60</td><td>1040.0</td><td>0.09463</td><td>0.10900</td><td>0.11270</td><td>0.07400</td><td>⋯</td><td>22.88</td><td>27.66</td><td>153.20</td><td>1606.0</td><td>0.1442</td><td>0.2576</td><td>0.3784</td><td>0.1932</td><td>0.3063</td><td>0.08368</td></tr>\n",
       "\t<tr><td> 8</td><td>M</td><td>13.71</td><td>20.83</td><td> 90.20</td><td> 577.9</td><td>0.11890</td><td>0.16450</td><td>0.09366</td><td>0.05985</td><td>⋯</td><td>17.06</td><td>28.14</td><td>110.60</td><td> 897.0</td><td>0.1654</td><td>0.3682</td><td>0.2678</td><td>0.1556</td><td>0.3196</td><td>0.11510</td></tr>\n",
       "\t<tr><td> 9</td><td>M</td><td>13.00</td><td>21.82</td><td> 87.50</td><td> 519.8</td><td>0.12730</td><td>0.19320</td><td>0.18590</td><td>0.09353</td><td>⋯</td><td>15.49</td><td>30.73</td><td>106.20</td><td> 739.3</td><td>0.1703</td><td>0.5401</td><td>0.5390</td><td>0.2060</td><td>0.4378</td><td>0.10720</td></tr>\n",
       "\t<tr><td>10</td><td>M</td><td>12.46</td><td>24.04</td><td> 83.97</td><td> 475.9</td><td>0.11860</td><td>0.23960</td><td>0.22730</td><td>0.08543</td><td>⋯</td><td>15.09</td><td>40.68</td><td> 97.65</td><td> 711.4</td><td>0.1853</td><td>1.0580</td><td>1.1050</td><td>0.2210</td><td>0.4366</td><td>0.20750</td></tr>\n",
       "</tbody>\n",
       "</table>\n"
      ],
      "text/latex": [
       "A data.frame: 10 × 32\n",
       "\\begin{tabular}{r|llllllllllllllllllllllllllllllll}\n",
       " ID & Diagnosis & radius\\_mean & texture\\_mean & perimeter\\_mean & area\\_mean & smoothness\\_mean & compactness\\_mean & concavity\\_mean & concave.points\\_mean & symmetry\\_mean & fractal\\_dimension\\_mean & radius\\_se & texture\\_se & perimeter\\_se & area\\_se & smoothness\\_se & compactness\\_se & concavity\\_se & concave.points\\_se & symmetry\\_se & fractal\\_dimension\\_se & radius\\_worst & texture\\_worst & perimeter\\_worst & area\\_worst & smoothness\\_worst & compactness\\_worst & concavity\\_worst & concave.points\\_worst & symmetry\\_worst & fractal\\_dimension\\_worst\\\\\n",
       " <int> & <fct> & <dbl> & <dbl> & <dbl> & <dbl> & <dbl> & <dbl> & <dbl> & <dbl> & <dbl> & <dbl> & <dbl> & <dbl> & <dbl> & <dbl> & <dbl> & <dbl> & <dbl> & <dbl> & <dbl> & <dbl> & <dbl> & <dbl> & <dbl> & <dbl> & <dbl> & <dbl> & <dbl> & <dbl> & <dbl> & <dbl>\\\\\n",
       "\\hline\n",
       "\t  1 & M & 17.99 & 10.38 & 122.80 & 1001.0 & 0.11840 & 0.27760 & 0.30010 & 0.14710 & 0.2419 & 0.07871 & 1.0950 & 0.9053 & 8.589 & 153.40 & 0.006399 & 0.04904 & 0.05373 & 0.01587 & 0.03003 & 0.006193 & 25.38 & 17.33 & 184.60 & 2019.0 & 0.1622 & 0.6656 & 0.7119 & 0.2654 & 0.4601 & 0.11890\\\\\n",
       "\t  2 & M & 20.57 & 17.77 & 132.90 & 1326.0 & 0.08474 & 0.07864 & 0.08690 & 0.07017 & 0.1812 & 0.05667 & 0.5435 & 0.7339 & 3.398 &  74.08 & 0.005225 & 0.01308 & 0.01860 & 0.01340 & 0.01389 & 0.003532 & 24.99 & 23.41 & 158.80 & 1956.0 & 0.1238 & 0.1866 & 0.2416 & 0.1860 & 0.2750 & 0.08902\\\\\n",
       "\t  3 & M & 19.69 & 21.25 & 130.00 & 1203.0 & 0.10960 & 0.15990 & 0.19740 & 0.12790 & 0.2069 & 0.05999 & 0.7456 & 0.7869 & 4.585 &  94.03 & 0.006150 & 0.04006 & 0.03832 & 0.02058 & 0.02250 & 0.004571 & 23.57 & 25.53 & 152.50 & 1709.0 & 0.1444 & 0.4245 & 0.4504 & 0.2430 & 0.3613 & 0.08758\\\\\n",
       "\t  4 & M & 11.42 & 20.38 &  77.58 &  386.1 & 0.14250 & 0.28390 & 0.24140 & 0.10520 & 0.2597 & 0.09744 & 0.4956 & 1.1560 & 3.445 &  27.23 & 0.009110 & 0.07458 & 0.05661 & 0.01867 & 0.05963 & 0.009208 & 14.91 & 26.50 &  98.87 &  567.7 & 0.2098 & 0.8663 & 0.6869 & 0.2575 & 0.6638 & 0.17300\\\\\n",
       "\t  5 & M & 20.29 & 14.34 & 135.10 & 1297.0 & 0.10030 & 0.13280 & 0.19800 & 0.10430 & 0.1809 & 0.05883 & 0.7572 & 0.7813 & 5.438 &  94.44 & 0.011490 & 0.02461 & 0.05688 & 0.01885 & 0.01756 & 0.005115 & 22.54 & 16.67 & 152.20 & 1575.0 & 0.1374 & 0.2050 & 0.4000 & 0.1625 & 0.2364 & 0.07678\\\\\n",
       "\t  6 & M & 12.45 & 15.70 &  82.57 &  477.1 & 0.12780 & 0.17000 & 0.15780 & 0.08089 & 0.2087 & 0.07613 & 0.3345 & 0.8902 & 2.217 &  27.19 & 0.007510 & 0.03345 & 0.03672 & 0.01137 & 0.02165 & 0.005082 & 15.47 & 23.75 & 103.40 &  741.6 & 0.1791 & 0.5249 & 0.5355 & 0.1741 & 0.3985 & 0.12440\\\\\n",
       "\t  7 & M & 18.25 & 19.98 & 119.60 & 1040.0 & 0.09463 & 0.10900 & 0.11270 & 0.07400 & 0.1794 & 0.05742 & 0.4467 & 0.7732 & 3.180 &  53.91 & 0.004314 & 0.01382 & 0.02254 & 0.01039 & 0.01369 & 0.002179 & 22.88 & 27.66 & 153.20 & 1606.0 & 0.1442 & 0.2576 & 0.3784 & 0.1932 & 0.3063 & 0.08368\\\\\n",
       "\t  8 & M & 13.71 & 20.83 &  90.20 &  577.9 & 0.11890 & 0.16450 & 0.09366 & 0.05985 & 0.2196 & 0.07451 & 0.5835 & 1.3770 & 3.856 &  50.96 & 0.008805 & 0.03029 & 0.02488 & 0.01448 & 0.01486 & 0.005412 & 17.06 & 28.14 & 110.60 &  897.0 & 0.1654 & 0.3682 & 0.2678 & 0.1556 & 0.3196 & 0.11510\\\\\n",
       "\t  9 & M & 13.00 & 21.82 &  87.50 &  519.8 & 0.12730 & 0.19320 & 0.18590 & 0.09353 & 0.2350 & 0.07389 & 0.3063 & 1.0020 & 2.406 &  24.32 & 0.005731 & 0.03502 & 0.03553 & 0.01226 & 0.02143 & 0.003749 & 15.49 & 30.73 & 106.20 &  739.3 & 0.1703 & 0.5401 & 0.5390 & 0.2060 & 0.4378 & 0.10720\\\\\n",
       "\t 10 & M & 12.46 & 24.04 &  83.97 &  475.9 & 0.11860 & 0.23960 & 0.22730 & 0.08543 & 0.2030 & 0.08243 & 0.2976 & 1.5990 & 2.039 &  23.94 & 0.007149 & 0.07217 & 0.07743 & 0.01432 & 0.01789 & 0.010080 & 15.09 & 40.68 &  97.65 &  711.4 & 0.1853 & 1.0580 & 1.1050 & 0.2210 & 0.4366 & 0.20750\\\\\n",
       "\\end{tabular}\n"
      ],
      "text/markdown": [
       "\n",
       "A data.frame: 10 × 32\n",
       "\n",
       "| ID &lt;int&gt; | Diagnosis &lt;fct&gt; | radius_mean &lt;dbl&gt; | texture_mean &lt;dbl&gt; | perimeter_mean &lt;dbl&gt; | area_mean &lt;dbl&gt; | smoothness_mean &lt;dbl&gt; | compactness_mean &lt;dbl&gt; | concavity_mean &lt;dbl&gt; | concave.points_mean &lt;dbl&gt; | ⋯ ⋯ | radius_worst &lt;dbl&gt; | texture_worst &lt;dbl&gt; | perimeter_worst &lt;dbl&gt; | area_worst &lt;dbl&gt; | smoothness_worst &lt;dbl&gt; | compactness_worst &lt;dbl&gt; | concavity_worst &lt;dbl&gt; | concave.points_worst &lt;dbl&gt; | symmetry_worst &lt;dbl&gt; | fractal_dimension_worst &lt;dbl&gt; |\n",
       "|---|---|---|---|---|---|---|---|---|---|---|---|---|---|---|---|---|---|---|---|---|\n",
       "|  1 | M | 17.99 | 10.38 | 122.80 | 1001.0 | 0.11840 | 0.27760 | 0.30010 | 0.14710 | ⋯ | 25.38 | 17.33 | 184.60 | 2019.0 | 0.1622 | 0.6656 | 0.7119 | 0.2654 | 0.4601 | 0.11890 |\n",
       "|  2 | M | 20.57 | 17.77 | 132.90 | 1326.0 | 0.08474 | 0.07864 | 0.08690 | 0.07017 | ⋯ | 24.99 | 23.41 | 158.80 | 1956.0 | 0.1238 | 0.1866 | 0.2416 | 0.1860 | 0.2750 | 0.08902 |\n",
       "|  3 | M | 19.69 | 21.25 | 130.00 | 1203.0 | 0.10960 | 0.15990 | 0.19740 | 0.12790 | ⋯ | 23.57 | 25.53 | 152.50 | 1709.0 | 0.1444 | 0.4245 | 0.4504 | 0.2430 | 0.3613 | 0.08758 |\n",
       "|  4 | M | 11.42 | 20.38 |  77.58 |  386.1 | 0.14250 | 0.28390 | 0.24140 | 0.10520 | ⋯ | 14.91 | 26.50 |  98.87 |  567.7 | 0.2098 | 0.8663 | 0.6869 | 0.2575 | 0.6638 | 0.17300 |\n",
       "|  5 | M | 20.29 | 14.34 | 135.10 | 1297.0 | 0.10030 | 0.13280 | 0.19800 | 0.10430 | ⋯ | 22.54 | 16.67 | 152.20 | 1575.0 | 0.1374 | 0.2050 | 0.4000 | 0.1625 | 0.2364 | 0.07678 |\n",
       "|  6 | M | 12.45 | 15.70 |  82.57 |  477.1 | 0.12780 | 0.17000 | 0.15780 | 0.08089 | ⋯ | 15.47 | 23.75 | 103.40 |  741.6 | 0.1791 | 0.5249 | 0.5355 | 0.1741 | 0.3985 | 0.12440 |\n",
       "|  7 | M | 18.25 | 19.98 | 119.60 | 1040.0 | 0.09463 | 0.10900 | 0.11270 | 0.07400 | ⋯ | 22.88 | 27.66 | 153.20 | 1606.0 | 0.1442 | 0.2576 | 0.3784 | 0.1932 | 0.3063 | 0.08368 |\n",
       "|  8 | M | 13.71 | 20.83 |  90.20 |  577.9 | 0.11890 | 0.16450 | 0.09366 | 0.05985 | ⋯ | 17.06 | 28.14 | 110.60 |  897.0 | 0.1654 | 0.3682 | 0.2678 | 0.1556 | 0.3196 | 0.11510 |\n",
       "|  9 | M | 13.00 | 21.82 |  87.50 |  519.8 | 0.12730 | 0.19320 | 0.18590 | 0.09353 | ⋯ | 15.49 | 30.73 | 106.20 |  739.3 | 0.1703 | 0.5401 | 0.5390 | 0.2060 | 0.4378 | 0.10720 |\n",
       "| 10 | M | 12.46 | 24.04 |  83.97 |  475.9 | 0.11860 | 0.23960 | 0.22730 | 0.08543 | ⋯ | 15.09 | 40.68 |  97.65 |  711.4 | 0.1853 | 1.0580 | 1.1050 | 0.2210 | 0.4366 | 0.20750 |\n",
       "\n"
      ],
      "text/plain": [
       "   ID Diagnosis radius_mean texture_mean perimeter_mean area_mean\n",
       "1   1 M         17.99       10.38        122.80         1001.0   \n",
       "2   2 M         20.57       17.77        132.90         1326.0   \n",
       "3   3 M         19.69       21.25        130.00         1203.0   \n",
       "4   4 M         11.42       20.38         77.58          386.1   \n",
       "5   5 M         20.29       14.34        135.10         1297.0   \n",
       "6   6 M         12.45       15.70         82.57          477.1   \n",
       "7   7 M         18.25       19.98        119.60         1040.0   \n",
       "8   8 M         13.71       20.83         90.20          577.9   \n",
       "9   9 M         13.00       21.82         87.50          519.8   \n",
       "10 10 M         12.46       24.04         83.97          475.9   \n",
       "   smoothness_mean compactness_mean concavity_mean concave.points_mean <U+22EF>       \n",
       "1  0.11840         0.27760          0.30010        0.14710             <U+22EF>\n",
       "2  0.08474         0.07864          0.08690        0.07017             <U+22EF>\n",
       "3  0.10960         0.15990          0.19740        0.12790             <U+22EF>\n",
       "4  0.14250         0.28390          0.24140        0.10520             <U+22EF>\n",
       "5  0.10030         0.13280          0.19800        0.10430             <U+22EF>\n",
       "6  0.12780         0.17000          0.15780        0.08089             <U+22EF>\n",
       "7  0.09463         0.10900          0.11270        0.07400             <U+22EF>\n",
       "8  0.11890         0.16450          0.09366        0.05985             <U+22EF>\n",
       "9  0.12730         0.19320          0.18590        0.09353             <U+22EF>\n",
       "10 0.11860         0.23960          0.22730        0.08543             <U+22EF>\n",
       "   radius_worst texture_worst perimeter_worst area_worst smoothness_worst\n",
       "1  25.38        17.33         184.60          2019.0     0.1622          \n",
       "2  24.99        23.41         158.80          1956.0     0.1238          \n",
       "3  23.57        25.53         152.50          1709.0     0.1444          \n",
       "4  14.91        26.50          98.87           567.7     0.2098          \n",
       "5  22.54        16.67         152.20          1575.0     0.1374          \n",
       "6  15.47        23.75         103.40           741.6     0.1791          \n",
       "7  22.88        27.66         153.20          1606.0     0.1442          \n",
       "8  17.06        28.14         110.60           897.0     0.1654          \n",
       "9  15.49        30.73         106.20           739.3     0.1703          \n",
       "10 15.09        40.68          97.65           711.4     0.1853          \n",
       "   compactness_worst concavity_worst concave.points_worst symmetry_worst\n",
       "1  0.6656            0.7119          0.2654               0.4601        \n",
       "2  0.1866            0.2416          0.1860               0.2750        \n",
       "3  0.4245            0.4504          0.2430               0.3613        \n",
       "4  0.8663            0.6869          0.2575               0.6638        \n",
       "5  0.2050            0.4000          0.1625               0.2364        \n",
       "6  0.5249            0.5355          0.1741               0.3985        \n",
       "7  0.2576            0.3784          0.1932               0.3063        \n",
       "8  0.3682            0.2678          0.1556               0.3196        \n",
       "9  0.5401            0.5390          0.2060               0.4378        \n",
       "10 1.0580            1.1050          0.2210               0.4366        \n",
       "   fractal_dimension_worst\n",
       "1  0.11890                \n",
       "2  0.08902                \n",
       "3  0.08758                \n",
       "4  0.17300                \n",
       "5  0.07678                \n",
       "6  0.12440                \n",
       "7  0.08368                \n",
       "8  0.11510                \n",
       "9  0.10720                \n",
       "10 0.20750                "
      ]
     },
     "metadata": {},
     "output_type": "display_data"
    }
   ],
   "source": [
    "# Head of the data\n",
    "head(cancer, 10)"
   ]
  },
  {
   "cell_type": "code",
   "execution_count": 60,
   "metadata": {},
   "outputs": [
    {
     "name": "stdout",
     "output_type": "stream",
     "text": [
      "'data.frame':\t569 obs. of  32 variables:\n",
      " $ ID                     : int  1 2 3 4 5 6 7 8 9 10 ...\n",
      " $ Diagnosis              : Factor w/ 2 levels \"B\",\"M\": 2 2 2 2 2 2 2 2 2 2 ...\n",
      " $ radius_mean            : num  18 20.6 19.7 11.4 20.3 ...\n",
      " $ texture_mean           : num  10.4 17.8 21.2 20.4 14.3 ...\n",
      " $ perimeter_mean         : num  122.8 132.9 130 77.6 135.1 ...\n",
      " $ area_mean              : num  1001 1326 1203 386 1297 ...\n",
      " $ smoothness_mean        : num  0.1184 0.0847 0.1096 0.1425 0.1003 ...\n",
      " $ compactness_mean       : num  0.2776 0.0786 0.1599 0.2839 0.1328 ...\n",
      " $ concavity_mean         : num  0.3001 0.0869 0.1974 0.2414 0.198 ...\n",
      " $ concave.points_mean    : num  0.1471 0.0702 0.1279 0.1052 0.1043 ...\n",
      " $ symmetry_mean          : num  0.242 0.181 0.207 0.26 0.181 ...\n",
      " $ fractal_dimension_mean : num  0.0787 0.0567 0.06 0.0974 0.0588 ...\n",
      " $ radius_se              : num  1.095 0.543 0.746 0.496 0.757 ...\n",
      " $ texture_se             : num  0.905 0.734 0.787 1.156 0.781 ...\n",
      " $ perimeter_se           : num  8.59 3.4 4.58 3.44 5.44 ...\n",
      " $ area_se                : num  153.4 74.1 94 27.2 94.4 ...\n",
      " $ smoothness_se          : num  0.0064 0.00522 0.00615 0.00911 0.01149 ...\n",
      " $ compactness_se         : num  0.049 0.0131 0.0401 0.0746 0.0246 ...\n",
      " $ concavity_se           : num  0.0537 0.0186 0.0383 0.0566 0.0569 ...\n",
      " $ concave.points_se      : num  0.0159 0.0134 0.0206 0.0187 0.0188 ...\n",
      " $ symmetry_se            : num  0.03 0.0139 0.0225 0.0596 0.0176 ...\n",
      " $ fractal_dimension_se   : num  0.00619 0.00353 0.00457 0.00921 0.00511 ...\n",
      " $ radius_worst           : num  25.4 25 23.6 14.9 22.5 ...\n",
      " $ texture_worst          : num  17.3 23.4 25.5 26.5 16.7 ...\n",
      " $ perimeter_worst        : num  184.6 158.8 152.5 98.9 152.2 ...\n",
      " $ area_worst             : num  2019 1956 1709 568 1575 ...\n",
      " $ smoothness_worst       : num  0.162 0.124 0.144 0.21 0.137 ...\n",
      " $ compactness_worst      : num  0.666 0.187 0.424 0.866 0.205 ...\n",
      " $ concavity_worst        : num  0.712 0.242 0.45 0.687 0.4 ...\n",
      " $ concave.points_worst   : num  0.265 0.186 0.243 0.258 0.163 ...\n",
      " $ symmetry_worst         : num  0.46 0.275 0.361 0.664 0.236 ...\n",
      " $ fractal_dimension_worst: num  0.1189 0.089 0.0876 0.173 0.0768 ...\n"
     ]
    }
   ],
   "source": [
    "# Structure of the data\n",
    "str(cancer)"
   ]
  },
  {
   "cell_type": "code",
   "execution_count": 61,
   "metadata": {},
   "outputs": [],
   "source": [
    "# Visualize Diagnosis\n",
    "library(ggplot2)\n",
    "theme_set(theme_light())"
   ]
  },
  {
   "cell_type": "code",
   "execution_count": 62,
   "metadata": {},
   "outputs": [
    {
     "data": {
      "image/png": "[encoded data removed]",
      "text/plain": [
       "plot without title"
      ]
     },
     "metadata": {},
     "output_type": "display_data"
    }
   ],
   "source": [
    "ggplot(cancer, aes(Diagnosis, fill = Diagnosis)) + geom_bar() + ggtitle(\"Malignant vs Benign Tumor Diagnosis\", ) + theme(plot.title = element_text(hjust = 0.5))"
   ]
  },
  {
   "cell_type": "code",
   "execution_count": 63,
   "metadata": {},
   "outputs": [
    {
     "data": {
      "text/html": [
       "12.4189201295267"
      ],
      "text/latex": [
       "12.4189201295267"
      ],
      "text/markdown": [
       "12.4189201295267"
      ],
      "text/plain": [
       "[1] 12.41892"
      ]
     },
     "metadata": {},
     "output_type": "display_data"
    }
   ],
   "source": [
    "# Variance of mean.radius\n",
    "var(cancer$radius_mean)"
   ]
  },
  {
   "cell_type": "code",
   "execution_count": 64,
   "metadata": {},
   "outputs": [
    {
     "data": {
      "text/html": [
       "590.44047952177"
      ],
      "text/latex": [
       "590.44047952177"
      ],
      "text/markdown": [
       "590.44047952177"
      ],
      "text/plain": [
       "[1] 590.4405"
      ]
     },
     "metadata": {},
     "output_type": "display_data"
    }
   ],
   "source": [
    "# Variance of perimeter.error\n",
    "var(cancer$perimeter_mean)"
   ]
  },
  {
   "cell_type": "code",
   "execution_count": 65,
   "metadata": {},
   "outputs": [],
   "source": [
    "# Dimension Reduction using prcomp\n",
    "cancer.pca <- prcomp(cancer[,c(3:32)], center = TRUE,scale. = TRUE)"
   ]
  },
  {
   "cell_type": "code",
   "execution_count": 66,
   "metadata": {},
   "outputs": [
    {
     "data": {
      "text/plain": [
       "Importance of components:\n",
       "                          PC1    PC2     PC3     PC4     PC5     PC6     PC7\n",
       "Standard deviation     3.6444 2.3857 1.67867 1.40735 1.28403 1.09880 0.82172\n",
       "Proportion of Variance 0.4427 0.1897 0.09393 0.06602 0.05496 0.04025 0.02251\n",
       "Cumulative Proportion  0.4427 0.6324 0.72636 0.79239 0.84734 0.88759 0.91010\n",
       "                           PC8    PC9    PC10   PC11    PC12    PC13    PC14\n",
       "Standard deviation     0.69037 0.6457 0.59219 0.5421 0.51104 0.49128 0.39624\n",
       "Proportion of Variance 0.01589 0.0139 0.01169 0.0098 0.00871 0.00805 0.00523\n",
       "Cumulative Proportion  0.92598 0.9399 0.95157 0.9614 0.97007 0.97812 0.98335\n",
       "                          PC15    PC16    PC17    PC18    PC19    PC20   PC21\n",
       "Standard deviation     0.30681 0.28260 0.24372 0.22939 0.22244 0.17652 0.1731\n",
       "Proportion of Variance 0.00314 0.00266 0.00198 0.00175 0.00165 0.00104 0.0010\n",
       "Cumulative Proportion  0.98649 0.98915 0.99113 0.99288 0.99453 0.99557 0.9966\n",
       "                          PC22    PC23   PC24    PC25    PC26    PC27    PC28\n",
       "Standard deviation     0.16565 0.15602 0.1344 0.12442 0.09043 0.08307 0.03987\n",
       "Proportion of Variance 0.00091 0.00081 0.0006 0.00052 0.00027 0.00023 0.00005\n",
       "Cumulative Proportion  0.99749 0.99830 0.9989 0.99942 0.99969 0.99992 0.99997\n",
       "                          PC29    PC30\n",
       "Standard deviation     0.02736 0.01153\n",
       "Proportion of Variance 0.00002 0.00000\n",
       "Cumulative Proportion  1.00000 1.00000"
      ]
     },
     "metadata": {},
     "output_type": "display_data"
    }
   ],
   "source": [
    "summary(cancer.pca)"
   ]
  },
  {
   "cell_type": "code",
   "execution_count": 67,
   "metadata": {},
   "outputs": [
    {
     "name": "stdout",
     "output_type": "stream",
     "text": [
      "List of 5\n",
      " $ sdev    : num [1:30] 3.64 2.39 1.68 1.41 1.28 ...\n",
      " $ rotation: num [1:30, 1:30] -0.219 -0.104 -0.228 -0.221 -0.143 ...\n",
      "  ..- attr(*, \"dimnames\")=List of 2\n",
      "  .. ..$ : chr [1:30] \"radius_mean\" \"texture_mean\" \"perimeter_mean\" \"area_mean\" ...\n",
      "  .. ..$ : chr [1:30] \"PC1\" \"PC2\" \"PC3\" \"PC4\" ...\n",
      " $ center  : Named num [1:30] 14.1273 19.2896 91.969 654.8891 0.0964 ...\n",
      "  ..- attr(*, \"names\")= chr [1:30] \"radius_mean\" \"texture_mean\" \"perimeter_mean\" \"area_mean\" ...\n",
      " $ scale   : Named num [1:30] 3.524 4.301 24.299 351.9141 0.0141 ...\n",
      "  ..- attr(*, \"names\")= chr [1:30] \"radius_mean\" \"texture_mean\" \"perimeter_mean\" \"area_mean\" ...\n",
      " $ x       : num [1:569, 1:30] -9.18 -2.39 -5.73 -7.12 -3.93 ...\n",
      "  ..- attr(*, \"dimnames\")=List of 2\n",
      "  .. ..$ : NULL\n",
      "  .. ..$ : chr [1:30] \"PC1\" \"PC2\" \"PC3\" \"PC4\" ...\n",
      " - attr(*, \"class\")= chr \"prcomp\"\n"
     ]
    }
   ],
   "source": [
    "str(cancer.pca)"
   ]
  },
  {
   "cell_type": "code",
   "execution_count": 68,
   "metadata": {},
   "outputs": [
    {
     "data": {
      "text/plain": [
       "Standard deviations (1, .., p=30):\n",
       " [1] 3.64439401 2.38565601 1.67867477 1.40735229 1.28402903 1.09879780\n",
       " [7] 0.82171778 0.69037464 0.64567392 0.59219377 0.54213992 0.51103950\n",
       "[13] 0.49128148 0.39624453 0.30681422 0.28260007 0.24371918 0.22938785\n",
       "[19] 0.22243559 0.17652026 0.17312681 0.16564843 0.15601550 0.13436892\n",
       "[25] 0.12442376 0.09043030 0.08306903 0.03986650 0.02736427 0.01153451\n",
       "\n",
       "Rotation (n x k) = (30 x 30):\n",
       "                                PC1          PC2          PC3          PC4\n",
       "radius_mean             -0.21890244  0.233857132 -0.008531243  0.041408962\n",
       "texture_mean            -0.10372458  0.059706088  0.064549903 -0.603050001\n",
       "perimeter_mean          -0.22753729  0.215181361 -0.009314220  0.041983099\n",
       "area_mean               -0.22099499  0.231076711  0.028699526  0.053433795\n",
       "smoothness_mean         -0.14258969 -0.186113023 -0.104291904  0.159382765\n",
       "compactness_mean        -0.23928535 -0.151891610 -0.074091571  0.031794581\n",
       "concavity_mean          -0.25840048 -0.060165363  0.002733838  0.019122753\n",
       "concave.points_mean     -0.26085376  0.034767500 -0.025563541  0.065335944\n",
       "symmetry_mean           -0.13816696 -0.190348770 -0.040239936  0.067124984\n",
       "fractal_dimension_mean  -0.06436335 -0.366575471 -0.022574090  0.048586765\n",
       "radius_se               -0.20597878  0.105552152  0.268481387  0.097941242\n",
       "texture_se              -0.01742803 -0.089979682  0.374633665 -0.359855528\n",
       "perimeter_se            -0.21132592  0.089457234  0.266645367  0.088992415\n",
       "area_se                 -0.20286964  0.152292628  0.216006528  0.108205039\n",
       "smoothness_se           -0.01453145 -0.204430453  0.308838979  0.044664180\n",
       "compactness_se          -0.17039345 -0.232715896  0.154779718 -0.027469363\n",
       "concavity_se            -0.15358979 -0.197207283  0.176463743  0.001316880\n",
       "concave.points_se       -0.18341740 -0.130321560  0.224657567  0.074067335\n",
       "symmetry_se             -0.04249842 -0.183848000  0.288584292  0.044073351\n",
       "fractal_dimension_se    -0.10256832 -0.280092027  0.211503764  0.015304750\n",
       "radius_worst            -0.22799663  0.219866379 -0.047506990  0.015417240\n",
       "texture_worst           -0.10446933  0.045467298 -0.042297823 -0.632807885\n",
       "perimeter_worst         -0.23663968  0.199878428 -0.048546508  0.013802794\n",
       "area_worst              -0.22487053  0.219351858 -0.011902318  0.025894749\n",
       "smoothness_worst        -0.12795256 -0.172304352 -0.259797613  0.017652216\n",
       "compactness_worst       -0.21009588 -0.143593173 -0.236075625 -0.091328415\n",
       "concavity_worst         -0.22876753 -0.097964114 -0.173057335 -0.073951180\n",
       "concave.points_worst    -0.25088597  0.008257235 -0.170344076  0.006006996\n",
       "symmetry_worst          -0.12290456 -0.141883349 -0.271312642 -0.036250695\n",
       "fractal_dimension_worst -0.13178394 -0.275339469 -0.232791313 -0.077053470\n",
       "                                 PC5           PC6           PC7          PC8\n",
       "radius_mean             -0.037786354  0.0187407904 -0.1240883403  0.007452296\n",
       "texture_mean             0.049468850 -0.0321788366  0.0113995382 -0.130674825\n",
       "perimeter_mean          -0.037374663  0.0173084449 -0.1144770573  0.018687258\n",
       "area_mean               -0.010331251 -0.0018877480 -0.0516534275 -0.034673604\n",
       "smoothness_mean          0.365088528 -0.2863744966 -0.1406689928  0.288974575\n",
       "compactness_mean        -0.011703971 -0.0141309489  0.0309184960  0.151396350\n",
       "concavity_mean          -0.086375412 -0.0093441809 -0.1075204434  0.072827285\n",
       "concave.points_mean      0.043861025 -0.0520499505 -0.1504822142  0.152322414\n",
       "symmetry_mean            0.305941428  0.3564584607 -0.0938911345  0.231530989\n",
       "fractal_dimension_mean   0.044424360 -0.1194306679  0.2957600240  0.177121441\n",
       "radius_se                0.154456496 -0.0256032561  0.3124900373 -0.022539967\n",
       "texture_se               0.191650506 -0.0287473145 -0.0907553556  0.475413139\n",
       "perimeter_se             0.120990220  0.0018107150  0.3146403902  0.011896690\n",
       "area_se                  0.127574432 -0.0428639079  0.3466790028 -0.085805135\n",
       "smoothness_se            0.232065676 -0.3429173935 -0.2440240556 -0.573410232\n",
       "compactness_se          -0.279968156  0.0691975186  0.0234635340 -0.117460157\n",
       "concavity_se            -0.353982091  0.0563432386 -0.2088237897 -0.060566501\n",
       "concave.points_se       -0.195548089 -0.0312244482 -0.3696459369  0.108319309\n",
       "symmetry_se              0.252868765  0.4902456426 -0.0803822539 -0.220149279\n",
       "fractal_dimension_se    -0.263297438 -0.0531952674  0.1913949726 -0.011168188\n",
       "radius_worst             0.004406592 -0.0002906849 -0.0097099360 -0.042619416\n",
       "texture_worst            0.092883400 -0.0500080613  0.0098707439 -0.036251636\n",
       "perimeter_worst         -0.007454151  0.0085009872 -0.0004457267 -0.030558534\n",
       "area_worst               0.027390903 -0.0251643821  0.0678316595 -0.079394246\n",
       "smoothness_worst         0.324435445 -0.3692553703 -0.1088308865 -0.205852191\n",
       "compactness_worst       -0.121804107  0.0477057929  0.1404729381 -0.084019659\n",
       "concavity_worst         -0.188518727  0.0283792555 -0.0604880561 -0.072467871\n",
       "concave.points_worst    -0.043332069 -0.0308734498 -0.1679666187  0.036170795\n",
       "symmetry_worst           0.244558663  0.4989267845 -0.0184906298 -0.228225053\n",
       "fractal_dimension_worst -0.094423351 -0.0802235245  0.3746576261 -0.048360667\n",
       "                                 PC9         PC10        PC11         PC12\n",
       "radius_mean             -0.223109764  0.095486443 -0.04147149  0.051067457\n",
       "texture_mean             0.112699390  0.240934066  0.30224340  0.254896423\n",
       "perimeter_mean          -0.223739213  0.086385615 -0.01678264  0.038926106\n",
       "area_mean               -0.195586014  0.074956489 -0.11016964  0.065437508\n",
       "smoothness_mean          0.006424722 -0.069292681  0.13702184  0.316727211\n",
       "compactness_mean        -0.167841425  0.012936200  0.30800963 -0.104017044\n",
       "concavity_mean           0.040591006 -0.135602298 -0.12419024  0.065653480\n",
       "concave.points_mean     -0.111971106  0.008054528  0.07244603  0.042589267\n",
       "symmetry_mean            0.256040084  0.572069479 -0.16305408 -0.288865504\n",
       "fractal_dimension_mean  -0.123740789  0.081103207  0.03804827  0.236358988\n",
       "radius_se                0.249985002 -0.049547594  0.02535702 -0.016687915\n",
       "texture_se              -0.246645397 -0.289142742 -0.34494446 -0.306160423\n",
       "perimeter_se             0.227154024 -0.114508236  0.16731877 -0.101446828\n",
       "area_se                  0.229160015 -0.091927889 -0.05161946 -0.017679218\n",
       "smoothness_se           -0.141924890  0.160884609 -0.08420621 -0.294710053\n",
       "compactness_se          -0.145322810  0.043504866  0.20688568 -0.263456509\n",
       "concavity_se             0.358107079 -0.141276243 -0.34951794  0.251146975\n",
       "concave.points_se        0.272519886  0.086240847  0.34237591 -0.006458751\n",
       "symmetry_se             -0.304077200 -0.316529830  0.18784404  0.320571348\n",
       "fractal_dimension_se    -0.213722716  0.367541918 -0.25062479  0.276165974\n",
       "radius_worst            -0.112141463  0.077361643 -0.10506733  0.039679665\n",
       "texture_worst            0.103341204  0.029550941 -0.01315727  0.079797450\n",
       "perimeter_worst         -0.109614364  0.050508334 -0.05107628 -0.008987738\n",
       "area_worst              -0.080732461  0.069921152 -0.18459894  0.048088657\n",
       "smoothness_worst         0.112315904 -0.128304659 -0.14389035  0.056514866\n",
       "compactness_worst       -0.100677822 -0.172133632  0.19742047 -0.371662503\n",
       "concavity_worst          0.161908621 -0.311638520 -0.18501676 -0.087034532\n",
       "concave.points_worst     0.060488462 -0.076648291  0.11777205 -0.068125354\n",
       "symmetry_worst           0.064637806 -0.029563075 -0.15756025  0.044033503\n",
       "fractal_dimension_worst -0.134174175  0.012609579 -0.11828355 -0.034731693\n",
       "                               PC13         PC14         PC15        PC16\n",
       "radius_mean              0.01196721  0.059506135 -0.051118775 -0.15058388\n",
       "texture_mean             0.20346133 -0.021560100 -0.107922421 -0.15784196\n",
       "perimeter_mean           0.04410950  0.048513812 -0.039902936 -0.11445396\n",
       "area_mean                0.06737574  0.010830829  0.013966907 -0.13244803\n",
       "smoothness_mean          0.04557360  0.445064860 -0.118143364 -0.20461325\n",
       "compactness_mean         0.22928130  0.008101057  0.230899962  0.17017837\n",
       "concavity_mean           0.38709081 -0.189358699 -0.128283732  0.26947021\n",
       "concave.points_mean      0.13213810 -0.244794768 -0.217099194  0.38046410\n",
       "symmetry_mean            0.18993367  0.030738856 -0.073961707 -0.16466159\n",
       "fractal_dimension_mean   0.10623908 -0.377078865  0.517975705 -0.04079279\n",
       "radius_se               -0.06819523  0.010347413 -0.110050711  0.05890572\n",
       "texture_se              -0.16822238 -0.010849347  0.032752721 -0.03450040\n",
       "perimeter_se            -0.03784399 -0.045523718 -0.008268089  0.02651665\n",
       "area_se                  0.05606493  0.083570718 -0.046024366  0.04115323\n",
       "smoothness_se            0.15044143 -0.201152530  0.018559465 -0.05803906\n",
       "compactness_se           0.01004017  0.491755932  0.168209315  0.18983090\n",
       "concavity_se             0.15878319  0.134586924  0.250471408 -0.12542065\n",
       "concave.points_se       -0.49402674 -0.199666719  0.062079344 -0.19881035\n",
       "symmetry_se              0.01033274 -0.046864383 -0.113383199 -0.15771150\n",
       "fractal_dimension_se    -0.24045832  0.145652466 -0.353232211  0.26855388\n",
       "radius_worst            -0.13789053  0.023101281  0.166567074 -0.08156057\n",
       "texture_worst           -0.08014543  0.053430792  0.101115399  0.18555785\n",
       "perimeter_worst         -0.09696571  0.012219382  0.182755198 -0.05485705\n",
       "area_worst              -0.10116061 -0.006685465  0.314993600 -0.09065339\n",
       "smoothness_worst        -0.20513034  0.162235443  0.046125866  0.14555166\n",
       "compactness_worst        0.01227931  0.166470250 -0.049956014 -0.15373486\n",
       "concavity_worst          0.21798433 -0.066798931 -0.204835886 -0.21502195\n",
       "concave.points_worst    -0.25438749 -0.276418891 -0.169499607  0.17814174\n",
       "symmetry_worst          -0.25653491  0.005355574  0.139888394  0.25789401\n",
       "fractal_dimension_worst -0.17281424 -0.212104110 -0.256173195 -0.40555649\n",
       "                                PC17          PC18        PC19         PC20\n",
       "radius_mean              0.202924255  0.1467123385  0.22538466 -0.049698664\n",
       "texture_mean            -0.038706119 -0.0411029851  0.02978864 -0.244134993\n",
       "perimeter_mean           0.194821310  0.1583174548  0.23959528 -0.017665012\n",
       "area_mean                0.255705763  0.2661681046 -0.02732219 -0.090143762\n",
       "smoothness_mean          0.167929914 -0.3522268017 -0.16456584  0.017100960\n",
       "compactness_mean        -0.020307708  0.0077941384  0.28422236  0.488686329\n",
       "concavity_mean          -0.001598353 -0.0269681105  0.00226636 -0.033387086\n",
       "concave.points_mean      0.034509509 -0.0828277367 -0.15497236 -0.235407606\n",
       "symmetry_mean           -0.191737848  0.1733977905 -0.05881116  0.026069156\n",
       "fractal_dimension_mean   0.050225246  0.0878673570 -0.05815705 -0.175637222\n",
       "radius_se               -0.139396866 -0.2362165319  0.17588331 -0.090800503\n",
       "texture_se               0.043963016 -0.0098586620  0.03600985 -0.071659988\n",
       "perimeter_se            -0.024635639 -0.0259288003  0.36570154 -0.177250625\n",
       "area_se                  0.334418173  0.3049069032 -0.41657231  0.274201148\n",
       "smoothness_se            0.139595006 -0.2312599432 -0.01326009  0.090061477\n",
       "compactness_se          -0.008246477  0.1004742346 -0.24244818 -0.461098220\n",
       "concavity_se             0.084616716 -0.0001954852  0.12638102  0.066946174\n",
       "concave.points_se        0.108132263  0.0460549116 -0.01216430  0.068868294\n",
       "symmetry_se             -0.274059129  0.1870147640 -0.08903929  0.107385289\n",
       "fractal_dimension_se    -0.122733398 -0.0598230982  0.08660084  0.222345297\n",
       "radius_worst            -0.240049982 -0.2161013526  0.01366130 -0.005626909\n",
       "texture_worst            0.069365185  0.0583984505 -0.07586693  0.300599798\n",
       "perimeter_worst         -0.234164147 -0.1885435919  0.09081325  0.011003858\n",
       "area_worst              -0.273399584 -0.1420648558 -0.41004720  0.060047387\n",
       "smoothness_worst        -0.278030197  0.5015516751  0.23451384 -0.129723903\n",
       "compactness_worst       -0.004037123 -0.0735745143  0.02020070  0.229280589\n",
       "concavity_worst         -0.191313419 -0.1039079796 -0.04578612 -0.046482792\n",
       "concave.points_worst    -0.075485316  0.0758138963 -0.26022962  0.033022340\n",
       "symmetry_worst           0.430658116 -0.2787138431  0.11725053 -0.116759236\n",
       "fractal_dimension_worst  0.159394300  0.0235647497 -0.01149448 -0.104991974\n",
       "                                 PC21        PC22          PC23        PC24\n",
       "radius_mean             -0.0685700057 -0.07292890 -0.0985526942 -0.18257944\n",
       "texture_mean             0.4483694667 -0.09480063 -0.0005549975  0.09878679\n",
       "perimeter_mean          -0.0697690429 -0.07516048 -0.0402447050 -0.11664888\n",
       "area_mean               -0.0184432785 -0.09756578  0.0077772734  0.06984834\n",
       "smoothness_mean         -0.1194917473 -0.06382295 -0.0206657211  0.06869742\n",
       "compactness_mean         0.1926213963  0.09807756  0.0523603957 -0.10413552\n",
       "concavity_mean           0.0055717533  0.18521200  0.3248703785  0.04474106\n",
       "concave.points_mean     -0.0094238187  0.31185243 -0.0514087968  0.08402770\n",
       "symmetry_mean           -0.0869384844  0.01840673 -0.0512005770  0.01933947\n",
       "fractal_dimension_mean  -0.0762718362 -0.28786888 -0.0846898562 -0.13326055\n",
       "radius_se                0.0863867747  0.15027468 -0.2641253170 -0.55870157\n",
       "texture_se               0.2170719674 -0.04845693 -0.0008738805  0.02426730\n",
       "perimeter_se            -0.3049501584 -0.15935280  0.0900742110  0.51675039\n",
       "area_se                  0.1925877857 -0.06423262  0.0982150746 -0.02246072\n",
       "smoothness_se           -0.0720987261 -0.05054490 -0.0598177179  0.01563119\n",
       "compactness_se          -0.1403865724  0.04528769  0.0091038710 -0.12177779\n",
       "concavity_se             0.0630479298  0.20521269 -0.3875423290  0.18820504\n",
       "concave.points_se        0.0343753236  0.07254538  0.3517550738 -0.10966898\n",
       "symmetry_se             -0.0976995265  0.08465443 -0.0423628949  0.00322620\n",
       "fractal_dimension_se     0.0628432814 -0.24470508  0.0857810992  0.07519442\n",
       "radius_worst             0.0072938995  0.09629821 -0.0556767923 -0.15683037\n",
       "texture_worst           -0.5944401434  0.11111202 -0.0089228997 -0.11848460\n",
       "perimeter_worst         -0.0920235990 -0.01722163  0.0633448296  0.23711317\n",
       "area_worst               0.1467901315  0.09695982  0.1908896250  0.14406303\n",
       "smoothness_worst         0.1648492374  0.06825409  0.0936901494 -0.01099014\n",
       "compactness_worst        0.1813748671 -0.02967641 -0.1479209247  0.18674995\n",
       "concavity_worst         -0.1321005945 -0.46042619  0.2864331353 -0.28885257\n",
       "concave.points_worst     0.0008860815 -0.29984056 -0.5675277966  0.10734024\n",
       "symmetry_worst           0.1627085487 -0.09714484  0.1213434508 -0.01438181\n",
       "fractal_dimension_worst -0.0923439434  0.46947115  0.0076253382  0.03782545\n",
       "                               PC25         PC26         PC27          PC28\n",
       "radius_mean             -0.01922650 -0.129476396 -0.131526670  2.111940e-01\n",
       "texture_mean             0.08474593 -0.024556664 -0.017357309 -6.581146e-05\n",
       "perimeter_mean           0.02701541 -0.125255946 -0.115415423  8.433827e-02\n",
       "area_mean               -0.21004078  0.362727403  0.466612477 -2.725083e-01\n",
       "smoothness_mean          0.02895489 -0.037003686  0.069689923  1.479269e-03\n",
       "compactness_mean         0.39662323  0.262808474  0.097748705 -5.462767e-03\n",
       "concavity_mean          -0.09697732 -0.548876170  0.364808397  4.553864e-02\n",
       "concave.points_mean     -0.18645160  0.387643377 -0.454699351 -8.883097e-03\n",
       "symmetry_mean           -0.02458369 -0.016044038 -0.015164835  1.433026e-03\n",
       "fractal_dimension_mean  -0.20722186 -0.097404839 -0.101244946 -6.311687e-03\n",
       "radius_se               -0.17493043  0.049977080  0.212982901 -1.922239e-01\n",
       "texture_se               0.05698648 -0.011237242 -0.010092889 -5.622611e-03\n",
       "perimeter_se             0.07292764  0.103653282  0.041691553  2.631919e-01\n",
       "area_se                  0.13185041 -0.155304589 -0.313358657 -4.206811e-02\n",
       "smoothness_se            0.03121070 -0.007717557 -0.009052154  9.792963e-03\n",
       "compactness_se           0.17316455 -0.049727632  0.046536088 -1.539555e-02\n",
       "concavity_se             0.01593998  0.091454968 -0.084224797  5.820978e-03\n",
       "concave.points_se       -0.12954655 -0.017941919 -0.011165509 -2.900930e-02\n",
       "symmetry_se             -0.01951493 -0.017267849 -0.019975983 -7.636526e-03\n",
       "fractal_dimension_se    -0.08417120  0.035488974 -0.012036564  1.975646e-02\n",
       "radius_worst             0.07070972 -0.197054744 -0.178666740  4.126396e-01\n",
       "texture_worst           -0.11818972  0.036469433  0.021410694 -3.902509e-04\n",
       "perimeter_worst          0.11803403 -0.244103670 -0.241031046 -7.286809e-01\n",
       "area_worst              -0.03828995  0.231359525  0.237162466  2.389603e-01\n",
       "smoothness_worst        -0.04796476  0.012602464 -0.040853568 -1.535248e-03\n",
       "compactness_worst       -0.62438494 -0.100463424 -0.070505414  4.869182e-02\n",
       "concavity_worst          0.11577034  0.266853781 -0.142905801 -1.764090e-02\n",
       "concave.points_worst     0.26319634 -0.133574507  0.230901389  2.247567e-02\n",
       "symmetry_worst           0.04529962  0.028184296  0.022790444  4.920481e-03\n",
       "fractal_dimension_worst  0.28013348  0.004520482  0.059985998 -2.356214e-02\n",
       "                                 PC29          PC30\n",
       "radius_mean              2.114605e-01  0.7024140910\n",
       "texture_mean            -1.053393e-02  0.0002736610\n",
       "perimeter_mean           3.838261e-01 -0.6898969685\n",
       "area_mean               -4.227949e-01 -0.0329473482\n",
       "smoothness_mean         -3.434667e-03 -0.0048474577\n",
       "compactness_mean        -4.101677e-02  0.0446741863\n",
       "concavity_mean          -1.001479e-02  0.0251386661\n",
       "concave.points_mean     -4.206949e-03 -0.0010772653\n",
       "symmetry_mean           -7.569862e-03 -0.0012803794\n",
       "fractal_dimension_mean   7.301433e-03 -0.0047556848\n",
       "radius_se                1.184421e-01 -0.0087110937\n",
       "texture_se              -8.776279e-03 -0.0010710392\n",
       "perimeter_se            -6.100219e-03  0.0137293906\n",
       "area_se                 -8.592591e-02  0.0011053260\n",
       "smoothness_se            1.776386e-03 -0.0016082109\n",
       "compactness_se           3.158134e-03  0.0019156224\n",
       "concavity_se             1.607852e-02 -0.0089265265\n",
       "concave.points_se       -2.393779e-02 -0.0021601973\n",
       "symmetry_se             -5.223292e-03  0.0003293898\n",
       "fractal_dimension_se    -8.341912e-03  0.0017989568\n",
       "radius_worst            -6.357249e-01 -0.1356430561\n",
       "texture_worst            1.723549e-02  0.0010205360\n",
       "perimeter_worst          2.292180e-02  0.0797438536\n",
       "area_worst               4.449359e-01  0.0397422838\n",
       "smoothness_worst         7.385492e-03  0.0045832773\n",
       "compactness_worst        3.566904e-06 -0.0128415624\n",
       "concavity_worst         -1.267572e-02  0.0004021392\n",
       "concave.points_worst     3.524045e-02 -0.0022884418\n",
       "symmetry_worst           1.340423e-02  0.0003954435\n",
       "fractal_dimension_worst  1.147766e-02  0.0018942925"
      ]
     },
     "metadata": {},
     "output_type": "display_data"
    }
   ],
   "source": [
    "cancer.pca"
   ]
  },
  {
   "cell_type": "code",
   "execution_count": 69,
   "metadata": {},
   "outputs": [
    {
     "data": {
      "text/html": [
       "<table>\n",
       "<caption>A matrix: 6 × 30 of type dbl</caption>\n",
       "<thead>\n",
       "\t<tr><th></th><th scope=col>PC1</th><th scope=col>PC2</th><th scope=col>PC3</th><th scope=col>PC4</th><th scope=col>PC5</th><th scope=col>PC6</th><th scope=col>PC7</th><th scope=col>PC8</th><th scope=col>PC9</th><th scope=col>PC10</th><th scope=col>⋯</th><th scope=col>PC21</th><th scope=col>PC22</th><th scope=col>PC23</th><th scope=col>PC24</th><th scope=col>PC25</th><th scope=col>PC26</th><th scope=col>PC27</th><th scope=col>PC28</th><th scope=col>PC29</th><th scope=col>PC30</th></tr>\n",
       "</thead>\n",
       "<tbody>\n",
       "\t<tr><th scope=row>radius_mean</th><td>-0.2189024</td><td> 0.23385713</td><td>-0.008531243</td><td> 0.04140896</td><td>-0.03778635</td><td> 0.018740790</td><td>-0.12408834</td><td> 0.007452296</td><td>-0.223109764</td><td> 0.09548644</td><td>⋯</td><td>-0.06857001</td><td>-0.07292890</td><td>-0.0985526942</td><td>-0.18257944</td><td>-0.01922650</td><td>-0.12947640</td><td>-0.13152667</td><td> 2.111940e-01</td><td> 0.211460455</td><td> 0.702414091</td></tr>\n",
       "\t<tr><th scope=row>texture_mean</th><td>-0.1037246</td><td> 0.05970609</td><td> 0.064549903</td><td>-0.60305000</td><td> 0.04946885</td><td>-0.032178837</td><td> 0.01139954</td><td>-0.130674825</td><td> 0.112699390</td><td> 0.24093407</td><td>⋯</td><td> 0.44836947</td><td>-0.09480063</td><td>-0.0005549975</td><td> 0.09878679</td><td> 0.08474593</td><td>-0.02455666</td><td>-0.01735731</td><td>-6.581146e-05</td><td>-0.010533934</td><td> 0.000273661</td></tr>\n",
       "\t<tr><th scope=row>perimeter_mean</th><td>-0.2275373</td><td> 0.21518136</td><td>-0.009314220</td><td> 0.04198310</td><td>-0.03737466</td><td> 0.017308445</td><td>-0.11447706</td><td> 0.018687258</td><td>-0.223739213</td><td> 0.08638562</td><td>⋯</td><td>-0.06976904</td><td>-0.07516048</td><td>-0.0402447050</td><td>-0.11664888</td><td> 0.02701541</td><td>-0.12525595</td><td>-0.11541542</td><td> 8.433827e-02</td><td> 0.383826098</td><td>-0.689896968</td></tr>\n",
       "\t<tr><th scope=row>area_mean</th><td>-0.2209950</td><td> 0.23107671</td><td> 0.028699526</td><td> 0.05343380</td><td>-0.01033125</td><td>-0.001887748</td><td>-0.05165343</td><td>-0.034673604</td><td>-0.195586014</td><td> 0.07495649</td><td>⋯</td><td>-0.01844328</td><td>-0.09756578</td><td> 0.0077772734</td><td> 0.06984834</td><td>-0.21004078</td><td> 0.36272740</td><td> 0.46661248</td><td>-2.725083e-01</td><td>-0.422794920</td><td>-0.032947348</td></tr>\n",
       "\t<tr><th scope=row>smoothness_mean</th><td>-0.1425897</td><td>-0.18611302</td><td>-0.104291904</td><td> 0.15938277</td><td> 0.36508853</td><td>-0.286374497</td><td>-0.14066899</td><td> 0.288974575</td><td> 0.006424722</td><td>-0.06929268</td><td>⋯</td><td>-0.11949175</td><td>-0.06382295</td><td>-0.0206657211</td><td> 0.06869742</td><td> 0.02895489</td><td>-0.03700369</td><td> 0.06968992</td><td> 1.479269e-03</td><td>-0.003434667</td><td>-0.004847458</td></tr>\n",
       "\t<tr><th scope=row>compactness_mean</th><td>-0.2392854</td><td>-0.15189161</td><td>-0.074091571</td><td> 0.03179458</td><td>-0.01170397</td><td>-0.014130949</td><td> 0.03091850</td><td> 0.151396350</td><td>-0.167841425</td><td> 0.01293620</td><td>⋯</td><td> 0.19262140</td><td> 0.09807756</td><td> 0.0523603957</td><td>-0.10413552</td><td> 0.39662323</td><td> 0.26280847</td><td> 0.09774871</td><td>-5.462767e-03</td><td>-0.041016774</td><td> 0.044674186</td></tr>\n",
       "</tbody>\n",
       "</table>\n"
      ],
      "text/latex": [
       "A matrix: 6 × 30 of type dbl\n",
       "\\begin{tabular}{r|llllllllllllllllllllllllllllll}\n",
       "  & PC1 & PC2 & PC3 & PC4 & PC5 & PC6 & PC7 & PC8 & PC9 & PC10 & PC11 & PC12 & PC13 & PC14 & PC15 & PC16 & PC17 & PC18 & PC19 & PC20 & PC21 & PC22 & PC23 & PC24 & PC25 & PC26 & PC27 & PC28 & PC29 & PC30\\\\\n",
       "\\hline\n",
       "\tradius\\_mean & -0.2189024 &  0.23385713 & -0.008531243 &  0.04140896 & -0.03778635 &  0.018740790 & -0.12408834 &  0.007452296 & -0.223109764 &  0.09548644 & -0.04147149 &  0.05106746 & 0.01196721 &  0.059506135 & -0.05111877 & -0.1505839 &  0.20292425 &  0.146712338 &  0.22538466 & -0.04969866 & -0.06857001 & -0.07292890 & -0.0985526942 & -0.18257944 & -0.01922650 & -0.12947640 & -0.13152667 &  2.111940e-01 &  0.211460455 &  0.702414091\\\\\n",
       "\ttexture\\_mean & -0.1037246 &  0.05970609 &  0.064549903 & -0.60305000 &  0.04946885 & -0.032178837 &  0.01139954 & -0.130674825 &  0.112699390 &  0.24093407 &  0.30224340 &  0.25489642 & 0.20346133 & -0.021560100 & -0.10792242 & -0.1578420 & -0.03870612 & -0.041102985 &  0.02978864 & -0.24413499 &  0.44836947 & -0.09480063 & -0.0005549975 &  0.09878679 &  0.08474593 & -0.02455666 & -0.01735731 & -6.581146e-05 & -0.010533934 &  0.000273661\\\\\n",
       "\tperimeter\\_mean & -0.2275373 &  0.21518136 & -0.009314220 &  0.04198310 & -0.03737466 &  0.017308445 & -0.11447706 &  0.018687258 & -0.223739213 &  0.08638562 & -0.01678264 &  0.03892611 & 0.04410950 &  0.048513812 & -0.03990294 & -0.1144540 &  0.19482131 &  0.158317455 &  0.23959528 & -0.01766501 & -0.06976904 & -0.07516048 & -0.0402447050 & -0.11664888 &  0.02701541 & -0.12525595 & -0.11541542 &  8.433827e-02 &  0.383826098 & -0.689896968\\\\\n",
       "\tarea\\_mean & -0.2209950 &  0.23107671 &  0.028699526 &  0.05343380 & -0.01033125 & -0.001887748 & -0.05165343 & -0.034673604 & -0.195586014 &  0.07495649 & -0.11016964 &  0.06543751 & 0.06737574 &  0.010830829 &  0.01396691 & -0.1324480 &  0.25570576 &  0.266168105 & -0.02732219 & -0.09014376 & -0.01844328 & -0.09756578 &  0.0077772734 &  0.06984834 & -0.21004078 &  0.36272740 &  0.46661248 & -2.725083e-01 & -0.422794920 & -0.032947348\\\\\n",
       "\tsmoothness\\_mean & -0.1425897 & -0.18611302 & -0.104291904 &  0.15938277 &  0.36508853 & -0.286374497 & -0.14066899 &  0.288974575 &  0.006424722 & -0.06929268 &  0.13702184 &  0.31672721 & 0.04557360 &  0.445064860 & -0.11814336 & -0.2046132 &  0.16792991 & -0.352226802 & -0.16456584 &  0.01710096 & -0.11949175 & -0.06382295 & -0.0206657211 &  0.06869742 &  0.02895489 & -0.03700369 &  0.06968992 &  1.479269e-03 & -0.003434667 & -0.004847458\\\\\n",
       "\tcompactness\\_mean & -0.2392854 & -0.15189161 & -0.074091571 &  0.03179458 & -0.01170397 & -0.014130949 &  0.03091850 &  0.151396350 & -0.167841425 &  0.01293620 &  0.30800963 & -0.10401704 & 0.22928130 &  0.008101057 &  0.23089996 &  0.1701784 & -0.02030771 &  0.007794138 &  0.28422236 &  0.48868633 &  0.19262140 &  0.09807756 &  0.0523603957 & -0.10413552 &  0.39662323 &  0.26280847 &  0.09774871 & -5.462767e-03 & -0.041016774 &  0.044674186\\\\\n",
       "\\end{tabular}\n"
      ],
      "text/markdown": [
       "\n",
       "A matrix: 6 × 30 of type dbl\n",
       "\n",
       "| <!--/--> | PC1 | PC2 | PC3 | PC4 | PC5 | PC6 | PC7 | PC8 | PC9 | PC10 | ⋯ | PC21 | PC22 | PC23 | PC24 | PC25 | PC26 | PC27 | PC28 | PC29 | PC30 |\n",
       "|---|---|---|---|---|---|---|---|---|---|---|---|---|---|---|---|---|---|---|---|---|---|\n",
       "| radius_mean | -0.2189024 |  0.23385713 | -0.008531243 |  0.04140896 | -0.03778635 |  0.018740790 | -0.12408834 |  0.007452296 | -0.223109764 |  0.09548644 | ⋯ | -0.06857001 | -0.07292890 | -0.0985526942 | -0.18257944 | -0.01922650 | -0.12947640 | -0.13152667 |  2.111940e-01 |  0.211460455 |  0.702414091 |\n",
       "| texture_mean | -0.1037246 |  0.05970609 |  0.064549903 | -0.60305000 |  0.04946885 | -0.032178837 |  0.01139954 | -0.130674825 |  0.112699390 |  0.24093407 | ⋯ |  0.44836947 | -0.09480063 | -0.0005549975 |  0.09878679 |  0.08474593 | -0.02455666 | -0.01735731 | -6.581146e-05 | -0.010533934 |  0.000273661 |\n",
       "| perimeter_mean | -0.2275373 |  0.21518136 | -0.009314220 |  0.04198310 | -0.03737466 |  0.017308445 | -0.11447706 |  0.018687258 | -0.223739213 |  0.08638562 | ⋯ | -0.06976904 | -0.07516048 | -0.0402447050 | -0.11664888 |  0.02701541 | -0.12525595 | -0.11541542 |  8.433827e-02 |  0.383826098 | -0.689896968 |\n",
       "| area_mean | -0.2209950 |  0.23107671 |  0.028699526 |  0.05343380 | -0.01033125 | -0.001887748 | -0.05165343 | -0.034673604 | -0.195586014 |  0.07495649 | ⋯ | -0.01844328 | -0.09756578 |  0.0077772734 |  0.06984834 | -0.21004078 |  0.36272740 |  0.46661248 | -2.725083e-01 | -0.422794920 | -0.032947348 |\n",
       "| smoothness_mean | -0.1425897 | -0.18611302 | -0.104291904 |  0.15938277 |  0.36508853 | -0.286374497 | -0.14066899 |  0.288974575 |  0.006424722 | -0.06929268 | ⋯ | -0.11949175 | -0.06382295 | -0.0206657211 |  0.06869742 |  0.02895489 | -0.03700369 |  0.06968992 |  1.479269e-03 | -0.003434667 | -0.004847458 |\n",
       "| compactness_mean | -0.2392854 | -0.15189161 | -0.074091571 |  0.03179458 | -0.01170397 | -0.014130949 |  0.03091850 |  0.151396350 | -0.167841425 |  0.01293620 | ⋯ |  0.19262140 |  0.09807756 |  0.0523603957 | -0.10413552 |  0.39662323 |  0.26280847 |  0.09774871 | -5.462767e-03 | -0.041016774 |  0.044674186 |\n",
       "\n"
      ],
      "text/plain": [
       "                 PC1        PC2         PC3          PC4         PC5        \n",
       "radius_mean      -0.2189024  0.23385713 -0.008531243  0.04140896 -0.03778635\n",
       "texture_mean     -0.1037246  0.05970609  0.064549903 -0.60305000  0.04946885\n",
       "perimeter_mean   -0.2275373  0.21518136 -0.009314220  0.04198310 -0.03737466\n",
       "area_mean        -0.2209950  0.23107671  0.028699526  0.05343380 -0.01033125\n",
       "smoothness_mean  -0.1425897 -0.18611302 -0.104291904  0.15938277  0.36508853\n",
       "compactness_mean -0.2392854 -0.15189161 -0.074091571  0.03179458 -0.01170397\n",
       "                 PC6          PC7         PC8          PC9          PC10       \n",
       "radius_mean       0.018740790 -0.12408834  0.007452296 -0.223109764  0.09548644\n",
       "texture_mean     -0.032178837  0.01139954 -0.130674825  0.112699390  0.24093407\n",
       "perimeter_mean    0.017308445 -0.11447706  0.018687258 -0.223739213  0.08638562\n",
       "area_mean        -0.001887748 -0.05165343 -0.034673604 -0.195586014  0.07495649\n",
       "smoothness_mean  -0.286374497 -0.14066899  0.288974575  0.006424722 -0.06929268\n",
       "compactness_mean -0.014130949  0.03091850  0.151396350 -0.167841425  0.01293620\n",
       "                 <U+22EF>        PC21        PC22        PC23          PC24       \n",
       "radius_mean      <U+22EF> -0.06857001 -0.07292890 -0.0985526942 -0.18257944\n",
       "texture_mean     <U+22EF>  0.44836947 -0.09480063 -0.0005549975  0.09878679\n",
       "perimeter_mean   <U+22EF> -0.06976904 -0.07516048 -0.0402447050 -0.11664888\n",
       "area_mean        <U+22EF> -0.01844328 -0.09756578  0.0077772734  0.06984834\n",
       "smoothness_mean  <U+22EF> -0.11949175 -0.06382295 -0.0206657211  0.06869742\n",
       "compactness_mean <U+22EF>  0.19262140  0.09807756  0.0523603957 -0.10413552\n",
       "                 PC25        PC26        PC27        PC28          PC29        \n",
       "radius_mean      -0.01922650 -0.12947640 -0.13152667  2.111940e-01  0.211460455\n",
       "texture_mean      0.08474593 -0.02455666 -0.01735731 -6.581146e-05 -0.010533934\n",
       "perimeter_mean    0.02701541 -0.12525595 -0.11541542  8.433827e-02  0.383826098\n",
       "area_mean        -0.21004078  0.36272740  0.46661248 -2.725083e-01 -0.422794920\n",
       "smoothness_mean   0.02895489 -0.03700369  0.06968992  1.479269e-03 -0.003434667\n",
       "compactness_mean  0.39662323  0.26280847  0.09774871 -5.462767e-03 -0.041016774\n",
       "                 PC30        \n",
       "radius_mean       0.702414091\n",
       "texture_mean      0.000273661\n",
       "perimeter_mean   -0.689896968\n",
       "area_mean        -0.032947348\n",
       "smoothness_mean  -0.004847458\n",
       "compactness_mean  0.044674186"
      ]
     },
     "metadata": {},
     "output_type": "display_data"
    }
   ],
   "source": [
    "head(cancer.pca$rotation)"
   ]
  },
  {
   "cell_type": "code",
   "execution_count": 75,
   "metadata": {
    "scrolled": false
   },
   "outputs": [
    {
     "data": {
      "text/html": [
       "<table>\n",
       "<caption>A data.frame: 6 × 1</caption>\n",
       "<thead>\n",
       "\t<tr><th></th><th scope=col>Variance.Percent</th></tr>\n",
       "\t<tr><th></th><th scope=col>&lt;dbl&gt;</th></tr>\n",
       "</thead>\n",
       "<tbody>\n",
       "\t<tr><th scope=row>PC 1</th><td>44.27</td></tr>\n",
       "\t<tr><th scope=row>PC 2</th><td>18.97</td></tr>\n",
       "\t<tr><th scope=row>PC 3</th><td> 9.39</td></tr>\n",
       "\t<tr><th scope=row>PC 4</th><td> 6.60</td></tr>\n",
       "\t<tr><th scope=row>PC 5</th><td> 5.50</td></tr>\n",
       "\t<tr><th scope=row>PC 6</th><td> 4.02</td></tr>\n",
       "</tbody>\n",
       "</table>\n"
      ],
      "text/latex": [
       "A data.frame: 6 × 1\n",
       "\\begin{tabular}{r|l}\n",
       "  & Variance.Percent\\\\\n",
       "  & <dbl>\\\\\n",
       "\\hline\n",
       "\tPC 1 & 44.27\\\\\n",
       "\tPC 2 & 18.97\\\\\n",
       "\tPC 3 &  9.39\\\\\n",
       "\tPC 4 &  6.60\\\\\n",
       "\tPC 5 &  5.50\\\\\n",
       "\tPC 6 &  4.02\\\\\n",
       "\\end{tabular}\n"
      ],
      "text/markdown": [
       "\n",
       "A data.frame: 6 × 1\n",
       "\n",
       "| <!--/--> | Variance.Percent &lt;dbl&gt; |\n",
       "|---|---|\n",
       "| PC 1 | 44.27 |\n",
       "| PC 2 | 18.97 |\n",
       "| PC 3 |  9.39 |\n",
       "| PC 4 |  6.60 |\n",
       "| PC 5 |  5.50 |\n",
       "| PC 6 |  4.02 |\n",
       "\n"
      ],
      "text/plain": [
       "     Variance.Percent\n",
       "PC 1 44.27           \n",
       "PC 2 18.97           \n",
       "PC 3  9.39           \n",
       "PC 4  6.60           \n",
       "PC 5  5.50           \n",
       "PC 6  4.02           "
      ]
     },
     "metadata": {},
     "output_type": "display_data"
    }
   ],
   "source": [
    "# Proportion of variance explained by each principal component\n",
    "variance <- cancer.pca$sdev^2\n",
    "\n",
    "Variance.Percent <- round((variance/sum(variance)*100),2)\n",
    "\n",
    "test <- vector()\n",
    "\n",
    "for (i in 1:length(Variance.Percent)){\n",
    "    test <- append(test, paste(\"PC\",i))\n",
    "    }\n",
    "\n",
    "Var.Exp <- as.data.frame(Variance.Percent, row.names=test)\n",
    "\n",
    "head(Var.Exp)"
   ]
  },
  {
   "cell_type": "markdown",
   "metadata": {},
   "source": [
    "## PCA Visualization\n",
    "\n",
    "It is difficult to visualize high dimensional data, we can use PCA to find the first two principal components, and visualize the data in this new, two-dimensional space, with a single scatter-plot."
   ]
  },
  {
   "cell_type": "code",
   "execution_count": 76,
   "metadata": {},
   "outputs": [
    {
     "name": "stdout",
     "output_type": "stream",
     "text": [
      "package 'ggfortify' successfully unpacked and MD5 sums checked\n",
      "\n",
      "The downloaded binary packages are in\n",
      "\tC:\\Users\\jcdunne\\AppData\\Local\\Temp\\Rtmpe6sjY2\\downloaded_packages\n"
     ]
    }
   ],
   "source": [
    "install.packages('ggfortify')"
   ]
  },
  {
   "cell_type": "code",
   "execution_count": 77,
   "metadata": {},
   "outputs": [
    {
     "data": {
      "image/png": "[encoded data removed]",
      "text/plain": [
       "plot without title"
      ]
     },
     "metadata": {},
     "output_type": "display_data"
    }
   ],
   "source": [
    "library(ggfortify)\n",
    "autoplot(cancer.pca, data=cancer, colour='Diagnosis', loadings=TRUE)"
   ]
  },
  {
   "cell_type": "code",
   "execution_count": 78,
   "metadata": {},
   "outputs": [
    {
     "name": "stdout",
     "output_type": "stream",
     "text": [
      "package 'factoextra' successfully unpacked and MD5 sums checked\n",
      "\n",
      "The downloaded binary packages are in\n",
      "\tC:\\Users\\jcdunne\\AppData\\Local\\Temp\\Rtmpe6sjY2\\downloaded_packages\n"
     ]
    },
    {
     "name": "stderr",
     "output_type": "stream",
     "text": [
      "Welcome! Related Books: `Practical Guide To Cluster Analysis in R` at https://goo.gl/13EFCZ\n"
     ]
    }
   ],
   "source": [
    "#Nice visualization package for PCAs\n",
    "install.packages('factoextra')\n",
    "library(factoextra)"
   ]
  },
  {
   "cell_type": "code",
   "execution_count": 79,
   "metadata": {},
   "outputs": [
    {
     "data": {
      "image/png": "[encoded data removed]",
      "text/plain": [
       "plot without title"
      ]
     },
     "metadata": {},
     "output_type": "display_data"
    }
   ],
   "source": [
    "fviz_pca_var(cancer.pca,\n",
    "             col.var = \"contrib\", # Color by contributions to the PC\n",
    "             gradient.cols = c(\"#00AFBB\", \"#E7B800\", \"#FC4E07\"),\n",
    "             repel = TRUE     # Avoid text overlapping\n",
    "             )"
   ]
  },
  {
   "cell_type": "markdown",
   "metadata": {},
   "source": [
    "# <font color='red'>K-means Clustering</font>\n",
    "K Means Clustering is an unsupervised learning algorithm that tries to cluster data based on their similarity. Unsupervised learning means that there is no outcome to be predicted, and the algorithm just tries to find patterns in the data. In k means clustering, we have to specify the number of clusters we want the data to be grouped into. The algorithm randomly assigns each observation to a cluster, and finds the centroid of each cluster. Then, the algorithm iterates through two steps:\n",
    "\n",
    "1. Reassign data points to the cluster whose centroid is closest. \n",
    "2. Calculate new centroid of each cluster. \n",
    "\n",
    "These two steps are repeated until the within cluster variation cannot be reduced any further. The within cluster variation is calculated as the sum of the euclidean distance between the data points and their respective cluster centroids.\n",
    "\n",
    "\n",
    "## Get the Data\n",
    "We will use the iris data set. The iris flower data set or Fisher's Iris data set is a multivariate data set introduced by Ronald Fisher in his 1936 paper The use of multiple measurements in taxonomic problems as an example of linear discriminant analysis.\n",
    "\n",
    "The data set consists of 50 samples from each of three species of Iris (Iris setosa, Iris virginica and Iris versicolor). Four features were measured from each sample: the length and the width of the sepals and petals, in centimetres."
   ]
  },
  {
   "cell_type": "code",
   "execution_count": 80,
   "metadata": {},
   "outputs": [],
   "source": [
    "library(datasets)"
   ]
  },
  {
   "cell_type": "code",
   "execution_count": 81,
   "metadata": {},
   "outputs": [
    {
     "data": {
      "text/html": [
       "<table>\n",
       "<caption>A data.frame: 6 × 5</caption>\n",
       "<thead>\n",
       "\t<tr><th scope=col>Sepal.Length</th><th scope=col>Sepal.Width</th><th scope=col>Petal.Length</th><th scope=col>Petal.Width</th><th scope=col>Species</th></tr>\n",
       "\t<tr><th scope=col>&lt;dbl&gt;</th><th scope=col>&lt;dbl&gt;</th><th scope=col>&lt;dbl&gt;</th><th scope=col>&lt;dbl&gt;</th><th scope=col>&lt;fct&gt;</th></tr>\n",
       "</thead>\n",
       "<tbody>\n",
       "\t<tr><td>5.1</td><td>3.5</td><td>1.4</td><td>0.2</td><td>setosa</td></tr>\n",
       "\t<tr><td>4.9</td><td>3.0</td><td>1.4</td><td>0.2</td><td>setosa</td></tr>\n",
       "\t<tr><td>4.7</td><td>3.2</td><td>1.3</td><td>0.2</td><td>setosa</td></tr>\n",
       "\t<tr><td>4.6</td><td>3.1</td><td>1.5</td><td>0.2</td><td>setosa</td></tr>\n",
       "\t<tr><td>5.0</td><td>3.6</td><td>1.4</td><td>0.2</td><td>setosa</td></tr>\n",
       "\t<tr><td>5.4</td><td>3.9</td><td>1.7</td><td>0.4</td><td>setosa</td></tr>\n",
       "</tbody>\n",
       "</table>\n"
      ],
      "text/latex": [
       "A data.frame: 6 × 5\n",
       "\\begin{tabular}{r|lllll}\n",
       " Sepal.Length & Sepal.Width & Petal.Length & Petal.Width & Species\\\\\n",
       " <dbl> & <dbl> & <dbl> & <dbl> & <fct>\\\\\n",
       "\\hline\n",
       "\t 5.1 & 3.5 & 1.4 & 0.2 & setosa\\\\\n",
       "\t 4.9 & 3.0 & 1.4 & 0.2 & setosa\\\\\n",
       "\t 4.7 & 3.2 & 1.3 & 0.2 & setosa\\\\\n",
       "\t 4.6 & 3.1 & 1.5 & 0.2 & setosa\\\\\n",
       "\t 5.0 & 3.6 & 1.4 & 0.2 & setosa\\\\\n",
       "\t 5.4 & 3.9 & 1.7 & 0.4 & setosa\\\\\n",
       "\\end{tabular}\n"
      ],
      "text/markdown": [
       "\n",
       "A data.frame: 6 × 5\n",
       "\n",
       "| Sepal.Length &lt;dbl&gt; | Sepal.Width &lt;dbl&gt; | Petal.Length &lt;dbl&gt; | Petal.Width &lt;dbl&gt; | Species &lt;fct&gt; |\n",
       "|---|---|---|---|---|\n",
       "| 5.1 | 3.5 | 1.4 | 0.2 | setosa |\n",
       "| 4.9 | 3.0 | 1.4 | 0.2 | setosa |\n",
       "| 4.7 | 3.2 | 1.3 | 0.2 | setosa |\n",
       "| 4.6 | 3.1 | 1.5 | 0.2 | setosa |\n",
       "| 5.0 | 3.6 | 1.4 | 0.2 | setosa |\n",
       "| 5.4 | 3.9 | 1.7 | 0.4 | setosa |\n",
       "\n"
      ],
      "text/plain": [
       "  Sepal.Length Sepal.Width Petal.Length Petal.Width Species\n",
       "1 5.1          3.5         1.4          0.2         setosa \n",
       "2 4.9          3.0         1.4          0.2         setosa \n",
       "3 4.7          3.2         1.3          0.2         setosa \n",
       "4 4.6          3.1         1.5          0.2         setosa \n",
       "5 5.0          3.6         1.4          0.2         setosa \n",
       "6 5.4          3.9         1.7          0.4         setosa "
      ]
     },
     "metadata": {},
     "output_type": "display_data"
    }
   ],
   "source": [
    "head(iris)"
   ]
  },
  {
   "cell_type": "markdown",
   "metadata": {},
   "source": [
    "## EDA"
   ]
  },
  {
   "cell_type": "code",
   "execution_count": 82,
   "metadata": {},
   "outputs": [
    {
     "data": {
      "image/png": "[encoded data removed]",
      "text/plain": [
       "plot without title"
      ]
     },
     "metadata": {},
     "output_type": "display_data"
    }
   ],
   "source": [
    "library(ggplot2)\n",
    "ggplot(iris, aes(Petal.Length, Petal.Width, color = Species)) + geom_point()"
   ]
  },
  {
   "cell_type": "markdown",
   "metadata": {},
   "source": [
    "## Clustering\n",
    "Now let's attempt to use the K-means algorithm to cluster the data. Remember that this is an unsupervised learning algorithm, meaning we won't give it any information on the correct labels:"
   ]
  },
  {
   "cell_type": "code",
   "execution_count": 83,
   "metadata": {},
   "outputs": [],
   "source": [
    "set.seed(101)"
   ]
  },
  {
   "cell_type": "code",
   "execution_count": 84,
   "metadata": {},
   "outputs": [],
   "source": [
    "#help(kmeans)"
   ]
  },
  {
   "cell_type": "code",
   "execution_count": 88,
   "metadata": {},
   "outputs": [],
   "source": [
    "# Already know how many clusters to expect\n",
    "irisCluster <- kmeans(iris[,1:4], 3, nstart = 20)"
   ]
  },
  {
   "cell_type": "code",
   "execution_count": 86,
   "metadata": {},
   "outputs": [
    {
     "data": {
      "text/plain": [
       "   \n",
       "    setosa versicolor virginica\n",
       "  1      0          2        36\n",
       "  2      0         48        14\n",
       "  3     50          0         0"
      ]
     },
     "metadata": {},
     "output_type": "display_data"
    }
   ],
   "source": [
    "table(irisCluster$cluster, iris$Species)"
   ]
  },
  {
   "cell_type": "markdown",
   "metadata": {},
   "source": [
    "We can also grab additional information about the clusters."
   ]
  },
  {
   "cell_type": "code",
   "execution_count": 87,
   "metadata": {},
   "outputs": [
    {
     "data": {
      "text/plain": [
       "K-means clustering with 3 clusters of sizes 38, 62, 50\n",
       "\n",
       "Cluster means:\n",
       "  Sepal.Length Sepal.Width Petal.Length Petal.Width\n",
       "1     6.850000    3.073684     5.742105    2.071053\n",
       "2     5.901613    2.748387     4.393548    1.433871\n",
       "3     5.006000    3.428000     1.462000    0.246000\n",
       "\n",
       "Clustering vector:\n",
       "  [1] 3 3 3 3 3 3 3 3 3 3 3 3 3 3 3 3 3 3 3 3 3 3 3 3 3 3 3 3 3 3 3 3 3 3 3 3 3\n",
       " [38] 3 3 3 3 3 3 3 3 3 3 3 3 3 2 2 1 2 2 2 2 2 2 2 2 2 2 2 2 2 2 2 2 2 2 2 2 2\n",
       " [75] 2 2 2 1 2 2 2 2 2 2 2 2 2 2 2 2 2 2 2 2 2 2 2 2 2 2 1 2 1 1 1 1 2 1 1 1 1\n",
       "[112] 1 1 2 2 1 1 1 1 2 1 2 1 2 1 1 2 2 1 1 1 1 1 2 1 1 1 1 2 1 1 1 2 1 1 1 2 1\n",
       "[149] 1 2\n",
       "\n",
       "Within cluster sum of squares by cluster:\n",
       "[1] 23.87947 39.82097 15.15100\n",
       " (between_SS / total_SS =  88.4 %)\n",
       "\n",
       "Available components:\n",
       "\n",
       "[1] \"cluster\"      \"centers\"      \"totss\"        \"withinss\"     \"tot.withinss\"\n",
       "[6] \"betweenss\"    \"size\"         \"iter\"         \"ifault\"      "
      ]
     },
     "metadata": {},
     "output_type": "display_data"
    }
   ],
   "source": [
    "irisCluster"
   ]
  },
  {
   "cell_type": "markdown",
   "metadata": {},
   "source": [
    "Looks like we correctly grouped the setosa, with some crossover with versicolor and virginica."
   ]
  },
  {
   "cell_type": "markdown",
   "metadata": {},
   "source": [
    "## Cluster Visualizations\n",
    "We can plot the clusters out:"
   ]
  },
  {
   "cell_type": "code",
   "execution_count": 89,
   "metadata": {},
   "outputs": [],
   "source": [
    "library(cluster)"
   ]
  },
  {
   "cell_type": "code",
   "execution_count": 90,
   "metadata": {},
   "outputs": [],
   "source": [
    "#help(clusplot)"
   ]
  },
  {
   "cell_type": "markdown",
   "metadata": {},
   "source": [
    "Here we can plot two components and the cluster regions versus the actual real data labels:"
   ]
  },
  {
   "cell_type": "code",
   "execution_count": 91,
   "metadata": {},
   "outputs": [
    {
     "data": {
      "image/png": "[encoded data removed]",
      "text/plain": [
       "Plot with title \"CLUSPLOT( iris )\""
      ]
     },
     "metadata": {},
     "output_type": "display_data"
    }
   ],
   "source": [
    "clusplot(iris, irisCluster$cluster, color=TRUE, shade=TRUE, labels=0,lines=0, )"
   ]
  },
  {
   "cell_type": "markdown",
   "metadata": {},
   "source": [
    "# <font color='red'>K Nearest Neighbors</font>\n",
    "\n",
    "We'll try to use KNN to create a model that directly predicts a class for a new data point based off of the features.\n",
    "\n",
    "## Get Data\n",
    "We'll use the ISLR package to get the data, you can download it with the code below. Remember to call the library as well."
   ]
  },
  {
   "cell_type": "code",
   "execution_count": 92,
   "metadata": {},
   "outputs": [
    {
     "name": "stdout",
     "output_type": "stream",
     "text": [
      "package 'ISLR' successfully unpacked and MD5 sums checked\n",
      "\n",
      "The downloaded binary packages are in\n",
      "\tC:\\Users\\jcdunne\\AppData\\Local\\Temp\\Rtmpe6sjY2\\downloaded_packages\n"
     ]
    }
   ],
   "source": [
    "install.packages('ISLR',repos = 'http://cran.us.r-project.org')\n",
    "library(ISLR)"
   ]
  },
  {
   "cell_type": "markdown",
   "metadata": {},
   "source": [
    "We will apply the KNN approach to the Caravan data set, which is part of the ISLR library. This data set includes 85 predictors that measure demographic characteristics for 5,822 individuals. The response variable is Purchase, which indicates whether or not a given individual purchases a Caravan insurance policy. In this data set, only 6% of people purchased caravan insurance.\n",
    "\n",
    "Let's look at the structure:"
   ]
  },
  {
   "cell_type": "code",
   "execution_count": 93,
   "metadata": {},
   "outputs": [
    {
     "name": "stdout",
     "output_type": "stream",
     "text": [
      "'data.frame':\t5822 obs. of  86 variables:\n",
      " $ MOSTYPE : num  33 37 37 9 40 23 39 33 33 11 ...\n",
      " $ MAANTHUI: num  1 1 1 1 1 1 2 1 1 2 ...\n",
      " $ MGEMOMV : num  3 2 2 3 4 2 3 2 2 3 ...\n",
      " $ MGEMLEEF: num  2 2 2 3 2 1 2 3 4 3 ...\n",
      " $ MOSHOOFD: num  8 8 8 3 10 5 9 8 8 3 ...\n",
      " $ MGODRK  : num  0 1 0 2 1 0 2 0 0 3 ...\n",
      " $ MGODPR  : num  5 4 4 3 4 5 2 7 1 5 ...\n",
      " $ MGODOV  : num  1 1 2 2 1 0 0 0 3 0 ...\n",
      " $ MGODGE  : num  3 4 4 4 4 5 5 2 6 2 ...\n",
      " $ MRELGE  : num  7 6 3 5 7 0 7 7 6 7 ...\n",
      " $ MRELSA  : num  0 2 2 2 1 6 2 2 0 0 ...\n",
      " $ MRELOV  : num  2 2 4 2 2 3 0 0 3 2 ...\n",
      " $ MFALLEEN: num  1 0 4 2 2 3 0 0 3 2 ...\n",
      " $ MFGEKIND: num  2 4 4 3 4 5 3 5 3 2 ...\n",
      " $ MFWEKIND: num  6 5 2 4 4 2 6 4 3 6 ...\n",
      " $ MOPLHOOG: num  1 0 0 3 5 0 0 0 0 0 ...\n",
      " $ MOPLMIDD: num  2 5 5 4 4 5 4 3 1 4 ...\n",
      " $ MOPLLAAG: num  7 4 4 2 0 4 5 6 8 5 ...\n",
      " $ MBERHOOG: num  1 0 0 4 0 2 0 2 1 2 ...\n",
      " $ MBERZELF: num  0 0 0 0 5 0 0 0 1 0 ...\n",
      " $ MBERBOER: num  1 0 0 0 4 0 0 0 0 0 ...\n",
      " $ MBERMIDD: num  2 5 7 3 0 4 4 2 1 3 ...\n",
      " $ MBERARBG: num  5 0 0 1 0 2 1 5 8 3 ...\n",
      " $ MBERARBO: num  2 4 2 2 0 2 5 2 1 3 ...\n",
      " $ MSKA    : num  1 0 0 3 9 2 0 2 1 1 ...\n",
      " $ MSKB1   : num  1 2 5 2 0 2 1 1 1 2 ...\n",
      " $ MSKB2   : num  2 3 0 1 0 2 4 2 0 1 ...\n",
      " $ MSKC    : num  6 5 4 4 0 4 5 5 8 4 ...\n",
      " $ MSKD    : num  1 0 0 0 0 2 0 2 1 2 ...\n",
      " $ MHHUUR  : num  1 2 7 5 4 9 6 0 9 0 ...\n",
      " $ MHKOOP  : num  8 7 2 4 5 0 3 9 0 9 ...\n",
      " $ MAUT1   : num  8 7 7 9 6 5 8 4 5 6 ...\n",
      " $ MAUT2   : num  0 1 0 0 2 3 0 4 2 1 ...\n",
      " $ MAUT0   : num  1 2 2 0 1 3 1 2 3 2 ...\n",
      " $ MZFONDS : num  8 6 9 7 5 9 9 6 7 6 ...\n",
      " $ MZPART  : num  1 3 0 2 4 0 0 3 2 3 ...\n",
      " $ MINKM30 : num  0 2 4 1 0 5 4 2 7 2 ...\n",
      " $ MINK3045: num  4 0 5 5 0 2 3 5 2 3 ...\n",
      " $ MINK4575: num  5 5 0 3 9 3 3 3 1 3 ...\n",
      " $ MINK7512: num  0 2 0 0 0 0 0 0 0 1 ...\n",
      " $ MINK123M: num  0 0 0 0 0 0 0 0 0 0 ...\n",
      " $ MINKGEM : num  4 5 3 4 6 3 3 3 2 4 ...\n",
      " $ MKOOPKLA: num  3 4 4 4 3 3 5 3 3 7 ...\n",
      " $ PWAPART : num  0 2 2 0 0 0 0 0 0 2 ...\n",
      " $ PWABEDR : num  0 0 0 0 0 0 0 0 0 0 ...\n",
      " $ PWALAND : num  0 0 0 0 0 0 0 0 0 0 ...\n",
      " $ PPERSAUT: num  6 0 6 6 0 6 6 0 5 0 ...\n",
      " $ PBESAUT : num  0 0 0 0 0 0 0 0 0 0 ...\n",
      " $ PMOTSCO : num  0 0 0 0 0 0 0 0 0 0 ...\n",
      " $ PVRAAUT : num  0 0 0 0 0 0 0 0 0 0 ...\n",
      " $ PAANHANG: num  0 0 0 0 0 0 0 0 0 0 ...\n",
      " $ PTRACTOR: num  0 0 0 0 0 0 0 0 0 0 ...\n",
      " $ PWERKT  : num  0 0 0 0 0 0 0 0 0 0 ...\n",
      " $ PBROM   : num  0 0 0 0 0 0 0 3 0 0 ...\n",
      " $ PLEVEN  : num  0 0 0 0 0 0 0 0 0 0 ...\n",
      " $ PPERSONG: num  0 0 0 0 0 0 0 0 0 0 ...\n",
      " $ PGEZONG : num  0 0 0 0 0 0 0 0 0 0 ...\n",
      " $ PWAOREG : num  0 0 0 0 0 0 0 0 0 0 ...\n",
      " $ PBRAND  : num  5 2 2 2 6 0 0 0 0 3 ...\n",
      " $ PZEILPL : num  0 0 0 0 0 0 0 0 0 0 ...\n",
      " $ PPLEZIER: num  0 0 0 0 0 0 0 0 0 0 ...\n",
      " $ PFIETS  : num  0 0 0 0 0 0 0 0 0 0 ...\n",
      " $ PINBOED : num  0 0 0 0 0 0 0 0 0 0 ...\n",
      " $ PBYSTAND: num  0 0 0 0 0 0 0 0 0 0 ...\n",
      " $ AWAPART : num  0 2 1 0 0 0 0 0 0 1 ...\n",
      " $ AWABEDR : num  0 0 0 0 0 0 0 0 0 0 ...\n",
      " $ AWALAND : num  0 0 0 0 0 0 0 0 0 0 ...\n",
      " $ APERSAUT: num  1 0 1 1 0 1 1 0 1 0 ...\n",
      " $ ABESAUT : num  0 0 0 0 0 0 0 0 0 0 ...\n",
      " $ AMOTSCO : num  0 0 0 0 0 0 0 0 0 0 ...\n",
      " $ AVRAAUT : num  0 0 0 0 0 0 0 0 0 0 ...\n",
      " $ AAANHANG: num  0 0 0 0 0 0 0 0 0 0 ...\n",
      " $ ATRACTOR: num  0 0 0 0 0 0 0 0 0 0 ...\n",
      " $ AWERKT  : num  0 0 0 0 0 0 0 0 0 0 ...\n",
      " $ ABROM   : num  0 0 0 0 0 0 0 1 0 0 ...\n",
      " $ ALEVEN  : num  0 0 0 0 0 0 0 0 0 0 ...\n",
      " $ APERSONG: num  0 0 0 0 0 0 0 0 0 0 ...\n",
      " $ AGEZONG : num  0 0 0 0 0 0 0 0 0 0 ...\n",
      " $ AWAOREG : num  0 0 0 0 0 0 0 0 0 0 ...\n",
      " $ ABRAND  : num  1 1 1 1 1 0 0 0 0 1 ...\n",
      " $ AZEILPL : num  0 0 0 0 0 0 0 0 0 0 ...\n",
      " $ APLEZIER: num  0 0 0 0 0 0 0 0 0 0 ...\n",
      " $ AFIETS  : num  0 0 0 0 0 0 0 0 0 0 ...\n",
      " $ AINBOED : num  0 0 0 0 0 0 0 0 0 0 ...\n",
      " $ ABYSTAND: num  0 0 0 0 0 0 0 0 0 0 ...\n",
      " $ Purchase: Factor w/ 2 levels \"No\",\"Yes\": 1 1 1 1 1 1 1 1 1 1 ...\n"
     ]
    }
   ],
   "source": [
    "str(Caravan)"
   ]
  },
  {
   "cell_type": "code",
   "execution_count": 94,
   "metadata": {},
   "outputs": [
    {
     "data": {
      "text/html": [
       "<dl class=dl-horizontal>\n",
       "\t<dt>No</dt>\n",
       "\t\t<dd>5474</dd>\n",
       "\t<dt>Yes</dt>\n",
       "\t\t<dd>348</dd>\n",
       "</dl>\n"
      ],
      "text/latex": [
       "\\begin{description*}\n",
       "\\item[No] 5474\n",
       "\\item[Yes] 348\n",
       "\\end{description*}\n"
      ],
      "text/markdown": [
       "No\n",
       ":   5474Yes\n",
       ":   348\n",
       "\n"
      ],
      "text/plain": [
       "  No  Yes \n",
       "5474  348 "
      ]
     },
     "metadata": {},
     "output_type": "display_data"
    }
   ],
   "source": [
    "summary(Caravan$Purchase)"
   ]
  },
  {
   "cell_type": "markdown",
   "metadata": {},
   "source": [
    "## Cleaning Data\n",
    "Since we are just using this data as a simple example, we won't worry about feature engineering. Let's just remove any NA values by dropping the rows with them."
   ]
  },
  {
   "cell_type": "code",
   "execution_count": 95,
   "metadata": {},
   "outputs": [
    {
     "data": {
      "text/html": [
       "FALSE"
      ],
      "text/latex": [
       "FALSE"
      ],
      "text/markdown": [
       "FALSE"
      ],
      "text/plain": [
       "[1] FALSE"
      ]
     },
     "metadata": {},
     "output_type": "display_data"
    }
   ],
   "source": [
    "any(is.na(Caravan))"
   ]
  },
  {
   "cell_type": "markdown",
   "metadata": {},
   "source": [
    "Looks like we're good. Let's move on the standardize the variable features:"
   ]
  },
  {
   "cell_type": "markdown",
   "metadata": {},
   "source": [
    "## Standardize Variables\n",
    "Because the KNN classifier predicts the class of a given test observation by identifying the observations that are nearest to it, the scale of the variables matters. Any variables that are on a large scale will have a much larger effect on the distance between the observations, and hence on the KNN classifier, than variables that are on a small scale.\n",
    "\n",
    "For example, let's check out the variance of two features:"
   ]
  },
  {
   "cell_type": "code",
   "execution_count": 96,
   "metadata": {},
   "outputs": [
    {
     "data": {
      "text/html": [
       "165.037847395189"
      ],
      "text/latex": [
       "165.037847395189"
      ],
      "text/markdown": [
       "165.037847395189"
      ],
      "text/plain": [
       "[1] 165.0378"
      ]
     },
     "metadata": {},
     "output_type": "display_data"
    }
   ],
   "source": [
    "var(Caravan[,1])"
   ]
  },
  {
   "cell_type": "code",
   "execution_count": 97,
   "metadata": {},
   "outputs": [
    {
     "data": {
      "text/html": [
       "0.164707781931954"
      ],
      "text/latex": [
       "0.164707781931954"
      ],
      "text/markdown": [
       "0.164707781931954"
      ],
      "text/plain": [
       "[1] 0.1647078"
      ]
     },
     "metadata": {},
     "output_type": "display_data"
    }
   ],
   "source": [
    "var(Caravan[,2])"
   ]
  },
  {
   "cell_type": "markdown",
   "metadata": {},
   "source": [
    "Clearly the scales are different. We are now going to standarize all the X variables except Y (Purchase). The Purchase variable is in column 86 of our dataset, so let’s save it in a separate variable because the knn() function needs it as a separate argument."
   ]
  },
  {
   "cell_type": "code",
   "execution_count": 98,
   "metadata": {},
   "outputs": [],
   "source": [
    "# save the Purchase column in a separate variable\n",
    "purchase <- Caravan[,86]\n",
    "\n",
    "# Standarize the dataset using \"scale()\" R function\n",
    "standardized.Caravan <- scale(Caravan[,-86])"
   ]
  },
  {
   "cell_type": "markdown",
   "metadata": {},
   "source": [
    "Let's check the variance again:"
   ]
  },
  {
   "cell_type": "code",
   "execution_count": 99,
   "metadata": {},
   "outputs": [
    {
     "data": {
      "text/html": [
       "1"
      ],
      "text/latex": [
       "1"
      ],
      "text/markdown": [
       "1"
      ],
      "text/plain": [
       "[1] 1"
      ]
     },
     "metadata": {},
     "output_type": "display_data"
    }
   ],
   "source": [
    "var(standardized.Caravan[,1])"
   ]
  },
  {
   "cell_type": "code",
   "execution_count": 101,
   "metadata": {},
   "outputs": [
    {
     "data": {
      "text/html": [
       "1"
      ],
      "text/latex": [
       "1"
      ],
      "text/markdown": [
       "1"
      ],
      "text/plain": [
       "[1] 1"
      ]
     },
     "metadata": {},
     "output_type": "display_data"
    }
   ],
   "source": [
    "var(standardized.Caravan[,2])"
   ]
  },
  {
   "cell_type": "markdown",
   "metadata": {},
   "source": [
    "We can see that now that all independent variables (X’s) have a mean of 1 and standard deviation of 0. Great, then let’s divide our dataset into testing and training data. We'll just do a simple split of the first 1000 rows as a test set. Normally, you wouldn't do it this way. You would most likely use sample.split to create a training and test dataset:"
   ]
  },
  {
   "cell_type": "code",
   "execution_count": 102,
   "metadata": {},
   "outputs": [],
   "source": [
    "# First 100 rows for test set\n",
    "test.index <- 1:1000\n",
    "test.data <- standardized.Caravan[test.index,]\n",
    "test.purchase <- purchase[test.index]"
   ]
  },
  {
   "cell_type": "code",
   "execution_count": 103,
   "metadata": {},
   "outputs": [],
   "source": [
    "# Rest of data for training\n",
    "train.data <- standardized.Caravan[-test.index,]\n",
    "train.purchase <- purchase[-test.index]"
   ]
  },
  {
   "cell_type": "markdown",
   "metadata": {},
   "source": [
    "## Using KNN\n",
    "Rememeber that we are trying to come up with a model to predict whether someone will purchase or not. We will use the knn() function to do so, and we will focus on 4 of its arguments that we need to specify. The first argument is a data frame that contains the training data set(remember that we don’t have the Y here), the second argument is a data frame that contains the testing data set (again no Y variable), the third argument is the train.purchase column (Y) that we save earlier, and the fourth argument is the k (how many neighbors). Let’s start with k = 1. knn() function returns a vector of predicted Y’s."
   ]
  },
  {
   "cell_type": "code",
   "execution_count": 104,
   "metadata": {},
   "outputs": [],
   "source": [
    "library(class)"
   ]
  },
  {
   "cell_type": "code",
   "execution_count": 105,
   "metadata": {},
   "outputs": [
    {
     "data": {
      "text/html": [
       "<ol class=list-inline>\n",
       "\t<li>No</li>\n",
       "\t<li>No</li>\n",
       "\t<li>No</li>\n",
       "\t<li>No</li>\n",
       "\t<li>No</li>\n",
       "\t<li>No</li>\n",
       "</ol>\n",
       "\n",
       "<details>\n",
       "\t<summary style=display:list-item;cursor:pointer>\n",
       "\t\t<strong>Levels</strong>:\n",
       "\t</summary>\n",
       "\t<ol class=list-inline>\n",
       "\t\t<li>'No'</li>\n",
       "\t\t<li>'Yes'</li>\n",
       "\t</ol>\n",
       "</details>"
      ],
      "text/latex": [
       "\\begin{enumerate*}\n",
       "\\item No\n",
       "\\item No\n",
       "\\item No\n",
       "\\item No\n",
       "\\item No\n",
       "\\item No\n",
       "\\end{enumerate*}\n",
       "\n",
       "\\emph{Levels}: \\begin{enumerate*}\n",
       "\\item 'No'\n",
       "\\item 'Yes'\n",
       "\\end{enumerate*}\n"
      ],
      "text/markdown": [
       "1. No\n",
       "2. No\n",
       "3. No\n",
       "4. No\n",
       "5. No\n",
       "6. No\n",
       "\n",
       "\n",
       "\n",
       "**Levels**: 1. 'No'\n",
       "2. 'Yes'\n",
       "\n",
       "\n"
      ],
      "text/plain": [
       "[1] No No No No No No\n",
       "Levels: No Yes"
      ]
     },
     "metadata": {},
     "output_type": "display_data"
    }
   ],
   "source": [
    "set.seed(101)\n",
    "predicted.purchase <- knn(train.data,test.data,train.purchase,k=1)\n",
    "head(predicted.purchase)"
   ]
  },
  {
   "cell_type": "markdown",
   "metadata": {},
   "source": [
    "Now let’s evaluate the model we trained and see our misclassification error rate."
   ]
  },
  {
   "cell_type": "code",
   "execution_count": 106,
   "metadata": {},
   "outputs": [
    {
     "data": {
      "text/html": [
       "0.116"
      ],
      "text/latex": [
       "0.116"
      ],
      "text/markdown": [
       "0.116"
      ],
      "text/plain": [
       "[1] 0.116"
      ]
     },
     "metadata": {},
     "output_type": "display_data"
    }
   ],
   "source": [
    "mean(test.purchase != predicted.purchase)"
   ]
  },
  {
   "cell_type": "markdown",
   "metadata": {},
   "source": [
    "## Choosing K Value\n",
    "Let's see what happens when we choose a different K value:"
   ]
  },
  {
   "cell_type": "code",
   "execution_count": 107,
   "metadata": {},
   "outputs": [
    {
     "data": {
      "text/html": [
       "0.073"
      ],
      "text/latex": [
       "0.073"
      ],
      "text/markdown": [
       "0.073"
      ],
      "text/plain": [
       "[1] 0.073"
      ]
     },
     "metadata": {},
     "output_type": "display_data"
    }
   ],
   "source": [
    "predicted.purchase <- knn(train.data,test.data,train.purchase,k=3)\n",
    "mean(test.purchase != predicted.purchase)"
   ]
  },
  {
   "cell_type": "markdown",
   "metadata": {},
   "source": [
    "Interesting. Our Misclassification rate went down. What about k=5?"
   ]
  },
  {
   "cell_type": "code",
   "execution_count": 108,
   "metadata": {},
   "outputs": [
    {
     "data": {
      "text/html": [
       "0.066"
      ],
      "text/latex": [
       "0.066"
      ],
      "text/markdown": [
       "0.066"
      ],
      "text/plain": [
       "[1] 0.066"
      ]
     },
     "metadata": {},
     "output_type": "display_data"
    }
   ],
   "source": [
    "predicted.purchase <- knn(train.data,test.data,train.purchase,k=5)\n",
    "mean(test.purchase != predicted.purchase)"
   ]
  },
  {
   "cell_type": "markdown",
   "metadata": {},
   "source": [
    "Should we manually change k and see which k gives us the minimal misclassification rate? NO! we have computers, so let’s automate the process with a for() loop. A loop in R repeats the same command as much as you specify. For example, if we want to check for k =1 up to 100, then we have to write 3 x 100 lines of code, but with a for loop, you just need 4 lines of code, and you can repeat those 3 lines up to as many as you want. (Note this may take awhile because you're running the model 20 times)\n",
    "\n",
    "[Note on NULL versus NA](https://www.r-bloggers.com/r-na-vs-null/)"
   ]
  },
  {
   "cell_type": "code",
   "execution_count": 109,
   "metadata": {},
   "outputs": [
    {
     "name": "stdout",
     "output_type": "stream",
     "text": [
      " [1] 0.116 0.107 0.074 0.070 0.066 0.064 0.062 0.061 0.058 0.058 0.059 0.058\n",
      "[13] 0.059 0.059 0.059 0.059 0.059 0.059 0.059 0.059\n"
     ]
    }
   ],
   "source": [
    "predicted.purchase = NULL\n",
    "error.rate = NULL\n",
    "\n",
    "for(i in 1:20){\n",
    "    set.seed(101)\n",
    "    predicted.purchase = knn(train.data,test.data,train.purchase,k=i)\n",
    "    error.rate[i] = mean(test.purchase != predicted.purchase)\n",
    "}\n",
    "\n",
    "print(error.rate)"
   ]
  },
  {
   "cell_type": "markdown",
   "metadata": {},
   "source": [
    "## Elbow Method\n",
    "We can plot out the various error rates for the K values. We should see an \"elbow\" indicating that we don't get a decrease in error rate for using a higher K. This is a good cut-off point:"
   ]
  },
  {
   "cell_type": "code",
   "execution_count": 110,
   "metadata": {},
   "outputs": [
    {
     "data": {
      "text/html": [
       "<table>\n",
       "<caption>A data.frame: 20 × 2</caption>\n",
       "<thead>\n",
       "\t<tr><th scope=col>error.rate</th><th scope=col>k.values</th></tr>\n",
       "\t<tr><th scope=col>&lt;dbl&gt;</th><th scope=col>&lt;int&gt;</th></tr>\n",
       "</thead>\n",
       "<tbody>\n",
       "\t<tr><td>0.116</td><td> 1</td></tr>\n",
       "\t<tr><td>0.107</td><td> 2</td></tr>\n",
       "\t<tr><td>0.074</td><td> 3</td></tr>\n",
       "\t<tr><td>0.070</td><td> 4</td></tr>\n",
       "\t<tr><td>0.066</td><td> 5</td></tr>\n",
       "\t<tr><td>0.064</td><td> 6</td></tr>\n",
       "\t<tr><td>0.062</td><td> 7</td></tr>\n",
       "\t<tr><td>0.061</td><td> 8</td></tr>\n",
       "\t<tr><td>0.058</td><td> 9</td></tr>\n",
       "\t<tr><td>0.058</td><td>10</td></tr>\n",
       "\t<tr><td>0.059</td><td>11</td></tr>\n",
       "\t<tr><td>0.058</td><td>12</td></tr>\n",
       "\t<tr><td>0.059</td><td>13</td></tr>\n",
       "\t<tr><td>0.059</td><td>14</td></tr>\n",
       "\t<tr><td>0.059</td><td>15</td></tr>\n",
       "\t<tr><td>0.059</td><td>16</td></tr>\n",
       "\t<tr><td>0.059</td><td>17</td></tr>\n",
       "\t<tr><td>0.059</td><td>18</td></tr>\n",
       "\t<tr><td>0.059</td><td>19</td></tr>\n",
       "\t<tr><td>0.059</td><td>20</td></tr>\n",
       "</tbody>\n",
       "</table>\n"
      ],
      "text/latex": [
       "A data.frame: 20 × 2\n",
       "\\begin{tabular}{r|ll}\n",
       " error.rate & k.values\\\\\n",
       " <dbl> & <int>\\\\\n",
       "\\hline\n",
       "\t 0.116 &  1\\\\\n",
       "\t 0.107 &  2\\\\\n",
       "\t 0.074 &  3\\\\\n",
       "\t 0.070 &  4\\\\\n",
       "\t 0.066 &  5\\\\\n",
       "\t 0.064 &  6\\\\\n",
       "\t 0.062 &  7\\\\\n",
       "\t 0.061 &  8\\\\\n",
       "\t 0.058 &  9\\\\\n",
       "\t 0.058 & 10\\\\\n",
       "\t 0.059 & 11\\\\\n",
       "\t 0.058 & 12\\\\\n",
       "\t 0.059 & 13\\\\\n",
       "\t 0.059 & 14\\\\\n",
       "\t 0.059 & 15\\\\\n",
       "\t 0.059 & 16\\\\\n",
       "\t 0.059 & 17\\\\\n",
       "\t 0.059 & 18\\\\\n",
       "\t 0.059 & 19\\\\\n",
       "\t 0.059 & 20\\\\\n",
       "\\end{tabular}\n"
      ],
      "text/markdown": [
       "\n",
       "A data.frame: 20 × 2\n",
       "\n",
       "| error.rate &lt;dbl&gt; | k.values &lt;int&gt; |\n",
       "|---|---|\n",
       "| 0.116 |  1 |\n",
       "| 0.107 |  2 |\n",
       "| 0.074 |  3 |\n",
       "| 0.070 |  4 |\n",
       "| 0.066 |  5 |\n",
       "| 0.064 |  6 |\n",
       "| 0.062 |  7 |\n",
       "| 0.061 |  8 |\n",
       "| 0.058 |  9 |\n",
       "| 0.058 | 10 |\n",
       "| 0.059 | 11 |\n",
       "| 0.058 | 12 |\n",
       "| 0.059 | 13 |\n",
       "| 0.059 | 14 |\n",
       "| 0.059 | 15 |\n",
       "| 0.059 | 16 |\n",
       "| 0.059 | 17 |\n",
       "| 0.059 | 18 |\n",
       "| 0.059 | 19 |\n",
       "| 0.059 | 20 |\n",
       "\n"
      ],
      "text/plain": [
       "   error.rate k.values\n",
       "1  0.116       1      \n",
       "2  0.107       2      \n",
       "3  0.074       3      \n",
       "4  0.070       4      \n",
       "5  0.066       5      \n",
       "6  0.064       6      \n",
       "7  0.062       7      \n",
       "8  0.061       8      \n",
       "9  0.058       9      \n",
       "10 0.058      10      \n",
       "11 0.059      11      \n",
       "12 0.058      12      \n",
       "13 0.059      13      \n",
       "14 0.059      14      \n",
       "15 0.059      15      \n",
       "16 0.059      16      \n",
       "17 0.059      17      \n",
       "18 0.059      18      \n",
       "19 0.059      19      \n",
       "20 0.059      20      "
      ]
     },
     "metadata": {},
     "output_type": "display_data"
    }
   ],
   "source": [
    "library(ggplot2)\n",
    "\n",
    "k.values <- 1:20\n",
    "\n",
    "error.df <- data.frame(error.rate,k.values)\n",
    "\n",
    "error.df"
   ]
  },
  {
   "cell_type": "code",
   "execution_count": 111,
   "metadata": {},
   "outputs": [
    {
     "data": {
      "image/png": "[encoded data removed]",
      "text/plain": [
       "plot without title"
      ]
     },
     "metadata": {},
     "output_type": "display_data"
    }
   ],
   "source": [
    "ggplot(error.df,aes(x=k.values,y=error.rate)) + geom_point()+ geom_line(lty=\"dotted\",color='red')"
   ]
  },
  {
   "cell_type": "markdown",
   "metadata": {},
   "source": [
    "Here we can clearly see that increasing beyond K=9 does not help our misclassification at all. So we can set that as the K for our model during training."
   ]
  },
  {
   "cell_type": "markdown",
   "metadata": {},
   "source": [
    "# <font color='red'>Support Vector Machines</font>\n",
    "\n",
    "\n",
    "## Get the Data\n",
    "We'll use the iris data again since we are already familiar with it."
   ]
  },
  {
   "cell_type": "code",
   "execution_count": 112,
   "metadata": {},
   "outputs": [],
   "source": [
    "#install.packages('ISLR',repos = 'http://cran.us.r-project.org')\n",
    "library(ISLR)"
   ]
  },
  {
   "cell_type": "code",
   "execution_count": 113,
   "metadata": {},
   "outputs": [
    {
     "data": {
      "text/html": [
       "<table>\n",
       "<caption>A data.frame: 6 × 5</caption>\n",
       "<thead>\n",
       "\t<tr><th scope=col>Sepal.Length</th><th scope=col>Sepal.Width</th><th scope=col>Petal.Length</th><th scope=col>Petal.Width</th><th scope=col>Species</th></tr>\n",
       "\t<tr><th scope=col>&lt;dbl&gt;</th><th scope=col>&lt;dbl&gt;</th><th scope=col>&lt;dbl&gt;</th><th scope=col>&lt;dbl&gt;</th><th scope=col>&lt;fct&gt;</th></tr>\n",
       "</thead>\n",
       "<tbody>\n",
       "\t<tr><td>5.1</td><td>3.5</td><td>1.4</td><td>0.2</td><td>setosa</td></tr>\n",
       "\t<tr><td>4.9</td><td>3.0</td><td>1.4</td><td>0.2</td><td>setosa</td></tr>\n",
       "\t<tr><td>4.7</td><td>3.2</td><td>1.3</td><td>0.2</td><td>setosa</td></tr>\n",
       "\t<tr><td>4.6</td><td>3.1</td><td>1.5</td><td>0.2</td><td>setosa</td></tr>\n",
       "\t<tr><td>5.0</td><td>3.6</td><td>1.4</td><td>0.2</td><td>setosa</td></tr>\n",
       "\t<tr><td>5.4</td><td>3.9</td><td>1.7</td><td>0.4</td><td>setosa</td></tr>\n",
       "</tbody>\n",
       "</table>\n"
      ],
      "text/latex": [
       "A data.frame: 6 × 5\n",
       "\\begin{tabular}{r|lllll}\n",
       " Sepal.Length & Sepal.Width & Petal.Length & Petal.Width & Species\\\\\n",
       " <dbl> & <dbl> & <dbl> & <dbl> & <fct>\\\\\n",
       "\\hline\n",
       "\t 5.1 & 3.5 & 1.4 & 0.2 & setosa\\\\\n",
       "\t 4.9 & 3.0 & 1.4 & 0.2 & setosa\\\\\n",
       "\t 4.7 & 3.2 & 1.3 & 0.2 & setosa\\\\\n",
       "\t 4.6 & 3.1 & 1.5 & 0.2 & setosa\\\\\n",
       "\t 5.0 & 3.6 & 1.4 & 0.2 & setosa\\\\\n",
       "\t 5.4 & 3.9 & 1.7 & 0.4 & setosa\\\\\n",
       "\\end{tabular}\n"
      ],
      "text/markdown": [
       "\n",
       "A data.frame: 6 × 5\n",
       "\n",
       "| Sepal.Length &lt;dbl&gt; | Sepal.Width &lt;dbl&gt; | Petal.Length &lt;dbl&gt; | Petal.Width &lt;dbl&gt; | Species &lt;fct&gt; |\n",
       "|---|---|---|---|---|\n",
       "| 5.1 | 3.5 | 1.4 | 0.2 | setosa |\n",
       "| 4.9 | 3.0 | 1.4 | 0.2 | setosa |\n",
       "| 4.7 | 3.2 | 1.3 | 0.2 | setosa |\n",
       "| 4.6 | 3.1 | 1.5 | 0.2 | setosa |\n",
       "| 5.0 | 3.6 | 1.4 | 0.2 | setosa |\n",
       "| 5.4 | 3.9 | 1.7 | 0.4 | setosa |\n",
       "\n"
      ],
      "text/plain": [
       "  Sepal.Length Sepal.Width Petal.Length Petal.Width Species\n",
       "1 5.1          3.5         1.4          0.2         setosa \n",
       "2 4.9          3.0         1.4          0.2         setosa \n",
       "3 4.7          3.2         1.3          0.2         setosa \n",
       "4 4.6          3.1         1.5          0.2         setosa \n",
       "5 5.0          3.6         1.4          0.2         setosa \n",
       "6 5.4          3.9         1.7          0.4         setosa "
      ]
     },
     "metadata": {},
     "output_type": "display_data"
    }
   ],
   "source": [
    "head(iris)"
   ]
  },
  {
   "cell_type": "markdown",
   "metadata": {},
   "source": [
    "## Building the Model\n",
    "We'll need the e1071 library. [More info here](https://cran.r-project.org/web/packages/e1071/index.html)."
   ]
  },
  {
   "cell_type": "code",
   "execution_count": 114,
   "metadata": {},
   "outputs": [
    {
     "name": "stdout",
     "output_type": "stream",
     "text": [
      "package 'e1071' successfully unpacked and MD5 sums checked\n",
      "\n",
      "The downloaded binary packages are in\n",
      "\tC:\\Users\\jcdunne\\AppData\\Local\\Temp\\Rtmpe6sjY2\\downloaded_packages\n"
     ]
    }
   ],
   "source": [
    "install.packages('e1071',repos = 'http://cran.us.r-project.org')\n",
    "library(e1071)"
   ]
  },
  {
   "cell_type": "markdown",
   "metadata": {},
   "source": [
    "We can use the svm() function to build and train a support vector machine model:"
   ]
  },
  {
   "cell_type": "code",
   "execution_count": 115,
   "metadata": {},
   "outputs": [],
   "source": [
    "#help(svm)"
   ]
  },
  {
   "cell_type": "code",
   "execution_count": 116,
   "metadata": {},
   "outputs": [],
   "source": [
    "# Model iris data with svm\n",
    "model <- svm(Species ~ ., data=iris)"
   ]
  },
  {
   "cell_type": "code",
   "execution_count": 117,
   "metadata": {},
   "outputs": [
    {
     "data": {
      "text/plain": [
       "\n",
       "Call:\n",
       "svm(formula = Species ~ ., data = iris)\n",
       "\n",
       "\n",
       "Parameters:\n",
       "   SVM-Type:  C-classification \n",
       " SVM-Kernel:  radial \n",
       "       cost:  1 \n",
       "\n",
       "Number of Support Vectors:  51\n",
       "\n",
       " ( 8 22 21 )\n",
       "\n",
       "\n",
       "Number of Classes:  3 \n",
       "\n",
       "Levels: \n",
       " setosa versicolor virginica\n",
       "\n",
       "\n"
      ]
     },
     "metadata": {},
     "output_type": "display_data"
    }
   ],
   "source": [
    "summary(model)"
   ]
  },
  {
   "cell_type": "markdown",
   "metadata": {},
   "source": [
    "## Example Predictions\n",
    "We have a small data set, so instead of splitting it into training and testing sets (which you should always try to do) we'll just score our model against the same data it was tested against:"
   ]
  },
  {
   "cell_type": "code",
   "execution_count": 118,
   "metadata": {},
   "outputs": [],
   "source": [
    "predicted.values <- predict(model,iris[1:4])"
   ]
  },
  {
   "cell_type": "code",
   "execution_count": 119,
   "metadata": {},
   "outputs": [
    {
     "data": {
      "text/plain": [
       "                \n",
       "predicted.values setosa versicolor virginica\n",
       "      setosa         50          0         0\n",
       "      versicolor      0         48         2\n",
       "      virginica       0          2        48"
      ]
     },
     "metadata": {},
     "output_type": "display_data"
    }
   ],
   "source": [
    "table(predicted.values,iris[,5])"
   ]
  },
  {
   "cell_type": "markdown",
   "metadata": {},
   "source": [
    "Just as we've seen before with the iris data set, the setosa values are easily separated with some noise between versicolor and virginica."
   ]
  },
  {
   "cell_type": "markdown",
   "metadata": {},
   "source": [
    "## Advanced - Tuning\n",
    "We can try to tune parameters to attempt to improve our model, you can refer to the help() documentation to understand what each of these parameters means. We use the tune function:"
   ]
  },
  {
   "cell_type": "code",
   "execution_count": 120,
   "metadata": {},
   "outputs": [],
   "source": [
    "# Tune for combos of gamma 0.5,1,2\n",
    "# and costs 1/10 , 10 , 100\n",
    "tune.results <- tune(svm,train.x=iris[1:4],train.y=iris[,5],kernel='radial',\n",
    "                  ranges=list(cost=10^(-1:2), gamma=c(.5,1,2)))"
   ]
  },
  {
   "cell_type": "code",
   "execution_count": 121,
   "metadata": {},
   "outputs": [
    {
     "data": {
      "text/plain": [
       "\n",
       "Parameter tuning of 'svm':\n",
       "\n",
       "- sampling method: 10-fold cross validation \n",
       "\n",
       "- best parameters:\n",
       " cost gamma\n",
       "    1   0.5\n",
       "\n",
       "- best performance: 0.04 \n",
       "\n",
       "- Detailed performance results:\n",
       "    cost gamma      error dispersion\n",
       "1    0.1   0.5 0.05333333 0.08195151\n",
       "2    1.0   0.5 0.04000000 0.04661373\n",
       "3   10.0   0.5 0.05333333 0.06885304\n",
       "4  100.0   0.5 0.06000000 0.05837300\n",
       "5    0.1   1.0 0.06666667 0.07698004\n",
       "6    1.0   1.0 0.05333333 0.06126244\n",
       "7   10.0   1.0 0.06666667 0.07027284\n",
       "8  100.0   1.0 0.06000000 0.05837300\n",
       "9    0.1   2.0 0.08666667 0.08344437\n",
       "10   1.0   2.0 0.06000000 0.05837300\n",
       "11  10.0   2.0 0.06000000 0.06629526\n",
       "12 100.0   2.0 0.05333333 0.05258738\n"
      ]
     },
     "metadata": {},
     "output_type": "display_data"
    }
   ],
   "source": [
    "summary(tune.results)"
   ]
  },
  {
   "cell_type": "markdown",
   "metadata": {},
   "source": [
    "We can now see that the best performance occurs with cost=1 and gamma=0.5. You could try to train the model again with these specific parameters in hopes of having a better model:"
   ]
  },
  {
   "cell_type": "code",
   "execution_count": 122,
   "metadata": {},
   "outputs": [],
   "source": [
    "tuned.svm <- svm(Species ~ ., data=iris, kernel=\"radial\", cost=1, gamma=0.5)"
   ]
  },
  {
   "cell_type": "code",
   "execution_count": 123,
   "metadata": {},
   "outputs": [
    {
     "data": {
      "text/plain": [
       "\n",
       "Call:\n",
       "svm(formula = Species ~ ., data = iris, kernel = \"radial\", cost = 1, \n",
       "    gamma = 0.5)\n",
       "\n",
       "\n",
       "Parameters:\n",
       "   SVM-Type:  C-classification \n",
       " SVM-Kernel:  radial \n",
       "       cost:  1 \n",
       "\n",
       "Number of Support Vectors:  59\n",
       "\n",
       " ( 11 23 25 )\n",
       "\n",
       "\n",
       "Number of Classes:  3 \n",
       "\n",
       "Levels: \n",
       " setosa versicolor virginica\n",
       "\n",
       "\n"
      ]
     },
     "metadata": {},
     "output_type": "display_data"
    }
   ],
   "source": [
    "summary(tuned.svm)"
   ]
  },
  {
   "cell_type": "code",
   "execution_count": 124,
   "metadata": {},
   "outputs": [],
   "source": [
    "tuned.predicted.values <- predict(tuned.svm,iris[1:4])"
   ]
  },
  {
   "cell_type": "code",
   "execution_count": 125,
   "metadata": {},
   "outputs": [
    {
     "data": {
      "text/plain": [
       "                      \n",
       "tuned.predicted.values setosa versicolor virginica\n",
       "            setosa         50          0         0\n",
       "            versicolor      0         48         2\n",
       "            virginica       0          2        48"
      ]
     },
     "metadata": {},
     "output_type": "display_data"
    }
   ],
   "source": [
    "table(tuned.predicted.values,iris[,5])"
   ]
  },
  {
   "cell_type": "markdown",
   "metadata": {},
   "source": [
    "Looks like we weren't able to improve on our model. The concept of trying to tune for parameters by just trying many combinations in generally known as a grid search. In this case, we likely have too little data to actually improve our model through careful parameter selection."
   ]
  },
  {
   "cell_type": "markdown",
   "metadata": {},
   "source": [
    "# <font color='red'>Decision Trees and Random Forests</font>\n",
    "A Decision Tree is a supervised, non parametric machine learning algorithm, used for both classification as well as regression problems. Decisions on how to split heavily impacts accuracy of decision tree. It splits nodes based on available input variables. Selects the input variable resulting in best homogenous dataset.\n",
    "\n",
    "A Random forest is the most simple and widely used algorithm. Used for both classification and regression. It is an ensemble of randomized decision trees. Each decision tree gives a vote for the prediction of target variable. Random forest choses the prediction that gets the most vote.\n",
    "\n",
    "An ensemble learning model aggregates multiple machine learning models to give a better performance. In random forest we use multiple random decision trees for a better accuracy.\n",
    "\n",
    "Random Forest is a ensemble bagging algorithm to achieve low prediction error. It reduces the variance of the individual decision trees by randomly selecting trees and then either average them or picking the class that gets the most vote.\n",
    "\n",
    "\n",
    "## Growing a Decision Tree\n",
    "You may need to install the rpart library. You can find a lot more information about this library [here](https://www.rdocumentation.org/packages/rpart/versions/4.1-15/topics/rpart)."
   ]
  },
  {
   "cell_type": "code",
   "execution_count": 126,
   "metadata": {},
   "outputs": [
    {
     "name": "stdout",
     "output_type": "stream",
     "text": [
      "package 'rpart' successfully unpacked and MD5 sums checked\n",
      "\n",
      "The downloaded binary packages are in\n",
      "\tC:\\Users\\jcdunne\\AppData\\Local\\Temp\\Rtmpe6sjY2\\downloaded_packages\n"
     ]
    }
   ],
   "source": [
    "install.packages('rpart')\n",
    "library(rpart)"
   ]
  },
  {
   "cell_type": "markdown",
   "metadata": {},
   "source": [
    "We can then use the rpart() function to build a decision tree model:\n",
    "\n",
    "**rpart(formula, data=, method=,control=) where**\n",
    "\n",
    "* the formula is in the format: outcome ~ predictor1+predictor2+predictor3+ect.\n",
    "* data= specifies the data frame\n",
    "* method= \"class\" for a classification tree\n",
    "* \"anova\" for a regression tree\n",
    "* control= optional parameters for controlling tree growth.\n",
    "    \n",
    "    For example, control=rpart.control(minsplit=30, cp=0.001) requires that the minimum number of observations in a node be 30 before attempting a split and that a split must decrease the overall lack of fit by a factor of 0.001 (cost complexity factor) before being attempted.\n",
    "\n",
    "## Sample Data\n",
    "We'll use the kyphosis data frame which has 81 rows and 4 columns. representing data on children who have had corrective spinal surgery. It has the following columns:\n",
    "\n",
    "* Kyphosis-a factor with levels absent present indicating if a kyphosis (a type of deformation) was present after the operation.\n",
    "* Age-in months\n",
    "* Number-the number of vertebrae involved\n",
    "* Start-the number of the first (topmost) vertebra operated on.\n",
    "\n",
    "Let's check out the structure:"
   ]
  },
  {
   "cell_type": "code",
   "execution_count": 127,
   "metadata": {},
   "outputs": [
    {
     "name": "stdout",
     "output_type": "stream",
     "text": [
      "'data.frame':\t81 obs. of  4 variables:\n",
      " $ Kyphosis: Factor w/ 2 levels \"absent\",\"present\": 1 1 2 1 1 1 1 1 1 2 ...\n",
      " $ Age     : int  71 158 128 2 1 1 61 37 113 59 ...\n",
      " $ Number  : int  3 3 4 5 4 2 2 3 2 6 ...\n",
      " $ Start   : int  5 14 5 1 15 16 17 16 16 12 ...\n"
     ]
    }
   ],
   "source": [
    "str(kyphosis)"
   ]
  },
  {
   "cell_type": "code",
   "execution_count": 128,
   "metadata": {},
   "outputs": [
    {
     "data": {
      "text/html": [
       "<table>\n",
       "<caption>A data.frame: 6 × 4</caption>\n",
       "<thead>\n",
       "\t<tr><th scope=col>Kyphosis</th><th scope=col>Age</th><th scope=col>Number</th><th scope=col>Start</th></tr>\n",
       "\t<tr><th scope=col>&lt;fct&gt;</th><th scope=col>&lt;int&gt;</th><th scope=col>&lt;int&gt;</th><th scope=col>&lt;int&gt;</th></tr>\n",
       "</thead>\n",
       "<tbody>\n",
       "\t<tr><td>absent </td><td> 71</td><td>3</td><td> 5</td></tr>\n",
       "\t<tr><td>absent </td><td>158</td><td>3</td><td>14</td></tr>\n",
       "\t<tr><td>present</td><td>128</td><td>4</td><td> 5</td></tr>\n",
       "\t<tr><td>absent </td><td>  2</td><td>5</td><td> 1</td></tr>\n",
       "\t<tr><td>absent </td><td>  1</td><td>4</td><td>15</td></tr>\n",
       "\t<tr><td>absent </td><td>  1</td><td>2</td><td>16</td></tr>\n",
       "</tbody>\n",
       "</table>\n"
      ],
      "text/latex": [
       "A data.frame: 6 × 4\n",
       "\\begin{tabular}{r|llll}\n",
       " Kyphosis & Age & Number & Start\\\\\n",
       " <fct> & <int> & <int> & <int>\\\\\n",
       "\\hline\n",
       "\t absent  &  71 & 3 &  5\\\\\n",
       "\t absent  & 158 & 3 & 14\\\\\n",
       "\t present & 128 & 4 &  5\\\\\n",
       "\t absent  &   2 & 5 &  1\\\\\n",
       "\t absent  &   1 & 4 & 15\\\\\n",
       "\t absent  &   1 & 2 & 16\\\\\n",
       "\\end{tabular}\n"
      ],
      "text/markdown": [
       "\n",
       "A data.frame: 6 × 4\n",
       "\n",
       "| Kyphosis &lt;fct&gt; | Age &lt;int&gt; | Number &lt;int&gt; | Start &lt;int&gt; |\n",
       "|---|---|---|---|\n",
       "| absent  |  71 | 3 |  5 |\n",
       "| absent  | 158 | 3 | 14 |\n",
       "| present | 128 | 4 |  5 |\n",
       "| absent  |   2 | 5 |  1 |\n",
       "| absent  |   1 | 4 | 15 |\n",
       "| absent  |   1 | 2 | 16 |\n",
       "\n"
      ],
      "text/plain": [
       "  Kyphosis Age Number Start\n",
       "1 absent    71 3       5   \n",
       "2 absent   158 3      14   \n",
       "3 present  128 4       5   \n",
       "4 absent     2 5       1   \n",
       "5 absent     1 4      15   \n",
       "6 absent     1 2      16   "
      ]
     },
     "metadata": {},
     "output_type": "display_data"
    }
   ],
   "source": [
    "head(kyphosis)"
   ]
  },
  {
   "cell_type": "code",
   "execution_count": 129,
   "metadata": {},
   "outputs": [],
   "source": [
    "tree <- rpart(Kyphosis ~ . , method='class', data= kyphosis)"
   ]
  },
  {
   "cell_type": "markdown",
   "metadata": {},
   "source": [
    "Examining Results of the Tree Model\n",
    "There are lots of functions you can use to examine your tree model:\n",
    "\n",
    "**printcp(fit)** > display cp table\n",
    "<br>**plotcp(fit)**\t> plot cross-validation results\n",
    "<br>**rsq.rpart(fit)** > plot approximate R-squared and relative error for different splits (2 plots). labels are only appropriate for the \"anova\" method.\n",
    "<br>**print(fit)** > print results\n",
    "<br>**summary(fit)** > detailed results including surrogate splits\n",
    "<br>**plot(fit)** > plot decision tree\n",
    "<br>**text(fit)** > label the decision tree plot\n",
    "<br>**post(fit, file=)** > create postscript plot of decision tree\n",
    "\n",
    "Let's see a few of them:"
   ]
  },
  {
   "cell_type": "code",
   "execution_count": 130,
   "metadata": {},
   "outputs": [
    {
     "name": "stdout",
     "output_type": "stream",
     "text": [
      "\n",
      "Classification tree:\n",
      "rpart(formula = Kyphosis ~ ., data = kyphosis, method = \"class\")\n",
      "\n",
      "Variables actually used in tree construction:\n",
      "[1] Age   Start\n",
      "\n",
      "Root node error: 17/81 = 0.20988\n",
      "\n",
      "n= 81 \n",
      "\n",
      "        CP nsplit rel error  xerror    xstd\n",
      "1 0.176471      0   1.00000 1.00000 0.21559\n",
      "2 0.019608      1   0.82353 0.94118 0.21078\n",
      "3 0.010000      4   0.76471 1.00000 0.21559\n"
     ]
    }
   ],
   "source": [
    "printcp(tree)"
   ]
  },
  {
   "cell_type": "markdown",
   "metadata": {},
   "source": [
    "## Tree Visualization\n",
    "There are some built-in visualization capabilities from the table above, but they aren't very good looking:"
   ]
  },
  {
   "cell_type": "code",
   "execution_count": 131,
   "metadata": {},
   "outputs": [
    {
     "data": {
      "image/png": "[encoded data removed]",
      "text/plain": [
       "Plot with title \"Main Title\""
      ]
     },
     "metadata": {},
     "output_type": "display_data"
    }
   ],
   "source": [
    "plot(tree, uniform=TRUE, main=\"Main Title\")\n",
    "text(tree, use.n=TRUE, all=TRUE)"
   ]
  },
  {
   "cell_type": "markdown",
   "metadata": {},
   "source": [
    "The rpart.plot library package makes these visualizations much better."
   ]
  },
  {
   "cell_type": "code",
   "execution_count": 132,
   "metadata": {},
   "outputs": [
    {
     "name": "stdout",
     "output_type": "stream",
     "text": [
      "package 'rpart.plot' successfully unpacked and MD5 sums checked\n",
      "\n",
      "The downloaded binary packages are in\n",
      "\tC:\\Users\\jcdunne\\AppData\\Local\\Temp\\Rtmpe6sjY2\\downloaded_packages\n"
     ]
    }
   ],
   "source": [
    "install.packages('rpart.plot')\n",
    "library(rpart.plot)"
   ]
  },
  {
   "cell_type": "code",
   "execution_count": 133,
   "metadata": {},
   "outputs": [
    {
     "data": {
      "image/png": "[encoded data removed]",
      "text/plain": [
       "plot without title"
      ]
     },
     "metadata": {},
     "output_type": "display_data"
    }
   ],
   "source": [
    "prp(tree)"
   ]
  },
  {
   "cell_type": "markdown",
   "metadata": {},
   "source": [
    "## Random Forests\n",
    "Random forests improve predictive accuracy by generating a large number of bootstrapped trees (based on random samples of variables), classifying a case using each tree in this new \"forest\", and deciding a final predicted outcome by combining the results across all of the trees (an average in regression, a majority vote in classification).\n",
    "\n",
    "We can use the randomForest library to create and build out a Random Forest:"
   ]
  },
  {
   "cell_type": "code",
   "execution_count": 135,
   "metadata": {},
   "outputs": [
    {
     "name": "stderr",
     "output_type": "stream",
     "text": [
      "Warning message:\n",
      "\"package 'randomForest' is in use and will not be installed\""
     ]
    }
   ],
   "source": [
    "# Random Forest prediction of Kyphosis data\n",
    "install.packages('randomForest')\n",
    "library(randomForest)"
   ]
  },
  {
   "cell_type": "code",
   "execution_count": 136,
   "metadata": {},
   "outputs": [],
   "source": [
    "model <- randomForest(Kyphosis ~ .,   data=kyphosis)"
   ]
  },
  {
   "cell_type": "code",
   "execution_count": 137,
   "metadata": {},
   "outputs": [
    {
     "name": "stdout",
     "output_type": "stream",
     "text": [
      "\n",
      "Call:\n",
      " randomForest(formula = Kyphosis ~ ., data = kyphosis) \n",
      "               Type of random forest: classification\n",
      "                     Number of trees: 500\n",
      "No. of variables tried at each split: 1\n",
      "\n",
      "        OOB estimate of  error rate: 19.75%\n",
      "Confusion matrix:\n",
      "        absent present class.error\n",
      "absent      60       4   0.0625000\n",
      "present     12       5   0.7058824\n"
     ]
    }
   ],
   "source": [
    "print(model) # view results"
   ]
  },
  {
   "cell_type": "code",
   "execution_count": 138,
   "metadata": {},
   "outputs": [
    {
     "data": {
      "text/html": [
       "<table>\n",
       "<caption>A matrix: 3 × 1 of type dbl</caption>\n",
       "<thead>\n",
       "\t<tr><th></th><th scope=col>MeanDecreaseGini</th></tr>\n",
       "</thead>\n",
       "<tbody>\n",
       "\t<tr><th scope=row>Age</th><td> 8.549515</td></tr>\n",
       "\t<tr><th scope=row>Number</th><td> 5.384647</td></tr>\n",
       "\t<tr><th scope=row>Start</th><td>10.244527</td></tr>\n",
       "</tbody>\n",
       "</table>\n"
      ],
      "text/latex": [
       "A matrix: 3 × 1 of type dbl\n",
       "\\begin{tabular}{r|l}\n",
       "  & MeanDecreaseGini\\\\\n",
       "\\hline\n",
       "\tAge &  8.549515\\\\\n",
       "\tNumber &  5.384647\\\\\n",
       "\tStart & 10.244527\\\\\n",
       "\\end{tabular}\n"
      ],
      "text/markdown": [
       "\n",
       "A matrix: 3 × 1 of type dbl\n",
       "\n",
       "| <!--/--> | MeanDecreaseGini |\n",
       "|---|---|\n",
       "| Age |  8.549515 |\n",
       "| Number |  5.384647 |\n",
       "| Start | 10.244527 |\n",
       "\n"
      ],
      "text/plain": [
       "       MeanDecreaseGini\n",
       "Age     8.549515       \n",
       "Number  5.384647       \n",
       "Start  10.244527       "
      ]
     },
     "metadata": {},
     "output_type": "display_data"
    }
   ],
   "source": [
    "importance(model) # importance of each predictor"
   ]
  },
  {
   "cell_type": "markdown",
   "metadata": {},
   "source": [
    "## Conclusion\n",
    "You should be beginning to feel very comfortable with the syntax for training a model on data. The key is to just understand the background of the algorithm being used and know what library to install and use for the specific algorithm being used."
   ]
  },
  {
   "cell_type": "markdown",
   "metadata": {},
   "source": [
    "# <font color='red'>Neural Networks</font>\n",
    "\n",
    "## The Data\n",
    "We will use the popular Boston dataset from the MASS package, which describes some features for houses in Boston in 1978.\n",
    "\n",
    "CRIM - per capita crime rate by town\n",
    "<br>ZN - proportion of residential land zoned for lots over 25,000 sq.ft.\n",
    "<br>INDUS - proportion of non-retail business acres per town.\n",
    "<br>CHAS - Charles River dummy variable (1 if tract bounds river; 0 otherwise)\n",
    "<br>NOX - nitric oxides concentration (parts per 10 million)\n",
    "<br>RM - average number of rooms per dwelling\n",
    "<br>AGE - proportion of owner-occupied units built prior to 1940\n",
    "<br>DIS - weighted distances to five Boston employment centres\n",
    "<br>RAD - index of accessibility to radial highways\n",
    "<br>TAX - full-value property-tax rate per 10,000 dollars\n",
    "<br>PTRATIO - pupil-teacher ratio by town\n",
    "<br>B - 1000(Bk - 0.63)^2 where Bk is the proportion of blacks by town\n",
    "<br>LSTAT - % lower status of the population\n",
    "<br>MEDV - Median value of owner-occupied homes in $1000's\n",
    "\n",
    "We will be trying to predict the Median Value MEDV"
   ]
  },
  {
   "cell_type": "code",
   "execution_count": 139,
   "metadata": {},
   "outputs": [
    {
     "name": "stderr",
     "output_type": "stream",
     "text": [
      "\n",
      "Attaching package: 'MASS'\n",
      "\n",
      "The following object is masked from 'package:dplyr':\n",
      "\n",
      "    select\n",
      "\n"
     ]
    }
   ],
   "source": [
    "library(MASS)"
   ]
  },
  {
   "cell_type": "code",
   "execution_count": 140,
   "metadata": {},
   "outputs": [],
   "source": [
    "set.seed(101)\n",
    "data <- Boston"
   ]
  },
  {
   "cell_type": "code",
   "execution_count": 141,
   "metadata": {},
   "outputs": [
    {
     "name": "stdout",
     "output_type": "stream",
     "text": [
      "'data.frame':\t506 obs. of  14 variables:\n",
      " $ crim   : num  0.00632 0.02731 0.02729 0.03237 0.06905 ...\n",
      " $ zn     : num  18 0 0 0 0 0 12.5 12.5 12.5 12.5 ...\n",
      " $ indus  : num  2.31 7.07 7.07 2.18 2.18 2.18 7.87 7.87 7.87 7.87 ...\n",
      " $ chas   : int  0 0 0 0 0 0 0 0 0 0 ...\n",
      " $ nox    : num  0.538 0.469 0.469 0.458 0.458 0.458 0.524 0.524 0.524 0.524 ...\n",
      " $ rm     : num  6.58 6.42 7.18 7 7.15 ...\n",
      " $ age    : num  65.2 78.9 61.1 45.8 54.2 58.7 66.6 96.1 100 85.9 ...\n",
      " $ dis    : num  4.09 4.97 4.97 6.06 6.06 ...\n",
      " $ rad    : int  1 2 2 3 3 3 5 5 5 5 ...\n",
      " $ tax    : num  296 242 242 222 222 222 311 311 311 311 ...\n",
      " $ ptratio: num  15.3 17.8 17.8 18.7 18.7 18.7 15.2 15.2 15.2 15.2 ...\n",
      " $ black  : num  397 397 393 395 397 ...\n",
      " $ lstat  : num  4.98 9.14 4.03 2.94 5.33 ...\n",
      " $ medv   : num  24 21.6 34.7 33.4 36.2 28.7 22.9 27.1 16.5 18.9 ...\n"
     ]
    }
   ],
   "source": [
    "str(data)"
   ]
  },
  {
   "cell_type": "code",
   "execution_count": 142,
   "metadata": {},
   "outputs": [
    {
     "data": {
      "text/plain": [
       "      crim                zn             indus            chas        \n",
       " Min.   : 0.00632   Min.   :  0.00   Min.   : 0.46   Min.   :0.00000  \n",
       " 1st Qu.: 0.08204   1st Qu.:  0.00   1st Qu.: 5.19   1st Qu.:0.00000  \n",
       " Median : 0.25651   Median :  0.00   Median : 9.69   Median :0.00000  \n",
       " Mean   : 3.61352   Mean   : 11.36   Mean   :11.14   Mean   :0.06917  \n",
       " 3rd Qu.: 3.67708   3rd Qu.: 12.50   3rd Qu.:18.10   3rd Qu.:0.00000  \n",
       " Max.   :88.97620   Max.   :100.00   Max.   :27.74   Max.   :1.00000  \n",
       "      nox               rm             age              dis        \n",
       " Min.   :0.3850   Min.   :3.561   Min.   :  2.90   Min.   : 1.130  \n",
       " 1st Qu.:0.4490   1st Qu.:5.886   1st Qu.: 45.02   1st Qu.: 2.100  \n",
       " Median :0.5380   Median :6.208   Median : 77.50   Median : 3.207  \n",
       " Mean   :0.5547   Mean   :6.285   Mean   : 68.57   Mean   : 3.795  \n",
       " 3rd Qu.:0.6240   3rd Qu.:6.623   3rd Qu.: 94.08   3rd Qu.: 5.188  \n",
       " Max.   :0.8710   Max.   :8.780   Max.   :100.00   Max.   :12.127  \n",
       "      rad              tax           ptratio          black       \n",
       " Min.   : 1.000   Min.   :187.0   Min.   :12.60   Min.   :  0.32  \n",
       " 1st Qu.: 4.000   1st Qu.:279.0   1st Qu.:17.40   1st Qu.:375.38  \n",
       " Median : 5.000   Median :330.0   Median :19.05   Median :391.44  \n",
       " Mean   : 9.549   Mean   :408.2   Mean   :18.46   Mean   :356.67  \n",
       " 3rd Qu.:24.000   3rd Qu.:666.0   3rd Qu.:20.20   3rd Qu.:396.23  \n",
       " Max.   :24.000   Max.   :711.0   Max.   :22.00   Max.   :396.90  \n",
       "     lstat            medv      \n",
       " Min.   : 1.73   Min.   : 5.00  \n",
       " 1st Qu.: 6.95   1st Qu.:17.02  \n",
       " Median :11.36   Median :21.20  \n",
       " Mean   :12.65   Mean   :22.53  \n",
       " 3rd Qu.:16.95   3rd Qu.:25.00  \n",
       " Max.   :37.97   Max.   :50.00  "
      ]
     },
     "metadata": {},
     "output_type": "display_data"
    }
   ],
   "source": [
    "summary(data)"
   ]
  },
  {
   "cell_type": "code",
   "execution_count": 143,
   "metadata": {},
   "outputs": [
    {
     "data": {
      "text/html": [
       "<table>\n",
       "<caption>A data.frame: 6 × 14</caption>\n",
       "<thead>\n",
       "\t<tr><th scope=col>crim</th><th scope=col>zn</th><th scope=col>indus</th><th scope=col>chas</th><th scope=col>nox</th><th scope=col>rm</th><th scope=col>age</th><th scope=col>dis</th><th scope=col>rad</th><th scope=col>tax</th><th scope=col>ptratio</th><th scope=col>black</th><th scope=col>lstat</th><th scope=col>medv</th></tr>\n",
       "\t<tr><th scope=col>&lt;dbl&gt;</th><th scope=col>&lt;dbl&gt;</th><th scope=col>&lt;dbl&gt;</th><th scope=col>&lt;int&gt;</th><th scope=col>&lt;dbl&gt;</th><th scope=col>&lt;dbl&gt;</th><th scope=col>&lt;dbl&gt;</th><th scope=col>&lt;dbl&gt;</th><th scope=col>&lt;int&gt;</th><th scope=col>&lt;dbl&gt;</th><th scope=col>&lt;dbl&gt;</th><th scope=col>&lt;dbl&gt;</th><th scope=col>&lt;dbl&gt;</th><th scope=col>&lt;dbl&gt;</th></tr>\n",
       "</thead>\n",
       "<tbody>\n",
       "\t<tr><td>0.00632</td><td>18</td><td>2.31</td><td>0</td><td>0.538</td><td>6.575</td><td>65.2</td><td>4.0900</td><td>1</td><td>296</td><td>15.3</td><td>396.90</td><td>4.98</td><td>24.0</td></tr>\n",
       "\t<tr><td>0.02731</td><td> 0</td><td>7.07</td><td>0</td><td>0.469</td><td>6.421</td><td>78.9</td><td>4.9671</td><td>2</td><td>242</td><td>17.8</td><td>396.90</td><td>9.14</td><td>21.6</td></tr>\n",
       "\t<tr><td>0.02729</td><td> 0</td><td>7.07</td><td>0</td><td>0.469</td><td>7.185</td><td>61.1</td><td>4.9671</td><td>2</td><td>242</td><td>17.8</td><td>392.83</td><td>4.03</td><td>34.7</td></tr>\n",
       "\t<tr><td>0.03237</td><td> 0</td><td>2.18</td><td>0</td><td>0.458</td><td>6.998</td><td>45.8</td><td>6.0622</td><td>3</td><td>222</td><td>18.7</td><td>394.63</td><td>2.94</td><td>33.4</td></tr>\n",
       "\t<tr><td>0.06905</td><td> 0</td><td>2.18</td><td>0</td><td>0.458</td><td>7.147</td><td>54.2</td><td>6.0622</td><td>3</td><td>222</td><td>18.7</td><td>396.90</td><td>5.33</td><td>36.2</td></tr>\n",
       "\t<tr><td>0.02985</td><td> 0</td><td>2.18</td><td>0</td><td>0.458</td><td>6.430</td><td>58.7</td><td>6.0622</td><td>3</td><td>222</td><td>18.7</td><td>394.12</td><td>5.21</td><td>28.7</td></tr>\n",
       "</tbody>\n",
       "</table>\n"
      ],
      "text/latex": [
       "A data.frame: 6 × 14\n",
       "\\begin{tabular}{r|llllllllllllll}\n",
       " crim & zn & indus & chas & nox & rm & age & dis & rad & tax & ptratio & black & lstat & medv\\\\\n",
       " <dbl> & <dbl> & <dbl> & <int> & <dbl> & <dbl> & <dbl> & <dbl> & <int> & <dbl> & <dbl> & <dbl> & <dbl> & <dbl>\\\\\n",
       "\\hline\n",
       "\t 0.00632 & 18 & 2.31 & 0 & 0.538 & 6.575 & 65.2 & 4.0900 & 1 & 296 & 15.3 & 396.90 & 4.98 & 24.0\\\\\n",
       "\t 0.02731 &  0 & 7.07 & 0 & 0.469 & 6.421 & 78.9 & 4.9671 & 2 & 242 & 17.8 & 396.90 & 9.14 & 21.6\\\\\n",
       "\t 0.02729 &  0 & 7.07 & 0 & 0.469 & 7.185 & 61.1 & 4.9671 & 2 & 242 & 17.8 & 392.83 & 4.03 & 34.7\\\\\n",
       "\t 0.03237 &  0 & 2.18 & 0 & 0.458 & 6.998 & 45.8 & 6.0622 & 3 & 222 & 18.7 & 394.63 & 2.94 & 33.4\\\\\n",
       "\t 0.06905 &  0 & 2.18 & 0 & 0.458 & 7.147 & 54.2 & 6.0622 & 3 & 222 & 18.7 & 396.90 & 5.33 & 36.2\\\\\n",
       "\t 0.02985 &  0 & 2.18 & 0 & 0.458 & 6.430 & 58.7 & 6.0622 & 3 & 222 & 18.7 & 394.12 & 5.21 & 28.7\\\\\n",
       "\\end{tabular}\n"
      ],
      "text/markdown": [
       "\n",
       "A data.frame: 6 × 14\n",
       "\n",
       "| crim &lt;dbl&gt; | zn &lt;dbl&gt; | indus &lt;dbl&gt; | chas &lt;int&gt; | nox &lt;dbl&gt; | rm &lt;dbl&gt; | age &lt;dbl&gt; | dis &lt;dbl&gt; | rad &lt;int&gt; | tax &lt;dbl&gt; | ptratio &lt;dbl&gt; | black &lt;dbl&gt; | lstat &lt;dbl&gt; | medv &lt;dbl&gt; |\n",
       "|---|---|---|---|---|---|---|---|---|---|---|---|---|---|\n",
       "| 0.00632 | 18 | 2.31 | 0 | 0.538 | 6.575 | 65.2 | 4.0900 | 1 | 296 | 15.3 | 396.90 | 4.98 | 24.0 |\n",
       "| 0.02731 |  0 | 7.07 | 0 | 0.469 | 6.421 | 78.9 | 4.9671 | 2 | 242 | 17.8 | 396.90 | 9.14 | 21.6 |\n",
       "| 0.02729 |  0 | 7.07 | 0 | 0.469 | 7.185 | 61.1 | 4.9671 | 2 | 242 | 17.8 | 392.83 | 4.03 | 34.7 |\n",
       "| 0.03237 |  0 | 2.18 | 0 | 0.458 | 6.998 | 45.8 | 6.0622 | 3 | 222 | 18.7 | 394.63 | 2.94 | 33.4 |\n",
       "| 0.06905 |  0 | 2.18 | 0 | 0.458 | 7.147 | 54.2 | 6.0622 | 3 | 222 | 18.7 | 396.90 | 5.33 | 36.2 |\n",
       "| 0.02985 |  0 | 2.18 | 0 | 0.458 | 6.430 | 58.7 | 6.0622 | 3 | 222 | 18.7 | 394.12 | 5.21 | 28.7 |\n",
       "\n"
      ],
      "text/plain": [
       "  crim    zn indus chas nox   rm    age  dis    rad tax ptratio black  lstat\n",
       "1 0.00632 18 2.31  0    0.538 6.575 65.2 4.0900 1   296 15.3    396.90 4.98 \n",
       "2 0.02731  0 7.07  0    0.469 6.421 78.9 4.9671 2   242 17.8    396.90 9.14 \n",
       "3 0.02729  0 7.07  0    0.469 7.185 61.1 4.9671 2   242 17.8    392.83 4.03 \n",
       "4 0.03237  0 2.18  0    0.458 6.998 45.8 6.0622 3   222 18.7    394.63 2.94 \n",
       "5 0.06905  0 2.18  0    0.458 7.147 54.2 6.0622 3   222 18.7    396.90 5.33 \n",
       "6 0.02985  0 2.18  0    0.458 6.430 58.7 6.0622 3   222 18.7    394.12 5.21 \n",
       "  medv\n",
       "1 24.0\n",
       "2 21.6\n",
       "3 34.7\n",
       "4 33.4\n",
       "5 36.2\n",
       "6 28.7"
      ]
     },
     "metadata": {},
     "output_type": "display_data"
    }
   ],
   "source": [
    "head(data)"
   ]
  },
  {
   "cell_type": "code",
   "execution_count": 144,
   "metadata": {},
   "outputs": [
    {
     "data": {
      "text/html": [
       "FALSE"
      ],
      "text/latex": [
       "FALSE"
      ],
      "text/markdown": [
       "FALSE"
      ],
      "text/plain": [
       "[1] FALSE"
      ]
     },
     "metadata": {},
     "output_type": "display_data"
    }
   ],
   "source": [
    "any(is.na(data))"
   ]
  },
  {
   "cell_type": "markdown",
   "metadata": {},
   "source": [
    "## Neural Network Model\n",
    "First you'll need to install the neural net library:"
   ]
  },
  {
   "cell_type": "code",
   "execution_count": 145,
   "metadata": {},
   "outputs": [
    {
     "name": "stdout",
     "output_type": "stream",
     "text": [
      "package 'neuralnet' successfully unpacked and MD5 sums checked\n",
      "\n",
      "The downloaded binary packages are in\n",
      "\tC:\\Users\\jcdunne\\AppData\\Local\\Temp\\Rtmpe6sjY2\\downloaded_packages\n"
     ]
    },
    {
     "name": "stderr",
     "output_type": "stream",
     "text": [
      "\n",
      "Attaching package: 'neuralnet'\n",
      "\n",
      "The following object is masked from 'package:dplyr':\n",
      "\n",
      "    compute\n",
      "\n"
     ]
    }
   ],
   "source": [
    "install.packages('neuralnet',repos = 'http://cran.us.r-project.org')\n",
    "library(neuralnet)"
   ]
  },
  {
   "cell_type": "markdown",
   "metadata": {},
   "source": [
    "## Training the Model\n",
    "As a first step, we are going to address data preprocessing. It is good practice to normalize your data before training a neural network. Depending on your dataset, avoiding normalization may lead to useless results or to a very difficult training process (most of the times the algorithm will not converge before the number of maximum iterations allowed). You can choose different methods to scale the data (z-normalization, min-max scale, etc…). Usually scaling in the intervals [0,1] or [-1,1] tends to give better results. We therefore scale and split the data before moving on:"
   ]
  },
  {
   "cell_type": "code",
   "execution_count": 146,
   "metadata": {},
   "outputs": [],
   "source": [
    "maxs <- apply(data, 2, max) \n",
    "mins <- apply(data, 2, min)"
   ]
  },
  {
   "cell_type": "code",
   "execution_count": 147,
   "metadata": {},
   "outputs": [
    {
     "data": {
      "text/html": [
       "<dl class=dl-horizontal>\n",
       "\t<dt>crim</dt>\n",
       "\t\t<dd>88.9762</dd>\n",
       "\t<dt>zn</dt>\n",
       "\t\t<dd>100</dd>\n",
       "\t<dt>indus</dt>\n",
       "\t\t<dd>27.74</dd>\n",
       "\t<dt>chas</dt>\n",
       "\t\t<dd>1</dd>\n",
       "\t<dt>nox</dt>\n",
       "\t\t<dd>0.871</dd>\n",
       "\t<dt>rm</dt>\n",
       "\t\t<dd>8.78</dd>\n",
       "\t<dt>age</dt>\n",
       "\t\t<dd>100</dd>\n",
       "\t<dt>dis</dt>\n",
       "\t\t<dd>12.1265</dd>\n",
       "\t<dt>rad</dt>\n",
       "\t\t<dd>24</dd>\n",
       "\t<dt>tax</dt>\n",
       "\t\t<dd>711</dd>\n",
       "\t<dt>ptratio</dt>\n",
       "\t\t<dd>22</dd>\n",
       "\t<dt>black</dt>\n",
       "\t\t<dd>396.9</dd>\n",
       "\t<dt>lstat</dt>\n",
       "\t\t<dd>37.97</dd>\n",
       "\t<dt>medv</dt>\n",
       "\t\t<dd>50</dd>\n",
       "</dl>\n"
      ],
      "text/latex": [
       "\\begin{description*}\n",
       "\\item[crim] 88.9762\n",
       "\\item[zn] 100\n",
       "\\item[indus] 27.74\n",
       "\\item[chas] 1\n",
       "\\item[nox] 0.871\n",
       "\\item[rm] 8.78\n",
       "\\item[age] 100\n",
       "\\item[dis] 12.1265\n",
       "\\item[rad] 24\n",
       "\\item[tax] 711\n",
       "\\item[ptratio] 22\n",
       "\\item[black] 396.9\n",
       "\\item[lstat] 37.97\n",
       "\\item[medv] 50\n",
       "\\end{description*}\n"
      ],
      "text/markdown": [
       "crim\n",
       ":   88.9762zn\n",
       ":   100indus\n",
       ":   27.74chas\n",
       ":   1nox\n",
       ":   0.871rm\n",
       ":   8.78age\n",
       ":   100dis\n",
       ":   12.1265rad\n",
       ":   24tax\n",
       ":   711ptratio\n",
       ":   22black\n",
       ":   396.9lstat\n",
       ":   37.97medv\n",
       ":   50\n",
       "\n"
      ],
      "text/plain": [
       "    crim       zn    indus     chas      nox       rm      age      dis \n",
       " 88.9762 100.0000  27.7400   1.0000   0.8710   8.7800 100.0000  12.1265 \n",
       "     rad      tax  ptratio    black    lstat     medv \n",
       " 24.0000 711.0000  22.0000 396.9000  37.9700  50.0000 "
      ]
     },
     "metadata": {},
     "output_type": "display_data"
    }
   ],
   "source": [
    "maxs"
   ]
  },
  {
   "cell_type": "code",
   "execution_count": 148,
   "metadata": {},
   "outputs": [
    {
     "data": {
      "text/html": [
       "<dl class=dl-horizontal>\n",
       "\t<dt>crim</dt>\n",
       "\t\t<dd>0.00632</dd>\n",
       "\t<dt>zn</dt>\n",
       "\t\t<dd>0</dd>\n",
       "\t<dt>indus</dt>\n",
       "\t\t<dd>0.46</dd>\n",
       "\t<dt>chas</dt>\n",
       "\t\t<dd>0</dd>\n",
       "\t<dt>nox</dt>\n",
       "\t\t<dd>0.385</dd>\n",
       "\t<dt>rm</dt>\n",
       "\t\t<dd>3.561</dd>\n",
       "\t<dt>age</dt>\n",
       "\t\t<dd>2.9</dd>\n",
       "\t<dt>dis</dt>\n",
       "\t\t<dd>1.1296</dd>\n",
       "\t<dt>rad</dt>\n",
       "\t\t<dd>1</dd>\n",
       "\t<dt>tax</dt>\n",
       "\t\t<dd>187</dd>\n",
       "\t<dt>ptratio</dt>\n",
       "\t\t<dd>12.6</dd>\n",
       "\t<dt>black</dt>\n",
       "\t\t<dd>0.32</dd>\n",
       "\t<dt>lstat</dt>\n",
       "\t\t<dd>1.73</dd>\n",
       "\t<dt>medv</dt>\n",
       "\t\t<dd>5</dd>\n",
       "</dl>\n"
      ],
      "text/latex": [
       "\\begin{description*}\n",
       "\\item[crim] 0.00632\n",
       "\\item[zn] 0\n",
       "\\item[indus] 0.46\n",
       "\\item[chas] 0\n",
       "\\item[nox] 0.385\n",
       "\\item[rm] 3.561\n",
       "\\item[age] 2.9\n",
       "\\item[dis] 1.1296\n",
       "\\item[rad] 1\n",
       "\\item[tax] 187\n",
       "\\item[ptratio] 12.6\n",
       "\\item[black] 0.32\n",
       "\\item[lstat] 1.73\n",
       "\\item[medv] 5\n",
       "\\end{description*}\n"
      ],
      "text/markdown": [
       "crim\n",
       ":   0.00632zn\n",
       ":   0indus\n",
       ":   0.46chas\n",
       ":   0nox\n",
       ":   0.385rm\n",
       ":   3.561age\n",
       ":   2.9dis\n",
       ":   1.1296rad\n",
       ":   1tax\n",
       ":   187ptratio\n",
       ":   12.6black\n",
       ":   0.32lstat\n",
       ":   1.73medv\n",
       ":   5\n",
       "\n"
      ],
      "text/plain": [
       "     crim        zn     indus      chas       nox        rm       age       dis \n",
       "  0.00632   0.00000   0.46000   0.00000   0.38500   3.56100   2.90000   1.12960 \n",
       "      rad       tax   ptratio     black     lstat      medv \n",
       "  1.00000 187.00000  12.60000   0.32000   1.73000   5.00000 "
      ]
     },
     "metadata": {},
     "output_type": "display_data"
    }
   ],
   "source": [
    "mins"
   ]
  },
  {
   "cell_type": "code",
   "execution_count": 149,
   "metadata": {},
   "outputs": [],
   "source": [
    "scaled <- as.data.frame(scale(data, center = mins, scale = maxs - mins))"
   ]
  },
  {
   "cell_type": "code",
   "execution_count": 150,
   "metadata": {},
   "outputs": [
    {
     "data": {
      "text/html": [
       "<table>\n",
       "<caption>A data.frame: 6 × 14</caption>\n",
       "<thead>\n",
       "\t<tr><th scope=col>crim</th><th scope=col>zn</th><th scope=col>indus</th><th scope=col>chas</th><th scope=col>nox</th><th scope=col>rm</th><th scope=col>age</th><th scope=col>dis</th><th scope=col>rad</th><th scope=col>tax</th><th scope=col>ptratio</th><th scope=col>black</th><th scope=col>lstat</th><th scope=col>medv</th></tr>\n",
       "\t<tr><th scope=col>&lt;dbl&gt;</th><th scope=col>&lt;dbl&gt;</th><th scope=col>&lt;dbl&gt;</th><th scope=col>&lt;dbl&gt;</th><th scope=col>&lt;dbl&gt;</th><th scope=col>&lt;dbl&gt;</th><th scope=col>&lt;dbl&gt;</th><th scope=col>&lt;dbl&gt;</th><th scope=col>&lt;dbl&gt;</th><th scope=col>&lt;dbl&gt;</th><th scope=col>&lt;dbl&gt;</th><th scope=col>&lt;dbl&gt;</th><th scope=col>&lt;dbl&gt;</th><th scope=col>&lt;dbl&gt;</th></tr>\n",
       "</thead>\n",
       "<tbody>\n",
       "\t<tr><td>0.0000000000</td><td>0.18</td><td>0.06781525</td><td>0</td><td>0.3148148</td><td>0.5775053</td><td>0.6416066</td><td>0.2692031</td><td>0.00000000</td><td>0.20801527</td><td>0.2872340</td><td>1.0000000</td><td>0.08967991</td><td>0.4222222</td></tr>\n",
       "\t<tr><td>0.0002359225</td><td>0.00</td><td>0.24230205</td><td>0</td><td>0.1728395</td><td>0.5479977</td><td>0.7826982</td><td>0.3489620</td><td>0.04347826</td><td>0.10496183</td><td>0.5531915</td><td>1.0000000</td><td>0.20447020</td><td>0.3688889</td></tr>\n",
       "\t<tr><td>0.0002356977</td><td>0.00</td><td>0.24230205</td><td>0</td><td>0.1728395</td><td>0.6943859</td><td>0.5993821</td><td>0.3489620</td><td>0.04347826</td><td>0.10496183</td><td>0.5531915</td><td>0.9897373</td><td>0.06346578</td><td>0.6600000</td></tr>\n",
       "\t<tr><td>0.0002927957</td><td>0.00</td><td>0.06304985</td><td>0</td><td>0.1502058</td><td>0.6585553</td><td>0.4418126</td><td>0.4485446</td><td>0.08695652</td><td>0.06679389</td><td>0.6489362</td><td>0.9942761</td><td>0.03338852</td><td>0.6311111</td></tr>\n",
       "\t<tr><td>0.0007050701</td><td>0.00</td><td>0.06304985</td><td>0</td><td>0.1502058</td><td>0.6871048</td><td>0.5283213</td><td>0.4485446</td><td>0.08695652</td><td>0.06679389</td><td>0.6489362</td><td>1.0000000</td><td>0.09933775</td><td>0.6933333</td></tr>\n",
       "\t<tr><td>0.0002644715</td><td>0.00</td><td>0.06304985</td><td>0</td><td>0.1502058</td><td>0.5497222</td><td>0.5746653</td><td>0.4485446</td><td>0.08695652</td><td>0.06679389</td><td>0.6489362</td><td>0.9929901</td><td>0.09602649</td><td>0.5266667</td></tr>\n",
       "</tbody>\n",
       "</table>\n"
      ],
      "text/latex": [
       "A data.frame: 6 × 14\n",
       "\\begin{tabular}{r|llllllllllllll}\n",
       " crim & zn & indus & chas & nox & rm & age & dis & rad & tax & ptratio & black & lstat & medv\\\\\n",
       " <dbl> & <dbl> & <dbl> & <dbl> & <dbl> & <dbl> & <dbl> & <dbl> & <dbl> & <dbl> & <dbl> & <dbl> & <dbl> & <dbl>\\\\\n",
       "\\hline\n",
       "\t 0.0000000000 & 0.18 & 0.06781525 & 0 & 0.3148148 & 0.5775053 & 0.6416066 & 0.2692031 & 0.00000000 & 0.20801527 & 0.2872340 & 1.0000000 & 0.08967991 & 0.4222222\\\\\n",
       "\t 0.0002359225 & 0.00 & 0.24230205 & 0 & 0.1728395 & 0.5479977 & 0.7826982 & 0.3489620 & 0.04347826 & 0.10496183 & 0.5531915 & 1.0000000 & 0.20447020 & 0.3688889\\\\\n",
       "\t 0.0002356977 & 0.00 & 0.24230205 & 0 & 0.1728395 & 0.6943859 & 0.5993821 & 0.3489620 & 0.04347826 & 0.10496183 & 0.5531915 & 0.9897373 & 0.06346578 & 0.6600000\\\\\n",
       "\t 0.0002927957 & 0.00 & 0.06304985 & 0 & 0.1502058 & 0.6585553 & 0.4418126 & 0.4485446 & 0.08695652 & 0.06679389 & 0.6489362 & 0.9942761 & 0.03338852 & 0.6311111\\\\\n",
       "\t 0.0007050701 & 0.00 & 0.06304985 & 0 & 0.1502058 & 0.6871048 & 0.5283213 & 0.4485446 & 0.08695652 & 0.06679389 & 0.6489362 & 1.0000000 & 0.09933775 & 0.6933333\\\\\n",
       "\t 0.0002644715 & 0.00 & 0.06304985 & 0 & 0.1502058 & 0.5497222 & 0.5746653 & 0.4485446 & 0.08695652 & 0.06679389 & 0.6489362 & 0.9929901 & 0.09602649 & 0.5266667\\\\\n",
       "\\end{tabular}\n"
      ],
      "text/markdown": [
       "\n",
       "A data.frame: 6 × 14\n",
       "\n",
       "| crim &lt;dbl&gt; | zn &lt;dbl&gt; | indus &lt;dbl&gt; | chas &lt;dbl&gt; | nox &lt;dbl&gt; | rm &lt;dbl&gt; | age &lt;dbl&gt; | dis &lt;dbl&gt; | rad &lt;dbl&gt; | tax &lt;dbl&gt; | ptratio &lt;dbl&gt; | black &lt;dbl&gt; | lstat &lt;dbl&gt; | medv &lt;dbl&gt; |\n",
       "|---|---|---|---|---|---|---|---|---|---|---|---|---|---|\n",
       "| 0.0000000000 | 0.18 | 0.06781525 | 0 | 0.3148148 | 0.5775053 | 0.6416066 | 0.2692031 | 0.00000000 | 0.20801527 | 0.2872340 | 1.0000000 | 0.08967991 | 0.4222222 |\n",
       "| 0.0002359225 | 0.00 | 0.24230205 | 0 | 0.1728395 | 0.5479977 | 0.7826982 | 0.3489620 | 0.04347826 | 0.10496183 | 0.5531915 | 1.0000000 | 0.20447020 | 0.3688889 |\n",
       "| 0.0002356977 | 0.00 | 0.24230205 | 0 | 0.1728395 | 0.6943859 | 0.5993821 | 0.3489620 | 0.04347826 | 0.10496183 | 0.5531915 | 0.9897373 | 0.06346578 | 0.6600000 |\n",
       "| 0.0002927957 | 0.00 | 0.06304985 | 0 | 0.1502058 | 0.6585553 | 0.4418126 | 0.4485446 | 0.08695652 | 0.06679389 | 0.6489362 | 0.9942761 | 0.03338852 | 0.6311111 |\n",
       "| 0.0007050701 | 0.00 | 0.06304985 | 0 | 0.1502058 | 0.6871048 | 0.5283213 | 0.4485446 | 0.08695652 | 0.06679389 | 0.6489362 | 1.0000000 | 0.09933775 | 0.6933333 |\n",
       "| 0.0002644715 | 0.00 | 0.06304985 | 0 | 0.1502058 | 0.5497222 | 0.5746653 | 0.4485446 | 0.08695652 | 0.06679389 | 0.6489362 | 0.9929901 | 0.09602649 | 0.5266667 |\n",
       "\n"
      ],
      "text/plain": [
       "  crim         zn   indus      chas nox       rm        age       dis      \n",
       "1 0.0000000000 0.18 0.06781525 0    0.3148148 0.5775053 0.6416066 0.2692031\n",
       "2 0.0002359225 0.00 0.24230205 0    0.1728395 0.5479977 0.7826982 0.3489620\n",
       "3 0.0002356977 0.00 0.24230205 0    0.1728395 0.6943859 0.5993821 0.3489620\n",
       "4 0.0002927957 0.00 0.06304985 0    0.1502058 0.6585553 0.4418126 0.4485446\n",
       "5 0.0007050701 0.00 0.06304985 0    0.1502058 0.6871048 0.5283213 0.4485446\n",
       "6 0.0002644715 0.00 0.06304985 0    0.1502058 0.5497222 0.5746653 0.4485446\n",
       "  rad        tax        ptratio   black     lstat      medv     \n",
       "1 0.00000000 0.20801527 0.2872340 1.0000000 0.08967991 0.4222222\n",
       "2 0.04347826 0.10496183 0.5531915 1.0000000 0.20447020 0.3688889\n",
       "3 0.04347826 0.10496183 0.5531915 0.9897373 0.06346578 0.6600000\n",
       "4 0.08695652 0.06679389 0.6489362 0.9942761 0.03338852 0.6311111\n",
       "5 0.08695652 0.06679389 0.6489362 1.0000000 0.09933775 0.6933333\n",
       "6 0.08695652 0.06679389 0.6489362 0.9929901 0.09602649 0.5266667"
      ]
     },
     "metadata": {},
     "output_type": "display_data"
    }
   ],
   "source": [
    "head(scaled)"
   ]
  },
  {
   "cell_type": "markdown",
   "metadata": {},
   "source": [
    "## Train and Test Sets\n",
    "Now with our standardized data, let's split it:"
   ]
  },
  {
   "cell_type": "code",
   "execution_count": 151,
   "metadata": {},
   "outputs": [
    {
     "name": "stderr",
     "output_type": "stream",
     "text": [
      "Warning message:\n",
      "\"package 'caTools' is in use and will not be installed\""
     ]
    }
   ],
   "source": [
    "install.packages('caTools')\n",
    "library(caTools)\n",
    "split = sample.split(scaled$medv, SplitRatio = 0.70)\n",
    "\n",
    "train = subset(scaled, split == TRUE)\n",
    "test = subset(scaled, split == FALSE)"
   ]
  },
  {
   "cell_type": "markdown",
   "metadata": {},
   "source": [
    "## Training the Model"
   ]
  },
  {
   "cell_type": "markdown",
   "metadata": {},
   "source": [
    "#### Formula for Neural Net\n",
    "For some odd reasons, the neuralnet() function won't accept a formula in the form: y~. that we are used to using. Instead you have to call all the columns added together. Here is some convience code to help quickly create that formula:"
   ]
  },
  {
   "cell_type": "code",
   "execution_count": 152,
   "metadata": {},
   "outputs": [],
   "source": [
    "# Get column names\n",
    "n <- names(train)"
   ]
  },
  {
   "cell_type": "code",
   "execution_count": 153,
   "metadata": {},
   "outputs": [
    {
     "data": {
      "text/html": [
       "<ol class=list-inline>\n",
       "\t<li>'crim'</li>\n",
       "\t<li>'zn'</li>\n",
       "\t<li>'indus'</li>\n",
       "\t<li>'chas'</li>\n",
       "\t<li>'nox'</li>\n",
       "\t<li>'rm'</li>\n",
       "\t<li>'age'</li>\n",
       "\t<li>'dis'</li>\n",
       "\t<li>'rad'</li>\n",
       "\t<li>'tax'</li>\n",
       "\t<li>'ptratio'</li>\n",
       "\t<li>'black'</li>\n",
       "\t<li>'lstat'</li>\n",
       "\t<li>'medv'</li>\n",
       "</ol>\n"
      ],
      "text/latex": [
       "\\begin{enumerate*}\n",
       "\\item 'crim'\n",
       "\\item 'zn'\n",
       "\\item 'indus'\n",
       "\\item 'chas'\n",
       "\\item 'nox'\n",
       "\\item 'rm'\n",
       "\\item 'age'\n",
       "\\item 'dis'\n",
       "\\item 'rad'\n",
       "\\item 'tax'\n",
       "\\item 'ptratio'\n",
       "\\item 'black'\n",
       "\\item 'lstat'\n",
       "\\item 'medv'\n",
       "\\end{enumerate*}\n"
      ],
      "text/markdown": [
       "1. 'crim'\n",
       "2. 'zn'\n",
       "3. 'indus'\n",
       "4. 'chas'\n",
       "5. 'nox'\n",
       "6. 'rm'\n",
       "7. 'age'\n",
       "8. 'dis'\n",
       "9. 'rad'\n",
       "10. 'tax'\n",
       "11. 'ptratio'\n",
       "12. 'black'\n",
       "13. 'lstat'\n",
       "14. 'medv'\n",
       "\n",
       "\n"
      ],
      "text/plain": [
       " [1] \"crim\"    \"zn\"      \"indus\"   \"chas\"    \"nox\"     \"rm\"      \"age\"    \n",
       " [8] \"dis\"     \"rad\"     \"tax\"     \"ptratio\" \"black\"   \"lstat\"   \"medv\"   "
      ]
     },
     "metadata": {},
     "output_type": "display_data"
    }
   ],
   "source": [
    "n"
   ]
  },
  {
   "cell_type": "code",
   "execution_count": 154,
   "metadata": {},
   "outputs": [],
   "source": [
    "# Paste together\n",
    "f <- as.formula(paste(\"medv ~\", paste(n[!n %in% \"medv\"], collapse = \" + \")))"
   ]
  },
  {
   "cell_type": "code",
   "execution_count": 155,
   "metadata": {},
   "outputs": [
    {
     "data": {
      "text/plain": [
       "medv ~ crim + zn + indus + chas + nox + rm + age + dis + rad + \n",
       "    tax + ptratio + black + lstat"
      ]
     },
     "metadata": {},
     "output_type": "display_data"
    }
   ],
   "source": [
    "f"
   ]
  },
  {
   "cell_type": "code",
   "execution_count": 156,
   "metadata": {},
   "outputs": [],
   "source": [
    "nn <- neuralnet(f,data=train,hidden=c(5,3),linear.output=TRUE)"
   ]
  },
  {
   "cell_type": "markdown",
   "metadata": {},
   "source": [
    "## Neural Net Visualization\n",
    "You can plot out your model to see a very neat visualization with the weights on each connection.\n",
    "\n",
    "The black lines show the connections between each layer and the weights on each connection while the blue lines show the bias term added in each step. The bias can be thought as the intercept of a linear model. The net is essentially a black box so we cannot say that much about the fitting, the weights and the model. Suffice to say that the training algorithm has converged and therefore the model is ready to be used."
   ]
  },
  {
   "cell_type": "code",
   "execution_count": 165,
   "metadata": {},
   "outputs": [
    {
     "data": {
      "image/png": "[encoded data removed]",
      "text/plain": [
       "plot without title"
      ]
     },
     "metadata": {},
     "output_type": "display_data"
    }
   ],
   "source": [
    "library(neuralnet)\n",
    "plot(nn, rep=\"best\")"
   ]
  },
  {
   "cell_type": "markdown",
   "metadata": {},
   "source": [
    "## Predictions using the Model\n",
    "Now we can try to predict the values for the test set and calculate the MSE. Remember that the net will output a normalized prediction, so we need to scale it back in order to make a meaningful comparison (or just a simple prediction)."
   ]
  },
  {
   "cell_type": "code",
   "execution_count": 166,
   "metadata": {},
   "outputs": [],
   "source": [
    "# Compute Predictions off Test Set\n",
    "predicted.nn.values <- compute(nn,test[1:13])"
   ]
  },
  {
   "cell_type": "code",
   "execution_count": 167,
   "metadata": {},
   "outputs": [
    {
     "name": "stdout",
     "output_type": "stream",
     "text": [
      "List of 2\n",
      " $ neurons   :List of 3\n",
      "  ..$ : num [1:139, 1:14] 1 1 1 1 1 1 1 1 1 1 ...\n",
      "  .. ..- attr(*, \"dimnames\")=List of 2\n",
      "  .. .. ..$ : chr [1:139] \"1\" \"2\" \"8\" \"9\" ...\n",
      "  .. .. ..$ : chr [1:14] \"\" \"crim\" \"zn\" \"indus\" ...\n",
      "  ..$ : num [1:139, 1:6] 1 1 1 1 1 1 1 1 1 1 ...\n",
      "  .. ..- attr(*, \"dimnames\")=List of 2\n",
      "  .. .. ..$ : chr [1:139] \"1\" \"2\" \"8\" \"9\" ...\n",
      "  .. .. ..$ : NULL\n",
      "  ..$ : num [1:139, 1:4] 1 1 1 1 1 1 1 1 1 1 ...\n",
      "  .. ..- attr(*, \"dimnames\")=List of 2\n",
      "  .. .. ..$ : chr [1:139] \"1\" \"2\" \"8\" \"9\" ...\n",
      "  .. .. ..$ : NULL\n",
      " $ net.result: num [1:139, 1] 0.512 0.411 0.324 0.209 0.334 ...\n",
      "  ..- attr(*, \"dimnames\")=List of 2\n",
      "  .. ..$ : chr [1:139] \"1\" \"2\" \"8\" \"9\" ...\n",
      "  .. ..$ : NULL\n"
     ]
    }
   ],
   "source": [
    "# Its a list returned\n",
    "str(predicted.nn.values)"
   ]
  },
  {
   "cell_type": "code",
   "execution_count": 168,
   "metadata": {},
   "outputs": [],
   "source": [
    "# Convert back to non-scaled predictions\n",
    "true.predictions <- predicted.nn.values$net.result*(max(data$medv)-min(data$medv))+min(data$medv)"
   ]
  },
  {
   "cell_type": "code",
   "execution_count": 169,
   "metadata": {},
   "outputs": [],
   "source": [
    "# Convert the test data\n",
    "test.r <- (test$medv)*(max(data$medv)-min(data$medv))+min(data$medv)"
   ]
  },
  {
   "cell_type": "code",
   "execution_count": 170,
   "metadata": {},
   "outputs": [],
   "source": [
    "# Check the Mean Squared Error\n",
    "MSE.nn <- sum((test.r - true.predictions)^2)/nrow(test)"
   ]
  },
  {
   "cell_type": "code",
   "execution_count": 171,
   "metadata": {},
   "outputs": [
    {
     "data": {
      "text/html": [
       "15.1655999548339"
      ],
      "text/latex": [
       "15.1655999548339"
      ],
      "text/markdown": [
       "15.1655999548339"
      ],
      "text/plain": [
       "[1] 15.1656"
      ]
     },
     "metadata": {},
     "output_type": "display_data"
    }
   ],
   "source": [
    "MSE.nn"
   ]
  },
  {
   "cell_type": "markdown",
   "metadata": {},
   "source": [
    "## Visualize Error"
   ]
  },
  {
   "cell_type": "code",
   "execution_count": 172,
   "metadata": {},
   "outputs": [],
   "source": [
    "error.df <- data.frame(test.r,true.predictions)"
   ]
  },
  {
   "cell_type": "code",
   "execution_count": 173,
   "metadata": {},
   "outputs": [
    {
     "data": {
      "text/html": [
       "<table>\n",
       "<caption>A data.frame: 6 × 2</caption>\n",
       "<thead>\n",
       "\t<tr><th></th><th scope=col>test.r</th><th scope=col>true.predictions</th></tr>\n",
       "\t<tr><th></th><th scope=col>&lt;dbl&gt;</th><th scope=col>&lt;dbl&gt;</th></tr>\n",
       "</thead>\n",
       "<tbody>\n",
       "\t<tr><th scope=row>1</th><td>24.0</td><td>28.01789</td></tr>\n",
       "\t<tr><th scope=row>2</th><td>21.6</td><td>23.48092</td></tr>\n",
       "\t<tr><th scope=row>8</th><td>27.1</td><td>19.56681</td></tr>\n",
       "\t<tr><th scope=row>9</th><td>16.5</td><td>14.42056</td></tr>\n",
       "\t<tr><th scope=row>11</th><td>15.0</td><td>20.01032</td></tr>\n",
       "\t<tr><th scope=row>12</th><td>18.9</td><td>20.28283</td></tr>\n",
       "</tbody>\n",
       "</table>\n"
      ],
      "text/latex": [
       "A data.frame: 6 × 2\n",
       "\\begin{tabular}{r|ll}\n",
       "  & test.r & true.predictions\\\\\n",
       "  & <dbl> & <dbl>\\\\\n",
       "\\hline\n",
       "\t1 & 24.0 & 28.01789\\\\\n",
       "\t2 & 21.6 & 23.48092\\\\\n",
       "\t8 & 27.1 & 19.56681\\\\\n",
       "\t9 & 16.5 & 14.42056\\\\\n",
       "\t11 & 15.0 & 20.01032\\\\\n",
       "\t12 & 18.9 & 20.28283\\\\\n",
       "\\end{tabular}\n"
      ],
      "text/markdown": [
       "\n",
       "A data.frame: 6 × 2\n",
       "\n",
       "| <!--/--> | test.r &lt;dbl&gt; | true.predictions &lt;dbl&gt; |\n",
       "|---|---|---|\n",
       "| 1 | 24.0 | 28.01789 |\n",
       "| 2 | 21.6 | 23.48092 |\n",
       "| 8 | 27.1 | 19.56681 |\n",
       "| 9 | 16.5 | 14.42056 |\n",
       "| 11 | 15.0 | 20.01032 |\n",
       "| 12 | 18.9 | 20.28283 |\n",
       "\n"
      ],
      "text/plain": [
       "   test.r true.predictions\n",
       "1  24.0   28.01789        \n",
       "2  21.6   23.48092        \n",
       "8  27.1   19.56681        \n",
       "9  16.5   14.42056        \n",
       "11 15.0   20.01032        \n",
       "12 18.9   20.28283        "
      ]
     },
     "metadata": {},
     "output_type": "display_data"
    }
   ],
   "source": [
    "head(error.df)"
   ]
  },
  {
   "cell_type": "code",
   "execution_count": 174,
   "metadata": {},
   "outputs": [
    {
     "name": "stderr",
     "output_type": "stream",
     "text": [
      "`geom_smooth()` using method = 'loess' and formula 'y ~ x'\n"
     ]
    },
    {
     "data": {
      "image/png": "[encoded data removed]",
      "text/plain": [
       "plot without title"
      ]
     },
     "metadata": {},
     "output_type": "display_data"
    }
   ],
   "source": [
    "library(ggplot2)\n",
    "ggplot(error.df,aes(x=test.r,y=true.predictions)) + geom_point() + stat_smooth()"
   ]
  },
  {
   "cell_type": "markdown",
   "metadata": {},
   "source": [
    "Looks like a few houses threw off our model, but overall its not looking too bad considering we're pretty much treating it like a total black box."
   ]
  },
  {
   "cell_type": "markdown",
   "metadata": {},
   "source": [
    "## Conclusion\n",
    "Neural networks resemble black boxes a lot: explaining their outcome is much more difficult than explaining the outcome of simpler model such as a linear model. Therefore, depending on the kind of application you need, you might want to take into account this factor too. Furthermore, as you have seen above, extra care is needed to fit a neural network and small changes can lead to different results."
   ]
  }
 ],
 "metadata": {
  "kernelspec": {
   "display_name": "R",
   "language": "R",
   "name": "ir"
  },
  "language_info": {
   "codemirror_mode": "r",
   "file_extension": ".r",
   "mimetype": "text/x-r-source",
   "name": "R",
   "pygments_lexer": "r",
   "version": "3.6.1"
  }
 },
 "nbformat": 4,
 "nbformat_minor": 2
}
